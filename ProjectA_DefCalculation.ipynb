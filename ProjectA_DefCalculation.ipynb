{
  "nbformat": 4,
  "nbformat_minor": 0,
  "metadata": {
    "colab": {
      "provenance": []
    },
    "kernelspec": {
      "name": "python3",
      "display_name": "Python 3"
    },
    "language_info": {
      "name": "python"
    }
  },
  "cells": [
    {
      "cell_type": "markdown",
      "source": [
        "Analyze\n",
        "*   Input: list contain 9 numbers => matrix 3-3 => use array and reshape\n",
        "*   Progress: calculate mean, var, std, max, min, sum by row, column and all\n",
        "*   Output: dict contain 6 keys\n",
        "\n"
      ],
      "metadata": {
        "id": "bfIqtc5bCLHz"
      }
    },
    {
      "cell_type": "code",
      "execution_count": 19,
      "metadata": {
        "id": "2k5kMS4F_Vqr"
      },
      "outputs": [],
      "source": [
        "import numpy as np"
      ]
    },
    {
      "cell_type": "code",
      "source": [
        "import numpy as np\n",
        "\n",
        "lists = [12,23,34,45,56,67,78,89,91]\n",
        "len(lists)\n",
        "\n",
        "def calculate(list):\n",
        "  if len(list) != 9:\n",
        "    raise ValueError('List must contain 9 numbers')\n",
        "  matrix = np.array(list).reshape(3,3)\n",
        "  calculatations = {\n",
        "      'mean': [np.mean(matrix, axis=0).tolist(), np.mean(matrix, axis=1).tolist(), np.mean(matrix.flatten()).tolist()],\n",
        "      'variance': [np.var(matrix, axis=0).tolist(), np.var(matrix, axis=1).tolist(), np.var(matrix.flatten()).tolist()],\n",
        "      'standard deviation': [np.std(matrix, axis=0).tolist(), np.std(matrix, axis=1).tolist(), np.std(matrix.flatten()).tolist()],\n",
        "      'max': [np.max(matrix, axis=0).tolist(), np.max(matrix, axis=1).tolist(), np.max(matrix.flatten()).tolist()],\n",
        "      'min': [np.min(matrix, axis=0).tolist(), np.min(matrix, axis=1).tolist(), np.min(matrix.flatten()).tolist()],\n",
        "      'sum': [np.sum(matrix, axis=0).tolist(), np.sum(matrix, axis=1).tolist(), np.sum(matrix.flatten()).tolist()]\n",
        "  }\n",
        "  return calculatations\n",
        "\n",
        "calculate(lists)"
      ],
      "metadata": {
        "colab": {
          "base_uri": "https://localhost:8080/"
        },
        "id": "m5SQaCoYBNwl",
        "outputId": "25cd211a-594e-4dd3-9e0d-0badc1db3dff"
      },
      "execution_count": 29,
      "outputs": [
        {
          "output_type": "execute_result",
          "data": {
            "text/plain": [
              "{'mean': [[45.0, 56.0, 64.0], [23.0, 56.0, 86.0], 55.0],\n",
              " 'variance': [[726.0, 726.0, 546.0],\n",
              "  [80.66666666666667, 80.66666666666667, 32.666666666666664],\n",
              "  726.6666666666666],\n",
              " 'standard deviation': [[26.94438717061496,\n",
              "   26.94438717061496,\n",
              "   23.366642891095847],\n",
              "  [8.981462390204987, 8.981462390204987, 5.715476066494082],\n",
              "  26.956755492207638],\n",
              " 'max': [[78, 89, 91], [34, 67, 91], 91],\n",
              " 'min': [[12, 23, 34], [12, 45, 78], 12],\n",
              " 'sum': [[135, 168, 192], [69, 168, 258], 495]}"
            ]
          },
          "metadata": {},
          "execution_count": 29
        }
      ]
    }
  ]
}