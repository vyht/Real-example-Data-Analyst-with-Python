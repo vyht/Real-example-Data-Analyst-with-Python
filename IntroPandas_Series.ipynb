{
  "nbformat": 4,
  "nbformat_minor": 0,
  "metadata": {
    "colab": {
      "provenance": []
    },
    "kernelspec": {
      "name": "python3",
      "display_name": "Python 3"
    },
    "language_info": {
      "name": "python"
    }
  },
  "cells": [
    {
      "cell_type": "code",
      "execution_count": 1,
      "metadata": {
        "id": "GQ8zh2xj_CPP"
      },
      "outputs": [],
      "source": [
        "import pandas as pd\n",
        "import numpy as np"
      ]
    },
    {
      "cell_type": "markdown",
      "source": [
        "# **SERIES**"
      ],
      "metadata": {
        "id": "GcYX67cyKdXT"
      }
    },
    {
      "cell_type": "code",
      "source": [
        "g7_pop = pd.Series([35.467, 63.951, 80.940, 60.665, 127.061, 64.511, 318.523])\n",
        "g7_pop.name = 'G7 Population in millions' # đặt tên\n",
        "print(g7_pop) # cách code series giống array của numpy nhưng kết quả xuất ra sẽ được trình bày theo hàng dọc\n",
        "\n"
      ],
      "metadata": {
        "colab": {
          "base_uri": "https://localhost:8080/"
        },
        "id": "FaRzeJfMDMdQ",
        "outputId": "03eead22-fed4-4b9b-e76b-6c7eddf3f9da"
      },
      "execution_count": 6,
      "outputs": [
        {
          "output_type": "stream",
          "name": "stdout",
          "text": [
            "0     35.467\n",
            "1     63.951\n",
            "2     80.940\n",
            "3     60.665\n",
            "4    127.061\n",
            "5     64.511\n",
            "6    318.523\n",
            "Name: G7 Population in millions, dtype: float64\n"
          ]
        }
      ]
    },
    {
      "cell_type": "code",
      "source": [
        "print(g7_pop.dtype) # kiểu dữ liệu => all numbers of Series is float64\n",
        "print(g7_pop.values) # trình bày các giá trị theo dạng array\n",
        "print(type(g7_pop.values)) # kiểu trình bày của values là array"
      ],
      "metadata": {
        "colab": {
          "base_uri": "https://localhost:8080/"
        },
        "id": "eihRD7ZcDMf7",
        "outputId": "a2ef10b9-3949-41d7-f8af-1d2afb61bac9"
      },
      "execution_count": 14,
      "outputs": [
        {
          "output_type": "stream",
          "name": "stdout",
          "text": [
            "float64\n",
            "[ 35.467  63.951  80.94   60.665 127.061  64.511 318.523]\n",
            "<class 'numpy.ndarray'>\n"
          ]
        }
      ]
    },
    {
      "cell_type": "code",
      "source": [
        "print(g7_pop[0]) # hàng vị trí 0\n",
        "print(g7_pop[1]) # hàng vị trí 1\n",
        "print(g7_pop.index) # kết quả trả về start stop step"
      ],
      "metadata": {
        "colab": {
          "base_uri": "https://localhost:8080/"
        },
        "id": "-9jSRJb4DMia",
        "outputId": "66242155-39fd-406b-f77e-a593b5786c34"
      },
      "execution_count": 16,
      "outputs": [
        {
          "output_type": "stream",
          "name": "stdout",
          "text": [
            "35.467\n",
            "63.951\n",
            "RangeIndex(start=0, stop=7, step=1)\n"
          ]
        }
      ]
    },
    {
      "cell_type": "code",
      "source": [
        "g7_pop.index = ['Cana', 'France', 'Germany', 'Italy', 'Japan', 'United Kingdom', 'United States'] # đổi tên index thành các nước thay vì 0,1,2...\n",
        "print(g7_pop)"
      ],
      "metadata": {
        "colab": {
          "base_uri": "https://localhost:8080/"
        },
        "id": "4wgpvV6fDMk3",
        "outputId": "94f13ea0-89cb-4daf-8fb8-97e993386bca"
      },
      "execution_count": 17,
      "outputs": [
        {
          "output_type": "stream",
          "name": "stdout",
          "text": [
            "Cana               35.467\n",
            "France             63.951\n",
            "Germany            80.940\n",
            "Italy              60.665\n",
            "Japan             127.061\n",
            "United Kingdom     64.511\n",
            "United States     318.523\n",
            "Name: G7 Population in millions, dtype: float64\n"
          ]
        }
      ]
    },
    {
      "cell_type": "code",
      "source": [
        "# tạo series đầy đủ - c1\n",
        "g7_population = pd.Series([35.467, 63.951, 80.940, 60.665, 127.061, 64.511, 318.523],index = ['Cana', 'France', 'Germany', 'Italy', 'Japan', 'United Kingdom', 'United States'],name = 'G7 Population in millions')\n",
        "print(g7_population)"
      ],
      "metadata": {
        "colab": {
          "base_uri": "https://localhost:8080/"
        },
        "id": "lZuRXGOjE9Ud",
        "outputId": "a288e123-19c9-4db0-f81a-cb70bc647f75"
      },
      "execution_count": 19,
      "outputs": [
        {
          "output_type": "stream",
          "name": "stdout",
          "text": [
            "Cana               35.467\n",
            "France             63.951\n",
            "Germany            80.940\n",
            "Italy              60.665\n",
            "Japan             127.061\n",
            "United Kingdom     64.511\n",
            "United States     318.523\n",
            "Name: G7 Population in millions, dtype: float64\n"
          ]
        }
      ]
    },
    {
      "cell_type": "code",
      "source": [
        "# tạo series đầy đủ - c2\n",
        "g7pop = pd.Series({'Canada':35.467, 'France': 63.951, 'Germany': 80.94, 'Italy': 60.665, 'Japan': 127.061, 'United Kingdom':64.511, 'United States': 318.523}, name = 'G7 Population in millions')\n",
        "print(g7pop)"
      ],
      "metadata": {
        "colab": {
          "base_uri": "https://localhost:8080/"
        },
        "id": "Pwd2k9UbE9qJ",
        "outputId": "def7824e-b5aa-482f-a127-cb42d730c44b"
      },
      "execution_count": 20,
      "outputs": [
        {
          "output_type": "stream",
          "name": "stdout",
          "text": [
            "Canada             35.467\n",
            "France             63.951\n",
            "Germany            80.940\n",
            "Italy              60.665\n",
            "Japan             127.061\n",
            "United Kingdom     64.511\n",
            "United States     318.523\n",
            "Name: G7 Population in millions, dtype: float64\n"
          ]
        }
      ]
    },
    {
      "cell_type": "markdown",
      "source": [
        "###INDEXING"
      ],
      "metadata": {
        "id": "nc1A7socLt0Y"
      }
    },
    {
      "cell_type": "code",
      "source": [
        "# khi đổi tên indexing thì code cũng phải đổi\n",
        "print(g7pop['Canada'])\n",
        "print(g7pop['Japan'])\n",
        "print(g7pop.iloc[0]) # truy cập bằng vị trí"
      ],
      "metadata": {
        "colab": {
          "base_uri": "https://localhost:8080/"
        },
        "id": "MFPzUS9BE9sm",
        "outputId": "ebb2c9d6-08ca-4195-d50e-a19534735381"
      },
      "execution_count": 24,
      "outputs": [
        {
          "output_type": "stream",
          "name": "stdout",
          "text": [
            "35.467\n",
            "127.061\n",
            "35.467\n"
          ]
        }
      ]
    },
    {
      "cell_type": "code",
      "source": [
        "print(g7pop[['Canada','Japan']]) # Chọn Canada và Japan"
      ],
      "metadata": {
        "colab": {
          "base_uri": "https://localhost:8080/"
        },
        "id": "lpgQXLMsE9u9",
        "outputId": "e24876cb-ac5c-4b41-dd18-c7352ce61b11"
      },
      "execution_count": 25,
      "outputs": [
        {
          "output_type": "stream",
          "name": "stdout",
          "text": [
            "Canada     35.467\n",
            "Japan     127.061\n",
            "Name: G7 Population in millions, dtype: float64\n"
          ]
        }
      ]
    },
    {
      "cell_type": "code",
      "source": [
        "print(g7pop['Canada':'Italy']) # từ Canada đến Italy"
      ],
      "metadata": {
        "colab": {
          "base_uri": "https://localhost:8080/"
        },
        "id": "MwcwPPRgGmfX",
        "outputId": "fee99281-572f-48c2-e708-29d4ae5a33c2"
      },
      "execution_count": 30,
      "outputs": [
        {
          "output_type": "stream",
          "name": "stdout",
          "text": [
            "Canada     35.467\n",
            "France     63.951\n",
            "Germany    80.940\n",
            "Italy      60.665\n",
            "Name: G7 Population in millions, dtype: float64\n"
          ]
        }
      ]
    },
    {
      "cell_type": "code",
      "source": [
        "print(g7pop.iloc[[0,1]]) # chọn 0 và 1"
      ],
      "metadata": {
        "colab": {
          "base_uri": "https://localhost:8080/"
        },
        "id": "QvmYoxIIGmSI",
        "outputId": "55a4e4c7-d454-4aea-e5b1-6b11a8d17e4e"
      },
      "execution_count": 29,
      "outputs": [
        {
          "output_type": "stream",
          "name": "stdout",
          "text": [
            "Canada    35.467\n",
            "France    63.951\n",
            "Name: G7 Population in millions, dtype: float64\n"
          ]
        }
      ]
    },
    {
      "cell_type": "code",
      "source": [
        "print(g7pop.iloc[0:1]) # chọn 0 (khác với index bằng tên)"
      ],
      "metadata": {
        "colab": {
          "base_uri": "https://localhost:8080/"
        },
        "id": "9pz6ZoQrHDFD",
        "outputId": "940c4241-36c5-413c-cb0a-88dd4288b90c"
      },
      "execution_count": 32,
      "outputs": [
        {
          "output_type": "stream",
          "name": "stdout",
          "text": [
            "Canada    35.467\n",
            "Name: G7 Population in millions, dtype: float64\n"
          ]
        }
      ]
    },
    {
      "cell_type": "markdown",
      "source": [
        "###CONDITION SELECTION (BOOLEAN ARRAYS)"
      ],
      "metadata": {
        "id": "ikwpzLQXHswI"
      }
    },
    {
      "cell_type": "code",
      "source": [
        "g7_pop"
      ],
      "metadata": {
        "colab": {
          "base_uri": "https://localhost:8080/",
          "height": 304
        },
        "id": "2LzwYwPxHzu-",
        "outputId": "a796d057-f582-4d12-dd69-27e5b7d4b041"
      },
      "execution_count": 35,
      "outputs": [
        {
          "output_type": "execute_result",
          "data": {
            "text/plain": [
              "Cana               35.467\n",
              "France             63.951\n",
              "Germany            80.940\n",
              "Italy              60.665\n",
              "Japan             127.061\n",
              "United Kingdom     64.511\n",
              "United States     318.523\n",
              "Name: G7 Population in millions, dtype: float64"
            ],
            "text/html": [
              "<div>\n",
              "<style scoped>\n",
              "    .dataframe tbody tr th:only-of-type {\n",
              "        vertical-align: middle;\n",
              "    }\n",
              "\n",
              "    .dataframe tbody tr th {\n",
              "        vertical-align: top;\n",
              "    }\n",
              "\n",
              "    .dataframe thead th {\n",
              "        text-align: right;\n",
              "    }\n",
              "</style>\n",
              "<table border=\"1\" class=\"dataframe\">\n",
              "  <thead>\n",
              "    <tr style=\"text-align: right;\">\n",
              "      <th></th>\n",
              "      <th>G7 Population in millions</th>\n",
              "    </tr>\n",
              "  </thead>\n",
              "  <tbody>\n",
              "    <tr>\n",
              "      <th>Cana</th>\n",
              "      <td>35.467</td>\n",
              "    </tr>\n",
              "    <tr>\n",
              "      <th>France</th>\n",
              "      <td>63.951</td>\n",
              "    </tr>\n",
              "    <tr>\n",
              "      <th>Germany</th>\n",
              "      <td>80.940</td>\n",
              "    </tr>\n",
              "    <tr>\n",
              "      <th>Italy</th>\n",
              "      <td>60.665</td>\n",
              "    </tr>\n",
              "    <tr>\n",
              "      <th>Japan</th>\n",
              "      <td>127.061</td>\n",
              "    </tr>\n",
              "    <tr>\n",
              "      <th>United Kingdom</th>\n",
              "      <td>64.511</td>\n",
              "    </tr>\n",
              "    <tr>\n",
              "      <th>United States</th>\n",
              "      <td>318.523</td>\n",
              "    </tr>\n",
              "  </tbody>\n",
              "</table>\n",
              "</div><br><label><b>dtype:</b> float64</label>"
            ]
          },
          "metadata": {},
          "execution_count": 35
        }
      ]
    },
    {
      "cell_type": "code",
      "source": [
        "g7_pop > 70 # kiểm tra đúng/sai dựa trên điều kiện >70"
      ],
      "metadata": {
        "colab": {
          "base_uri": "https://localhost:8080/",
          "height": 304
        },
        "id": "7bxmdNahHzxd",
        "outputId": "c0883b23-e240-44a0-cc10-c3681fc5608a"
      },
      "execution_count": 37,
      "outputs": [
        {
          "output_type": "execute_result",
          "data": {
            "text/plain": [
              "Cana              False\n",
              "France            False\n",
              "Germany            True\n",
              "Italy             False\n",
              "Japan              True\n",
              "United Kingdom    False\n",
              "United States      True\n",
              "Name: G7 Population in millions, dtype: bool"
            ],
            "text/html": [
              "<div>\n",
              "<style scoped>\n",
              "    .dataframe tbody tr th:only-of-type {\n",
              "        vertical-align: middle;\n",
              "    }\n",
              "\n",
              "    .dataframe tbody tr th {\n",
              "        vertical-align: top;\n",
              "    }\n",
              "\n",
              "    .dataframe thead th {\n",
              "        text-align: right;\n",
              "    }\n",
              "</style>\n",
              "<table border=\"1\" class=\"dataframe\">\n",
              "  <thead>\n",
              "    <tr style=\"text-align: right;\">\n",
              "      <th></th>\n",
              "      <th>G7 Population in millions</th>\n",
              "    </tr>\n",
              "  </thead>\n",
              "  <tbody>\n",
              "    <tr>\n",
              "      <th>Cana</th>\n",
              "      <td>False</td>\n",
              "    </tr>\n",
              "    <tr>\n",
              "      <th>France</th>\n",
              "      <td>False</td>\n",
              "    </tr>\n",
              "    <tr>\n",
              "      <th>Germany</th>\n",
              "      <td>True</td>\n",
              "    </tr>\n",
              "    <tr>\n",
              "      <th>Italy</th>\n",
              "      <td>False</td>\n",
              "    </tr>\n",
              "    <tr>\n",
              "      <th>Japan</th>\n",
              "      <td>True</td>\n",
              "    </tr>\n",
              "    <tr>\n",
              "      <th>United Kingdom</th>\n",
              "      <td>False</td>\n",
              "    </tr>\n",
              "    <tr>\n",
              "      <th>United States</th>\n",
              "      <td>True</td>\n",
              "    </tr>\n",
              "  </tbody>\n",
              "</table>\n",
              "</div><br><label><b>dtype:</b> bool</label>"
            ]
          },
          "metadata": {},
          "execution_count": 37
        }
      ]
    },
    {
      "cell_type": "code",
      "source": [
        "g7_pop[g7_pop>70] # chọn những quốc gia đạt điều kiện >70"
      ],
      "metadata": {
        "colab": {
          "base_uri": "https://localhost:8080/",
          "height": 178
        },
        "id": "c3JRHWRBHzz-",
        "outputId": "b38b0e76-875e-4ce9-be24-db751fafd68d"
      },
      "execution_count": 38,
      "outputs": [
        {
          "output_type": "execute_result",
          "data": {
            "text/plain": [
              "Germany           80.940\n",
              "Japan            127.061\n",
              "United States    318.523\n",
              "Name: G7 Population in millions, dtype: float64"
            ],
            "text/html": [
              "<div>\n",
              "<style scoped>\n",
              "    .dataframe tbody tr th:only-of-type {\n",
              "        vertical-align: middle;\n",
              "    }\n",
              "\n",
              "    .dataframe tbody tr th {\n",
              "        vertical-align: top;\n",
              "    }\n",
              "\n",
              "    .dataframe thead th {\n",
              "        text-align: right;\n",
              "    }\n",
              "</style>\n",
              "<table border=\"1\" class=\"dataframe\">\n",
              "  <thead>\n",
              "    <tr style=\"text-align: right;\">\n",
              "      <th></th>\n",
              "      <th>G7 Population in millions</th>\n",
              "    </tr>\n",
              "  </thead>\n",
              "  <tbody>\n",
              "    <tr>\n",
              "      <th>Germany</th>\n",
              "      <td>80.940</td>\n",
              "    </tr>\n",
              "    <tr>\n",
              "      <th>Japan</th>\n",
              "      <td>127.061</td>\n",
              "    </tr>\n",
              "    <tr>\n",
              "      <th>United States</th>\n",
              "      <td>318.523</td>\n",
              "    </tr>\n",
              "  </tbody>\n",
              "</table>\n",
              "</div><br><label><b>dtype:</b> float64</label>"
            ]
          },
          "metadata": {},
          "execution_count": 38
        }
      ]
    },
    {
      "cell_type": "code",
      "source": [
        "g7_pop[g7_pop>g7_pop.mean()]"
      ],
      "metadata": {
        "colab": {
          "base_uri": "https://localhost:8080/",
          "height": 147
        },
        "id": "IMm_fxKzHz21",
        "outputId": "4165215f-8096-429b-d075-84e7befb9fe0"
      },
      "execution_count": 39,
      "outputs": [
        {
          "output_type": "execute_result",
          "data": {
            "text/plain": [
              "Japan            127.061\n",
              "United States    318.523\n",
              "Name: G7 Population in millions, dtype: float64"
            ],
            "text/html": [
              "<div>\n",
              "<style scoped>\n",
              "    .dataframe tbody tr th:only-of-type {\n",
              "        vertical-align: middle;\n",
              "    }\n",
              "\n",
              "    .dataframe tbody tr th {\n",
              "        vertical-align: top;\n",
              "    }\n",
              "\n",
              "    .dataframe thead th {\n",
              "        text-align: right;\n",
              "    }\n",
              "</style>\n",
              "<table border=\"1\" class=\"dataframe\">\n",
              "  <thead>\n",
              "    <tr style=\"text-align: right;\">\n",
              "      <th></th>\n",
              "      <th>G7 Population in millions</th>\n",
              "    </tr>\n",
              "  </thead>\n",
              "  <tbody>\n",
              "    <tr>\n",
              "      <th>Japan</th>\n",
              "      <td>127.061</td>\n",
              "    </tr>\n",
              "    <tr>\n",
              "      <th>United States</th>\n",
              "      <td>318.523</td>\n",
              "    </tr>\n",
              "  </tbody>\n",
              "</table>\n",
              "</div><br><label><b>dtype:</b> float64</label>"
            ]
          },
          "metadata": {},
          "execution_count": 39
        }
      ]
    },
    {
      "cell_type": "markdown",
      "source": [
        "Ký hiệu trong code điều kiện\n",
        "*   not: ~\n",
        "*   or: |\n",
        "*   and: &"
      ],
      "metadata": {
        "id": "i9DiHExVJen8"
      }
    },
    {
      "cell_type": "code",
      "source": [
        "print((g7_pop > 70) | (g7_pop < 40))"
      ],
      "metadata": {
        "colab": {
          "base_uri": "https://localhost:8080/"
        },
        "id": "XSjKoigLHz5Y",
        "outputId": "6d4e361a-01d3-4a2f-ec61-cbdbcadb8350"
      },
      "execution_count": 44,
      "outputs": [
        {
          "output_type": "stream",
          "name": "stdout",
          "text": [
            "Cana               True\n",
            "France            False\n",
            "Germany            True\n",
            "Italy             False\n",
            "Japan              True\n",
            "United Kingdom    False\n",
            "United States      True\n",
            "Name: G7 Population in millions, dtype: bool\n"
          ]
        }
      ]
    },
    {
      "cell_type": "markdown",
      "source": [
        "###SERIES EXERCISES"
      ],
      "metadata": {
        "id": "55VzlFafKpcw"
      }
    },
    {
      "cell_type": "markdown",
      "source": [
        "Create an empty pandas Series"
      ],
      "metadata": {
        "id": "D_J5XqBJMSQx"
      }
    },
    {
      "cell_type": "code",
      "source": [
        "a = pd.Series()\n",
        "print(a)"
      ],
      "metadata": {
        "colab": {
          "base_uri": "https://localhost:8080/"
        },
        "id": "dMOPPWSaKpBx",
        "outputId": "86fe0766-789c-48e4-9279-f4f25a71e9c6"
      },
      "execution_count": 46,
      "outputs": [
        {
          "output_type": "stream",
          "name": "stdout",
          "text": [
            "Series([], dtype: object)\n"
          ]
        }
      ]
    },
    {
      "cell_type": "markdown",
      "source": [
        "Given the X python list convert it to an Y pandas Series"
      ],
      "metadata": {
        "id": "f-TkZOdAMj4A"
      }
    },
    {
      "cell_type": "code",
      "source": [
        "x = ['a','b','c']\n",
        "print(type(x))\n",
        "y = pd.Series(x)\n",
        "print(type(y))"
      ],
      "metadata": {
        "colab": {
          "base_uri": "https://localhost:8080/"
        },
        "id": "U3_koT5kKp7V",
        "outputId": "e56c0a7e-4eec-490f-a649-5bf7430ec2be"
      },
      "execution_count": 48,
      "outputs": [
        {
          "output_type": "stream",
          "name": "stdout",
          "text": [
            "<class 'list'>\n",
            "<class 'pandas.core.series.Series'>\n"
          ]
        }
      ]
    },
    {
      "cell_type": "markdown",
      "source": [
        "Given the X pandas Series, name it 'My letters', show its values"
      ],
      "metadata": {
        "id": "3CTyr1SUM3yO"
      }
    },
    {
      "cell_type": "code",
      "source": [
        "X = pd.Series(['h','a','t','h','a','o','v','y'])\n",
        "X.name = 'My letters'\n",
        "print(X)\n",
        "print(X.values)"
      ],
      "metadata": {
        "colab": {
          "base_uri": "https://localhost:8080/"
        },
        "id": "Z7yPYeo0Kp-Q",
        "outputId": "b689b4d8-0aad-4603-ad22-e6ba2b1534a8"
      },
      "execution_count": 50,
      "outputs": [
        {
          "output_type": "stream",
          "name": "stdout",
          "text": [
            "0    h\n",
            "1    a\n",
            "2    t\n",
            "3    h\n",
            "4    a\n",
            "5    o\n",
            "6    v\n",
            "7    y\n",
            "Name: My letters, dtype: object\n",
            "['h' 'a' 't' 'h' 'a' 'o' 'v' 'y']\n"
          ]
        }
      ]
    },
    {
      "cell_type": "markdown",
      "source": [
        "\n",
        "Assign index names to the given X pandas Series"
      ],
      "metadata": {
        "id": "9f8_XSv4Nzua"
      }
    },
    {
      "cell_type": "code",
      "source": [
        "xindex = ['1st','2nd','3rd','4th','5th','6th','7th','8th']\n",
        "X.index = xindex\n",
        "print(X)"
      ],
      "metadata": {
        "colab": {
          "base_uri": "https://localhost:8080/"
        },
        "id": "EpSr8E4VKqCm",
        "outputId": "f2c2d297-b84d-4238-98cd-b473dcc6c43f"
      },
      "execution_count": 51,
      "outputs": [
        {
          "output_type": "stream",
          "name": "stdout",
          "text": [
            "1st    h\n",
            "2nd    a\n",
            "3rd    t\n",
            "4th    h\n",
            "5th    a\n",
            "6th    o\n",
            "7th    v\n",
            "8th    y\n",
            "Name: My letters, dtype: object\n"
          ]
        }
      ]
    },
    {
      "cell_type": "markdown",
      "source": [
        "Given the X pandas Series, show its first and last element"
      ],
      "metadata": {
        "id": "Ro76HpLrOYCo"
      }
    },
    {
      "cell_type": "code",
      "source": [
        "print(X.iloc[0])\n",
        "print(X.iloc[-1])\n",
        "print(X['1st'])\n",
        "print(X['8th'])"
      ],
      "metadata": {
        "colab": {
          "base_uri": "https://localhost:8080/"
        },
        "id": "PMpl4iUEKqFD",
        "outputId": "a9f8e44e-6070-4918-d7c3-4644d84d596f"
      },
      "execution_count": 56,
      "outputs": [
        {
          "output_type": "stream",
          "name": "stdout",
          "text": [
            "h\n",
            "y\n",
            "h\n",
            "y\n"
          ]
        }
      ]
    },
    {
      "cell_type": "markdown",
      "source": [
        "Given the X pandas Series, show all middle elements"
      ],
      "metadata": {
        "id": "azNRD7YNOvou"
      }
    },
    {
      "cell_type": "code",
      "source": [
        "print(X.iloc[1:-1])"
      ],
      "metadata": {
        "colab": {
          "base_uri": "https://localhost:8080/"
        },
        "id": "M-IbWm6tKqH4",
        "outputId": "ee2bc633-d001-466a-cad2-f4eacd589d22"
      },
      "execution_count": 57,
      "outputs": [
        {
          "output_type": "stream",
          "name": "stdout",
          "text": [
            "2nd    a\n",
            "3rd    t\n",
            "4th    h\n",
            "5th    a\n",
            "6th    o\n",
            "7th    v\n",
            "Name: My letters, dtype: object\n"
          ]
        }
      ]
    },
    {
      "cell_type": "markdown",
      "source": [
        "Given the X pandas Series, show the elements in reverse position (ngược)"
      ],
      "metadata": {
        "id": "iUpUFV1pPG3b"
      }
    },
    {
      "cell_type": "code",
      "source": [
        "print(X.iloc[::-1])"
      ],
      "metadata": {
        "colab": {
          "base_uri": "https://localhost:8080/"
        },
        "id": "bA_92ZoNKqKT",
        "outputId": "2d363fe9-3db7-42b0-a5ea-2902e39297fe"
      },
      "execution_count": 58,
      "outputs": [
        {
          "output_type": "stream",
          "name": "stdout",
          "text": [
            "8th    y\n",
            "7th    v\n",
            "6th    o\n",
            "5th    a\n",
            "4th    h\n",
            "3rd    t\n",
            "2nd    a\n",
            "1st    h\n",
            "Name: My letters, dtype: object\n"
          ]
        }
      ]
    },
    {
      "cell_type": "markdown",
      "source": [
        "Convert the given integer pandas Series to float"
      ],
      "metadata": {
        "id": "Sa-7L3SfPSvJ"
      }
    },
    {
      "cell_type": "code",
      "source": [
        "number = pd.Series([1,2,3,4,5,6])\n",
        "number = pd.Series(number, dtype=float)\n",
        "number.dtype"
      ],
      "metadata": {
        "colab": {
          "base_uri": "https://localhost:8080/"
        },
        "id": "ADR4dlQJPNQL",
        "outputId": "8cb11c8b-e82d-4817-842c-067615a00842"
      },
      "execution_count": 74,
      "outputs": [
        {
          "output_type": "execute_result",
          "data": {
            "text/plain": [
              "dtype('float64')"
            ]
          },
          "metadata": {},
          "execution_count": 74
        }
      ]
    },
    {
      "cell_type": "markdown",
      "source": [
        "Order (sort) the given pandas Series"
      ],
      "metadata": {
        "id": "bum8Pq4wQrxB"
      }
    },
    {
      "cell_type": "code",
      "source": [
        "number1 = pd.Series([4,6,8,2,1,9,6,3])\n",
        "number1= number1.sort_values()\n",
        "print(number1)"
      ],
      "metadata": {
        "colab": {
          "base_uri": "https://localhost:8080/"
        },
        "id": "aBslr5r9Qr9k",
        "outputId": "0cef4163-d2d6-4b12-8b10-1cd955770d76"
      },
      "execution_count": 75,
      "outputs": [
        {
          "output_type": "stream",
          "name": "stdout",
          "text": [
            "4    1\n",
            "3    2\n",
            "7    3\n",
            "0    4\n",
            "6    6\n",
            "1    6\n",
            "2    8\n",
            "5    9\n",
            "dtype: int64\n"
          ]
        }
      ]
    },
    {
      "cell_type": "markdown",
      "source": [
        " Set the fifth element equal to 10"
      ],
      "metadata": {
        "id": "tKqTWJ3HQsJJ"
      }
    },
    {
      "cell_type": "code",
      "source": [
        "number1[4] = 10\n",
        "print(number1)"
      ],
      "metadata": {
        "colab": {
          "base_uri": "https://localhost:8080/"
        },
        "id": "Z9m_CZweQsQ4",
        "outputId": "a4ece45b-2dc8-4d90-d59b-7005f5c95339"
      },
      "execution_count": 76,
      "outputs": [
        {
          "output_type": "stream",
          "name": "stdout",
          "text": [
            "4    10\n",
            "3     2\n",
            "7     3\n",
            "0     4\n",
            "6     6\n",
            "1     6\n",
            "2     8\n",
            "5     9\n",
            "dtype: int64\n"
          ]
        }
      ]
    },
    {
      "cell_type": "markdown",
      "source": [
        "Change all the middle elements to 0"
      ],
      "metadata": {
        "id": "cQEH6ebsQsW3"
      }
    },
    {
      "cell_type": "code",
      "source": [
        "number1[1:-1] = 0\n",
        "print(number1)"
      ],
      "metadata": {
        "colab": {
          "base_uri": "https://localhost:8080/"
        },
        "id": "wy1fAWr3Qse8",
        "outputId": "03b952bd-d920-46f9-aaee-0230f97ab790"
      },
      "execution_count": 77,
      "outputs": [
        {
          "output_type": "stream",
          "name": "stdout",
          "text": [
            "4    10\n",
            "3     0\n",
            "7     0\n",
            "0     0\n",
            "6     0\n",
            "1     0\n",
            "2     0\n",
            "5     9\n",
            "dtype: int64\n"
          ]
        }
      ]
    },
    {
      "cell_type": "markdown",
      "source": [
        "Add 5 to every element"
      ],
      "metadata": {
        "id": "Hy_fH_wgQsp1"
      }
    },
    {
      "cell_type": "code",
      "source": [
        "print(number1+5)"
      ],
      "metadata": {
        "colab": {
          "base_uri": "https://localhost:8080/"
        },
        "id": "EpYf8ym0Qsw4",
        "outputId": "53a0831a-75f5-4103-d257-4c693451a561"
      },
      "execution_count": 78,
      "outputs": [
        {
          "output_type": "stream",
          "name": "stdout",
          "text": [
            "4    15\n",
            "3     5\n",
            "7     5\n",
            "0     5\n",
            "6     5\n",
            "1     5\n",
            "2     5\n",
            "5    14\n",
            "dtype: int64\n"
          ]
        }
      ]
    },
    {
      "cell_type": "markdown",
      "source": [
        "Given the X pandas Series, return True if none of its elements is zero"
      ],
      "metadata": {
        "id": "2DsMONPtQtvA"
      }
    },
    {
      "cell_type": "code",
      "source": [
        "number2 = pd.Series([-1,2,0,-4,5,6,0,0,-9,10])\n",
        "number2.all() # xác định đúng nếu không có phần tử = 0"
      ],
      "metadata": {
        "colab": {
          "base_uri": "https://localhost:8080/"
        },
        "id": "Vk8KfSz3Qs_4",
        "outputId": "0c83ecb9-f39d-4ee6-afb0-051295cf7319"
      },
      "execution_count": 79,
      "outputs": [
        {
          "output_type": "execute_result",
          "data": {
            "text/plain": [
              "np.False_"
            ]
          },
          "metadata": {},
          "execution_count": 79
        }
      ]
    },
    {
      "cell_type": "markdown",
      "source": [
        "Given the X pandas Series, return True if any of its elements is zero"
      ],
      "metadata": {
        "id": "bFya55uJR2Mi"
      }
    },
    {
      "cell_type": "code",
      "source": [],
      "metadata": {
        "id": "yOUXkGlRSaKh"
      },
      "execution_count": null,
      "outputs": []
    }
  ]
}