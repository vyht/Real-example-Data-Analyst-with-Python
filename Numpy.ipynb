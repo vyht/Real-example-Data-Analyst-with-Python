{
  "nbformat": 4,
  "nbformat_minor": 0,
  "metadata": {
    "colab": {
      "provenance": []
    },
    "kernelspec": {
      "name": "python3",
      "display_name": "Python 3"
    },
    "language_info": {
      "name": "python"
    }
  },
  "cells": [
    {
      "cell_type": "markdown",
      "source": [
        "#**NUMPY ARRAY**"
      ],
      "metadata": {
        "id": "k0via7SZFXaA"
      }
    },
    {
      "cell_type": "code",
      "execution_count": null,
      "metadata": {
        "id": "tPcfEdiXA7uz"
      },
      "outputs": [],
      "source": [
        "import numpy as np\n",
        "import sys"
      ]
    },
    {
      "cell_type": "markdown",
      "source": [
        "# BASIC NUMPY ARRAYS\n",
        "array trong numpy được sử dụng để tạo ra một mảng dữ liệu từ list [], tuple ()hoặc dạng dữ liệu tương tự"
      ],
      "metadata": {
        "id": "Dsjc78y8FoKJ"
      }
    },
    {
      "cell_type": "code",
      "source": [
        "a = np.array([1,2,3,4])\n",
        "print(a)"
      ],
      "metadata": {
        "colab": {
          "base_uri": "https://localhost:8080/"
        },
        "id": "q3tkhG2kFnTV",
        "outputId": "37bb1096-55b2-49dd-c1bc-877233e8813e"
      },
      "execution_count": null,
      "outputs": [
        {
          "output_type": "stream",
          "name": "stdout",
          "text": [
            "[1 2 3 4]\n"
          ]
        }
      ]
    },
    {
      "cell_type": "code",
      "source": [
        "print(a[0], a[1])"
      ],
      "metadata": {
        "colab": {
          "base_uri": "https://localhost:8080/"
        },
        "id": "eZWdFYYXFnVx",
        "outputId": "fe12d395-828b-48a7-af0a-bc0b0334f3f8"
      },
      "execution_count": null,
      "outputs": [
        {
          "output_type": "stream",
          "name": "stdout",
          "text": [
            "1 2\n"
          ]
        }
      ]
    },
    {
      "cell_type": "code",
      "source": [
        "print(a[0:]) # từ số đầu tiên đến cuối cùng"
      ],
      "metadata": {
        "colab": {
          "base_uri": "https://localhost:8080/"
        },
        "id": "0b7SDsuRFnYQ",
        "outputId": "8239ac32-d6b6-4428-bb7f-641cb4976eb3"
      },
      "execution_count": null,
      "outputs": [
        {
          "output_type": "stream",
          "name": "stdout",
          "text": [
            "[1 2 3 4]\n"
          ]
        }
      ]
    },
    {
      "cell_type": "code",
      "source": [
        "print(a[1:3]) # từ số vị trí 1 đến số vị trí 3-1"
      ],
      "metadata": {
        "colab": {
          "base_uri": "https://localhost:8080/"
        },
        "id": "L0Fr8j-qFna2",
        "outputId": "04efe10c-2d67-44f1-e820-c94adeb5d0e8"
      },
      "execution_count": null,
      "outputs": [
        {
          "output_type": "stream",
          "name": "stdout",
          "text": [
            "[2 3]\n"
          ]
        }
      ]
    },
    {
      "cell_type": "code",
      "source": [
        "print(a[1:-1]) # từ số vị trí 1 đến số vị trí -1-1"
      ],
      "metadata": {
        "colab": {
          "base_uri": "https://localhost:8080/"
        },
        "id": "Pl9WJOO5FngN",
        "outputId": "335943f0-bfd0-4486-ef62-f7a9effe290e"
      },
      "execution_count": null,
      "outputs": [
        {
          "output_type": "stream",
          "name": "stdout",
          "text": [
            "[2 3]\n"
          ]
        }
      ]
    },
    {
      "cell_type": "code",
      "source": [
        "a.dtype # kiểu array"
      ],
      "metadata": {
        "colab": {
          "base_uri": "https://localhost:8080/"
        },
        "id": "DCYsTg5ZG_At",
        "outputId": "be1d48cf-f696-476a-98b3-ee588017afc0"
      },
      "execution_count": null,
      "outputs": [
        {
          "output_type": "execute_result",
          "data": {
            "text/plain": [
              "dtype('int64')"
            ]
          },
          "metadata": {},
          "execution_count": 12
        }
      ]
    },
    {
      "cell_type": "code",
      "source": [
        "np.array(a, dtype=float) # đổi kiểu"
      ],
      "metadata": {
        "colab": {
          "base_uri": "https://localhost:8080/"
        },
        "id": "OkhbOjJxHF2L",
        "outputId": "32ba17aa-4d7b-41a3-89a8-510245a2e0bc"
      },
      "execution_count": null,
      "outputs": [
        {
          "output_type": "execute_result",
          "data": {
            "text/plain": [
              "array([1., 2., 3., 4.])"
            ]
          },
          "metadata": {},
          "execution_count": 17
        }
      ]
    },
    {
      "cell_type": "code",
      "source": [
        "b=np.array([[1,2,3],[4,5,6]])\n",
        "print(b)"
      ],
      "metadata": {
        "colab": {
          "base_uri": "https://localhost:8080/"
        },
        "id": "oZIx_VCHPRpH",
        "outputId": "78f5ecfe-9459-4d52-f478-6ccaef1703b7"
      },
      "execution_count": null,
      "outputs": [
        {
          "output_type": "stream",
          "name": "stdout",
          "text": [
            "[[1 2 3]\n",
            " [4 5 6]]\n"
          ]
        }
      ]
    },
    {
      "cell_type": "code",
      "source": [
        "b.shape # dạng 2 dòng 3 cột"
      ],
      "metadata": {
        "colab": {
          "base_uri": "https://localhost:8080/"
        },
        "id": "AfPBwqcMPWpr",
        "outputId": "5a981e2e-9dc1-4add-a087-c8a95d9fed54"
      },
      "execution_count": null,
      "outputs": [
        {
          "output_type": "execute_result",
          "data": {
            "text/plain": [
              "(2, 3)"
            ]
          },
          "metadata": {},
          "execution_count": 21
        }
      ]
    },
    {
      "cell_type": "code",
      "source": [
        "b.ndim # dimension, chiều dữ liệu (hàng) = 2"
      ],
      "metadata": {
        "colab": {
          "base_uri": "https://localhost:8080/"
        },
        "id": "YCJeREC7PYze",
        "outputId": "7059f762-25f4-4942-aa84-378aa623df51"
      },
      "execution_count": null,
      "outputs": [
        {
          "output_type": "execute_result",
          "data": {
            "text/plain": [
              "2"
            ]
          },
          "metadata": {},
          "execution_count": 23
        }
      ]
    },
    {
      "cell_type": "code",
      "source": [
        "b.size # số lượng phần tử = 6"
      ],
      "metadata": {
        "colab": {
          "base_uri": "https://localhost:8080/"
        },
        "id": "D0KCE38NPYw_",
        "outputId": "e566a47a-b35f-480b-dc20-09af2e6343c9"
      },
      "execution_count": null,
      "outputs": [
        {
          "output_type": "execute_result",
          "data": {
            "text/plain": [
              "6"
            ]
          },
          "metadata": {},
          "execution_count": 22
        }
      ]
    },
    {
      "cell_type": "code",
      "source": [
        "c = np.array([[[1,2,3],[4,5,6]],[[7,8,9],[9,10,11]]])\n",
        "print(c)"
      ],
      "metadata": {
        "colab": {
          "base_uri": "https://localhost:8080/"
        },
        "id": "D--NhuhBPY1w",
        "outputId": "a6523e2b-f959-40af-c5bc-c0c20eb2f38e"
      },
      "execution_count": null,
      "outputs": [
        {
          "output_type": "stream",
          "name": "stdout",
          "text": [
            "[[[ 1  2  3]\n",
            "  [ 4  5  6]]\n",
            "\n",
            " [[ 7  8  9]\n",
            "  [ 9 10 11]]]\n"
          ]
        }
      ]
    },
    {
      "cell_type": "code",
      "source": [
        "c.shape"
      ],
      "metadata": {
        "colab": {
          "base_uri": "https://localhost:8080/"
        },
        "id": "RAPhqPU-PY34",
        "outputId": "cbafee48-ff05-49e8-d382-fe955a6a42da"
      },
      "execution_count": null,
      "outputs": [
        {
          "output_type": "execute_result",
          "data": {
            "text/plain": [
              "(2, 2, 3)"
            ]
          },
          "metadata": {},
          "execution_count": 27
        }
      ]
    },
    {
      "cell_type": "code",
      "source": [
        "c.ndim"
      ],
      "metadata": {
        "colab": {
          "base_uri": "https://localhost:8080/"
        },
        "id": "Z75li3qNPY6o",
        "outputId": "679079e1-b030-4f3f-8225-322d41450c9b"
      },
      "execution_count": null,
      "outputs": [
        {
          "output_type": "execute_result",
          "data": {
            "text/plain": [
              "3"
            ]
          },
          "metadata": {},
          "execution_count": 28
        }
      ]
    },
    {
      "cell_type": "code",
      "source": [
        "c.size"
      ],
      "metadata": {
        "colab": {
          "base_uri": "https://localhost:8080/"
        },
        "id": "gGLtOtAUPY9A",
        "outputId": "b8936718-c4c6-4e64-8170-b0d59885c0c7"
      },
      "execution_count": null,
      "outputs": [
        {
          "output_type": "execute_result",
          "data": {
            "text/plain": [
              "12"
            ]
          },
          "metadata": {},
          "execution_count": 29
        }
      ]
    },
    {
      "cell_type": "markdown",
      "source": [
        "##INDEXING AND SLICING OF MATRICES"
      ],
      "metadata": {
        "id": "OLigRIJoQl30"
      }
    },
    {
      "cell_type": "code",
      "source": [
        "# Square matric\n",
        "matric = np.array([[1,2,3],[4,5,6],[7,8,9]])\n",
        "matric"
      ],
      "metadata": {
        "colab": {
          "base_uri": "https://localhost:8080/"
        },
        "id": "BFBIl8l-QqL6",
        "outputId": "7b005222-c46a-4e65-c670-9e798c3c8d6f"
      },
      "execution_count": null,
      "outputs": [
        {
          "output_type": "execute_result",
          "data": {
            "text/plain": [
              "array([[1, 2, 3],\n",
              "       [4, 5, 6],\n",
              "       [7, 8, 9]])"
            ]
          },
          "metadata": {},
          "execution_count": 31
        }
      ]
    },
    {
      "cell_type": "code",
      "source": [
        "matric[1] # hàng thứ 1"
      ],
      "metadata": {
        "colab": {
          "base_uri": "https://localhost:8080/"
        },
        "id": "4z2_qkrEQqSZ",
        "outputId": "163e5b96-2484-4177-a8ce-cbef6d7fde80"
      },
      "execution_count": null,
      "outputs": [
        {
          "output_type": "execute_result",
          "data": {
            "text/plain": [
              "array([4, 5, 6])"
            ]
          },
          "metadata": {},
          "execution_count": 32
        }
      ]
    },
    {
      "cell_type": "code",
      "source": [
        "print(matric[1][0]) # hàng thứ 1, cột số 0 => 4 cách khác: print(matric[1,0])"
      ],
      "metadata": {
        "colab": {
          "base_uri": "https://localhost:8080/"
        },
        "id": "ty6poYgXQqUz",
        "outputId": "1e71ed03-ed62-4ad3-c47e-81aa5dbbd482"
      },
      "execution_count": null,
      "outputs": [
        {
          "output_type": "stream",
          "name": "stdout",
          "text": [
            "4\n"
          ]
        }
      ]
    },
    {
      "cell_type": "code",
      "source": [
        "print(matric[0:2]) # hàng thứ 0 đến hàng thứ 2-1"
      ],
      "metadata": {
        "colab": {
          "base_uri": "https://localhost:8080/"
        },
        "id": "CLI_59AqRoHf",
        "outputId": "2de9319e-7cdd-4d88-fe5c-fd8a9d3019c3"
      },
      "execution_count": null,
      "outputs": [
        {
          "output_type": "stream",
          "name": "stdout",
          "text": [
            "[[1 2 3]\n",
            " [4 5 6]]\n"
          ]
        }
      ]
    },
    {
      "cell_type": "code",
      "source": [
        "print(matric[:,:2]) # tất cả các hàng, từ cột 0 đến cột 2-1"
      ],
      "metadata": {
        "colab": {
          "base_uri": "https://localhost:8080/"
        },
        "id": "tdXH87bJQqXK",
        "outputId": "8bc936d1-cde9-4b60-baa2-1c08030d3a85"
      },
      "execution_count": null,
      "outputs": [
        {
          "output_type": "stream",
          "name": "stdout",
          "text": [
            "[[1 2]\n",
            " [4 5]\n",
            " [7 8]]\n"
          ]
        }
      ]
    },
    {
      "cell_type": "code",
      "source": [
        "matric[1] = np.array([1,4,8]) # thay hàng thứ 1 bằng [1,4,8]\n",
        "matric"
      ],
      "metadata": {
        "colab": {
          "base_uri": "https://localhost:8080/"
        },
        "id": "eVsb1ADuQqZf",
        "outputId": "0aba0837-3924-44e1-cd86-c66012340e26"
      },
      "execution_count": null,
      "outputs": [
        {
          "output_type": "execute_result",
          "data": {
            "text/plain": [
              "array([[1, 2, 3],\n",
              "       [1, 4, 8],\n",
              "       [7, 8, 9]])"
            ]
          },
          "metadata": {},
          "execution_count": 43
        }
      ]
    },
    {
      "cell_type": "code",
      "source": [
        "matric[2] = 0 # thay tất cả giá trị ở hàng thứ 2 bằng 0\n",
        "matric"
      ],
      "metadata": {
        "colab": {
          "base_uri": "https://localhost:8080/"
        },
        "id": "ZM6zGOPbQqb2",
        "outputId": "0d63d4e5-8a0c-4f08-f432-869292e751b8"
      },
      "execution_count": null,
      "outputs": [
        {
          "output_type": "execute_result",
          "data": {
            "text/plain": [
              "array([[1, 2, 3],\n",
              "       [1, 4, 8],\n",
              "       [0, 0, 0]])"
            ]
          },
          "metadata": {},
          "execution_count": 45
        }
      ]
    },
    {
      "cell_type": "markdown",
      "source": [
        "##SUMARY STATISTIC"
      ],
      "metadata": {
        "id": "piNSVKx1TN8i"
      }
    },
    {
      "cell_type": "code",
      "source": [
        "d = np.array([1,2,3,4,5,6,7])\n",
        "print(d)"
      ],
      "metadata": {
        "colab": {
          "base_uri": "https://localhost:8080/"
        },
        "id": "tIftJdHjTQXk",
        "outputId": "e8df5e2c-d557-47b0-e28c-612d34196feb"
      },
      "execution_count": null,
      "outputs": [
        {
          "output_type": "stream",
          "name": "stdout",
          "text": [
            "[1 2 3 4 5 6 7]\n"
          ]
        }
      ]
    },
    {
      "cell_type": "code",
      "source": [
        "print(d.sum()) # tổng tất cả số trong d"
      ],
      "metadata": {
        "colab": {
          "base_uri": "https://localhost:8080/"
        },
        "id": "9WL-tl-oTQaH",
        "outputId": "83db47f1-b547-4fa6-fb5d-bfe135d24531"
      },
      "execution_count": null,
      "outputs": [
        {
          "output_type": "stream",
          "name": "stdout",
          "text": [
            "28\n"
          ]
        }
      ]
    },
    {
      "cell_type": "code",
      "source": [
        "print(d.mean())"
      ],
      "metadata": {
        "colab": {
          "base_uri": "https://localhost:8080/"
        },
        "id": "kKeaFtehTQcZ",
        "outputId": "2e9d3016-6abe-4c65-d43e-0590d2a409ca"
      },
      "execution_count": null,
      "outputs": [
        {
          "output_type": "stream",
          "name": "stdout",
          "text": [
            "4.0\n"
          ]
        }
      ]
    },
    {
      "cell_type": "code",
      "source": [
        "print(d.std())"
      ],
      "metadata": {
        "colab": {
          "base_uri": "https://localhost:8080/"
        },
        "id": "3kJEn8VsTQen",
        "outputId": "d7d8ddc1-4a5d-4786-a24f-b46bc8d2deed"
      },
      "execution_count": null,
      "outputs": [
        {
          "output_type": "stream",
          "name": "stdout",
          "text": [
            "2.0\n"
          ]
        }
      ]
    },
    {
      "cell_type": "code",
      "source": [
        "print(d.var())"
      ],
      "metadata": {
        "colab": {
          "base_uri": "https://localhost:8080/"
        },
        "id": "gODWNpWhTQg2",
        "outputId": "b570d0d3-37fd-47fa-c8ab-c0290e24062c"
      },
      "execution_count": null,
      "outputs": [
        {
          "output_type": "stream",
          "name": "stdout",
          "text": [
            "4.0\n"
          ]
        }
      ]
    },
    {
      "cell_type": "code",
      "source": [
        "e = np.array([[1,2,3],[4,5,6],[7,8,9],[10,11,12],[13,14,15]])\n",
        "print(e)"
      ],
      "metadata": {
        "colab": {
          "base_uri": "https://localhost:8080/"
        },
        "id": "eyg36IJETQjb",
        "outputId": "06a34ecb-a34d-4a17-a5de-bc3937e4eddd"
      },
      "execution_count": null,
      "outputs": [
        {
          "output_type": "stream",
          "name": "stdout",
          "text": [
            "[[ 1  2  3]\n",
            " [ 4  5  6]\n",
            " [ 7  8  9]\n",
            " [10 11 12]\n",
            " [13 14 15]]\n"
          ]
        }
      ]
    },
    {
      "cell_type": "code",
      "source": [
        "print(e.sum(axis=0)) #cộng theo hàng dọc\n",
        "print(e.sum(axis=1)) #cộng theo hàng ngang"
      ],
      "metadata": {
        "colab": {
          "base_uri": "https://localhost:8080/"
        },
        "id": "sSEqRR4BTQmK",
        "outputId": "a1ae3db3-7264-4432-8025-e627a16f6c4b"
      },
      "execution_count": null,
      "outputs": [
        {
          "output_type": "stream",
          "name": "stdout",
          "text": [
            "[35 40 45]\n",
            "[ 6 15 24 33 42]\n"
          ]
        }
      ]
    },
    {
      "cell_type": "code",
      "source": [
        "print(e.mean(axis=0))\n",
        "print(e.mean(axis=1))"
      ],
      "metadata": {
        "colab": {
          "base_uri": "https://localhost:8080/"
        },
        "id": "qfRNt0VBUbRq",
        "outputId": "e7fa88aa-8257-4479-eee0-43df8fcf216a"
      },
      "execution_count": null,
      "outputs": [
        {
          "output_type": "stream",
          "name": "stdout",
          "text": [
            "[7. 8. 9.]\n",
            "[ 2.  5.  8. 11. 14.]\n"
          ]
        }
      ]
    },
    {
      "cell_type": "code",
      "source": [
        "print(e.std(axis=0))\n",
        "print(e.std(axis=1))"
      ],
      "metadata": {
        "colab": {
          "base_uri": "https://localhost:8080/"
        },
        "id": "ZOlmG_onUgfi",
        "outputId": "daae9e02-096f-4c6e-d3cb-c50674559f0c"
      },
      "execution_count": null,
      "outputs": [
        {
          "output_type": "stream",
          "name": "stdout",
          "text": [
            "[4.24264069 4.24264069 4.24264069]\n",
            "[0.81649658 0.81649658 0.81649658 0.81649658 0.81649658]\n"
          ]
        }
      ]
    },
    {
      "cell_type": "code",
      "source": [
        "print(e.var(axis=0))\n",
        "print(e.var(axis=1))"
      ],
      "metadata": {
        "colab": {
          "base_uri": "https://localhost:8080/"
        },
        "id": "tKTYyRILUzXU",
        "outputId": "0d69d59a-aafc-4a64-b6fa-2e5c233df4e9"
      },
      "execution_count": null,
      "outputs": [
        {
          "output_type": "stream",
          "name": "stdout",
          "text": [
            "[18. 18. 18.]\n",
            "[0.66666667 0.66666667 0.66666667 0.66666667 0.66666667]\n"
          ]
        }
      ]
    },
    {
      "cell_type": "markdown",
      "source": [
        "##BROADCASTING AND VECTORIZED OPRATIONS"
      ],
      "metadata": {
        "id": "m-jpYLOQViaY"
      }
    },
    {
      "cell_type": "code",
      "source": [
        "f=np.arange(4)\n",
        "print(f)\n",
        "print(f+10)\n",
        "print(f*10)\n",
        "print(f/10)"
      ],
      "metadata": {
        "colab": {
          "base_uri": "https://localhost:8080/"
        },
        "id": "gH6ee5CFVpx1",
        "outputId": "dfe8895b-075c-40de-e0bb-61f6c965c67a"
      },
      "execution_count": null,
      "outputs": [
        {
          "output_type": "stream",
          "name": "stdout",
          "text": [
            "[0 1 2 3]\n",
            "[10 11 12 13]\n",
            "[ 0 10 20 30]\n",
            "[0.  0.1 0.2 0.3]\n"
          ]
        }
      ]
    },
    {
      "cell_type": "code",
      "source": [
        "g = list(int(i)*10 for i in f)\n",
        "print(g) # ban đầu sẽ ko ra số trực tiếp do là array phải định dạng i bằng int"
      ],
      "metadata": {
        "colab": {
          "base_uri": "https://localhost:8080/"
        },
        "id": "6uQZ90x4WMMr",
        "outputId": "0f75768f-46f5-4b43-e23b-9a4779a4d90d"
      },
      "execution_count": null,
      "outputs": [
        {
          "output_type": "stream",
          "name": "stdout",
          "text": [
            "[0, 10, 20, 30]\n"
          ]
        }
      ]
    },
    {
      "cell_type": "code",
      "source": [
        "f+g"
      ],
      "metadata": {
        "colab": {
          "base_uri": "https://localhost:8080/"
        },
        "id": "jWvs7fy8Vp0h",
        "outputId": "61f2ad1e-85ae-47e5-92d5-60ef0f3de633"
      },
      "execution_count": null,
      "outputs": [
        {
          "output_type": "execute_result",
          "data": {
            "text/plain": [
              "array([ 0, 11, 22, 33])"
            ]
          },
          "metadata": {},
          "execution_count": 75
        }
      ]
    },
    {
      "cell_type": "markdown",
      "source": [
        "##BOOLEAN ARRAYS"
      ],
      "metadata": {
        "id": "hVVTrK15Xvci"
      }
    },
    {
      "cell_type": "code",
      "source": [
        "h = np.array([11,22,33,44,55])\n",
        "print(h)"
      ],
      "metadata": {
        "colab": {
          "base_uri": "https://localhost:8080/"
        },
        "id": "Hhfkz31jVp5Y",
        "outputId": "8adb1a21-544a-4926-a855-df15f2739d33"
      },
      "execution_count": null,
      "outputs": [
        {
          "output_type": "stream",
          "name": "stdout",
          "text": [
            "[11 22 33 44 55]\n"
          ]
        }
      ]
    },
    {
      "cell_type": "code",
      "source": [
        "h[[True, False, False, True,True]] # không in những thành phần được đánh là False"
      ],
      "metadata": {
        "colab": {
          "base_uri": "https://localhost:8080/"
        },
        "id": "v5Hx9SIvVp8W",
        "outputId": "66e97be1-cfa3-4e15-9f9f-4b323929a5f9"
      },
      "execution_count": null,
      "outputs": [
        {
          "output_type": "execute_result",
          "data": {
            "text/plain": [
              "array([11, 44, 55])"
            ]
          },
          "metadata": {},
          "execution_count": 80
        }
      ]
    },
    {
      "cell_type": "code",
      "source": [
        "h>=34"
      ],
      "metadata": {
        "colab": {
          "base_uri": "https://localhost:8080/"
        },
        "id": "h5vGDCG9YpZ9",
        "outputId": "be5ebb5a-b655-4d4b-e8f8-6fa36ed1d95a"
      },
      "execution_count": null,
      "outputs": [
        {
          "output_type": "execute_result",
          "data": {
            "text/plain": [
              "array([False, False, False,  True,  True])"
            ]
          },
          "metadata": {},
          "execution_count": 82
        }
      ]
    },
    {
      "cell_type": "code",
      "source": [
        "h[h>34]"
      ],
      "metadata": {
        "colab": {
          "base_uri": "https://localhost:8080/"
        },
        "id": "EwZwDSGqVp-r",
        "outputId": "3c2676ab-d4ff-41ba-88e9-5d7cf24cc0f3"
      },
      "execution_count": null,
      "outputs": [
        {
          "output_type": "execute_result",
          "data": {
            "text/plain": [
              "array([44, 55])"
            ]
          },
          "metadata": {},
          "execution_count": 83
        }
      ]
    },
    {
      "cell_type": "code",
      "source": [
        "print(h[(h == 22) | (h == 11)])"
      ],
      "metadata": {
        "colab": {
          "base_uri": "https://localhost:8080/"
        },
        "id": "_G99lG0zVqBF",
        "outputId": "da71d607-6df9-4df6-a082-b9113b4f3b37"
      },
      "execution_count": null,
      "outputs": [
        {
          "output_type": "stream",
          "name": "stdout",
          "text": [
            "[11 22]\n"
          ]
        }
      ]
    },
    {
      "cell_type": "code",
      "source": [
        "h[h > h.mean()]"
      ],
      "metadata": {
        "colab": {
          "base_uri": "https://localhost:8080/"
        },
        "id": "iobNDsptVqDj",
        "outputId": "91362326-4681-48ee-930f-97cd2fd9813d"
      },
      "execution_count": null,
      "outputs": [
        {
          "output_type": "execute_result",
          "data": {
            "text/plain": [
              "array([44, 55])"
            ]
          },
          "metadata": {},
          "execution_count": 89
        }
      ]
    },
    {
      "cell_type": "code",
      "source": [
        "h[(h <= 44) & (h % 2 == 0)]"
      ],
      "metadata": {
        "colab": {
          "base_uri": "https://localhost:8080/"
        },
        "id": "wX_pO9-jVqF6",
        "outputId": "fe96ab2b-87ca-483b-a0d0-09b9d2e63c0f"
      },
      "execution_count": null,
      "outputs": [
        {
          "output_type": "execute_result",
          "data": {
            "text/plain": [
              "array([22, 44])"
            ]
          },
          "metadata": {},
          "execution_count": 90
        }
      ]
    },
    {
      "cell_type": "markdown",
      "source": [
        "##LINEAR ALGEBRA"
      ],
      "metadata": {
        "id": "wvD2Md7HgtzC"
      }
    },
    {
      "cell_type": "code",
      "source": [
        "A = np.array([[1, 2, 3],[4, 5, 6],[7, 8, 9]])"
      ],
      "metadata": {
        "id": "iv9cyVe5VqIo"
      },
      "execution_count": null,
      "outputs": []
    },
    {
      "cell_type": "code",
      "source": [
        "B = np.array ([[6,5],[4,3],[2,1]])"
      ],
      "metadata": {
        "id": "2pgp97tUVqLg"
      },
      "execution_count": null,
      "outputs": []
    },
    {
      "cell_type": "code",
      "source": [
        "A.dot(B) # nhân ma trận"
      ],
      "metadata": {
        "colab": {
          "base_uri": "https://localhost:8080/"
        },
        "id": "PFtVeS3Lho8Z",
        "outputId": "d66a4ba2-fd97-4dd8-8f42-acc4fce0d035"
      },
      "execution_count": null,
      "outputs": [
        {
          "output_type": "execute_result",
          "data": {
            "text/plain": [
              "array([[20, 14],\n",
              "       [56, 41],\n",
              "       [92, 68]])"
            ]
          },
          "metadata": {},
          "execution_count": 95
        }
      ]
    },
    {
      "cell_type": "code",
      "source": [
        "A@B # nhân ma trận"
      ],
      "metadata": {
        "colab": {
          "base_uri": "https://localhost:8080/"
        },
        "id": "1wxy-csIiBrQ",
        "outputId": "0887d522-733a-4a9c-d0d8-e20db74064bd"
      },
      "execution_count": null,
      "outputs": [
        {
          "output_type": "execute_result",
          "data": {
            "text/plain": [
              "array([[20, 14],\n",
              "       [56, 41],\n",
              "       [92, 68]])"
            ]
          },
          "metadata": {},
          "execution_count": 97
        }
      ]
    },
    {
      "cell_type": "code",
      "source": [
        "B.T # ma trận chuyển vị"
      ],
      "metadata": {
        "colab": {
          "base_uri": "https://localhost:8080/"
        },
        "id": "lQYJobOLik-c",
        "outputId": "27ce7d65-fa86-4a14-bbd8-067760c405cb"
      },
      "execution_count": null,
      "outputs": [
        {
          "output_type": "execute_result",
          "data": {
            "text/plain": [
              "array([[1, 4],\n",
              "       [2, 5],\n",
              "       [3, 6]])"
            ]
          },
          "metadata": {},
          "execution_count": 98
        }
      ]
    },
    {
      "cell_type": "markdown",
      "source": [
        "##SIZE OF OBJECTS IN MEMORY\n",
        "\n",
        "*   an integer in python is > 24 bytes\n",
        "*   longs are even larger\n",
        "*   Numpy size is much smaller\n",
        "*   Lists are even larger\n",
        "\n",
        "\n",
        "\n",
        "\n"
      ],
      "metadata": {
        "id": "h2_SeWruiubB"
      }
    },
    {
      "cell_type": "code",
      "source": [
        "sys.getsizeof(1)"
      ],
      "metadata": {
        "colab": {
          "base_uri": "https://localhost:8080/"
        },
        "id": "z5qp0__NilA8",
        "outputId": "9281a921-49d6-4e27-f207-60a80de08d5e"
      },
      "execution_count": null,
      "outputs": [
        {
          "output_type": "execute_result",
          "data": {
            "text/plain": [
              "28"
            ]
          },
          "metadata": {},
          "execution_count": 99
        }
      ]
    },
    {
      "cell_type": "code",
      "source": [
        "sys.getsizeof(10**90)"
      ],
      "metadata": {
        "colab": {
          "base_uri": "https://localhost:8080/"
        },
        "id": "a8LnW9NOilDZ",
        "outputId": "9b663374-9a25-4ba7-aa76-8b0f8e8c27c5"
      },
      "execution_count": null,
      "outputs": [
        {
          "output_type": "execute_result",
          "data": {
            "text/plain": [
              "64"
            ]
          },
          "metadata": {},
          "execution_count": 100
        }
      ]
    },
    {
      "cell_type": "code",
      "source": [
        "np.dtype(int).itemsize"
      ],
      "metadata": {
        "colab": {
          "base_uri": "https://localhost:8080/"
        },
        "id": "MgRM86cWlSa4",
        "outputId": "19a95517-f4be-4124-dad0-a237790320b0"
      },
      "execution_count": null,
      "outputs": [
        {
          "output_type": "execute_result",
          "data": {
            "text/plain": [
              "8"
            ]
          },
          "metadata": {},
          "execution_count": 101
        }
      ]
    },
    {
      "cell_type": "code",
      "source": [
        "np.dtype(np.int8).itemsize"
      ],
      "metadata": {
        "colab": {
          "base_uri": "https://localhost:8080/"
        },
        "id": "0wRJgjMQlSdQ",
        "outputId": "5aa8f8b8-1710-4aad-9ab3-3d87b43b64f0"
      },
      "execution_count": null,
      "outputs": [
        {
          "output_type": "execute_result",
          "data": {
            "text/plain": [
              "1"
            ]
          },
          "metadata": {},
          "execution_count": 102
        }
      ]
    },
    {
      "cell_type": "code",
      "source": [
        "np.dtype(float).itemsize"
      ],
      "metadata": {
        "colab": {
          "base_uri": "https://localhost:8080/"
        },
        "id": "_h8jkxZ7lSf8",
        "outputId": "51eb93fb-a71b-496e-9eeb-cfca884c8968"
      },
      "execution_count": null,
      "outputs": [
        {
          "output_type": "execute_result",
          "data": {
            "text/plain": [
              "8"
            ]
          },
          "metadata": {},
          "execution_count": 103
        }
      ]
    },
    {
      "cell_type": "code",
      "source": [
        "sys.getsizeof([1])"
      ],
      "metadata": {
        "colab": {
          "base_uri": "https://localhost:8080/"
        },
        "id": "7KDRpaMblSiv",
        "outputId": "ffb6cf36-48ed-4255-e953-e46c5dc1e176"
      },
      "execution_count": null,
      "outputs": [
        {
          "output_type": "execute_result",
          "data": {
            "text/plain": [
              "64"
            ]
          },
          "metadata": {},
          "execution_count": 104
        }
      ]
    },
    {
      "cell_type": "code",
      "source": [
        "np.array([1]).nbytes"
      ],
      "metadata": {
        "colab": {
          "base_uri": "https://localhost:8080/"
        },
        "id": "B-qILEqflbb6",
        "outputId": "dc9b48fb-9c20-4b6c-ee91-76a4b0d5e5c2"
      },
      "execution_count": null,
      "outputs": [
        {
          "output_type": "execute_result",
          "data": {
            "text/plain": [
              "8"
            ]
          },
          "metadata": {},
          "execution_count": 106
        }
      ]
    },
    {
      "cell_type": "markdown",
      "source": [
        "Performance"
      ],
      "metadata": {
        "id": "UB43ueMroOd-"
      }
    },
    {
      "cell_type": "code",
      "source": [
        "l = list(range(100000))\n",
        "%time sum([x ** 2 for x in l])"
      ],
      "metadata": {
        "colab": {
          "base_uri": "https://localhost:8080/"
        },
        "id": "0tJQ6B8loNr0",
        "outputId": "0f57ea94-461f-456f-a0e2-7a80cbe6e9d8"
      },
      "execution_count": null,
      "outputs": [
        {
          "output_type": "stream",
          "name": "stdout",
          "text": [
            "CPU times: user 17.2 ms, sys: 876 µs, total: 18.1 ms\n",
            "Wall time: 27 ms\n"
          ]
        },
        {
          "output_type": "execute_result",
          "data": {
            "text/plain": [
              "333328333350000"
            ]
          },
          "metadata": {},
          "execution_count": 107
        }
      ]
    },
    {
      "cell_type": "code",
      "source": [
        "k = np.arange(100000)\n",
        "%time sum(a**2)"
      ],
      "metadata": {
        "id": "zqJRmejkoVQC",
        "outputId": "817e7378-73f5-44b1-b0b5-c986c2866bb6",
        "colab": {
          "base_uri": "https://localhost:8080/"
        }
      },
      "execution_count": null,
      "outputs": [
        {
          "output_type": "stream",
          "name": "stdout",
          "text": [
            "CPU times: user 101 µs, sys: 0 ns, total: 101 µs\n",
            "Wall time: 107 µs\n"
          ]
        },
        {
          "output_type": "execute_result",
          "data": {
            "text/plain": [
              "np.int64(30)"
            ]
          },
          "metadata": {},
          "execution_count": 108
        }
      ]
    }
  ]
}