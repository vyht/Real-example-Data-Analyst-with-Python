{
  "nbformat": 4,
  "nbformat_minor": 0,
  "metadata": {
    "colab": {
      "provenance": []
    },
    "kernelspec": {
      "name": "python3",
      "display_name": "Python 3"
    },
    "language_info": {
      "name": "python"
    }
  },
  "cells": [
    {
      "cell_type": "code",
      "execution_count": 40,
      "metadata": {
        "id": "1qdzLH16_69K"
      },
      "outputs": [],
      "source": [
        "import pandas as pd\n",
        "import numpy as np\n",
        "import matplotlib.pyplot as plt"
      ]
    },
    {
      "cell_type": "markdown",
      "source": [
        "Link of dataset: https://drive.google.com/file/d/1zx-Evbk7BZ8IxgOfzirFmUz7qK6lmg-q/view?usp=drive_link"
      ],
      "metadata": {
        "id": "cS8C0TrprdYn"
      }
    },
    {
      "cell_type": "code",
      "source": [
        "sales = pd.read_csv('/content/drive/MyDrive/for jobs/GG Colab/Real example DA with Python/sales_data.csv', parse_dates=['Date'])\n",
        "# parse_dates=['Date'] để chuyển đổi cột Date thành định dạng ngày tháng"
      ],
      "metadata": {
        "id": "PCZ40vh3Bqf5"
      },
      "execution_count": 41,
      "outputs": []
    },
    {
      "cell_type": "code",
      "source": [
        "sales.head()"
      ],
      "metadata": {
        "colab": {
          "base_uri": "https://localhost:8080/",
          "height": 206
        },
        "id": "w5gryoIVBqky",
        "outputId": "d5a38663-58f2-4fb5-90ba-0069d3528a21"
      },
      "execution_count": 42,
      "outputs": [
        {
          "output_type": "execute_result",
          "data": {
            "text/plain": [
              "        Date  Day     Month  Year  Customer_Age       Age_Group  \\\n",
              "0 2013-11-26   26  November  2013            19     Youth (<25)   \n",
              "1 2015-11-26   26  November  2015            19     Youth (<25)   \n",
              "2 2014-03-23   23     March  2014            49  Adults (35-64)   \n",
              "3 2016-03-23   23     March  2016            49  Adults (35-64)   \n",
              "4 2014-05-15   15       May  2014            47  Adults (35-64)   \n",
              "\n",
              "  Customer_Gender    Country             State Product_Category Sub_Category  \\\n",
              "0               M     Canada  British Columbia      Accessories   Bike Racks   \n",
              "1               M     Canada  British Columbia      Accessories   Bike Racks   \n",
              "2               M  Australia   New South Wales      Accessories   Bike Racks   \n",
              "3               M  Australia   New South Wales      Accessories   Bike Racks   \n",
              "4               F  Australia   New South Wales      Accessories   Bike Racks   \n",
              "\n",
              "               Product  Order_Quantity  Unit_Cost  Unit_Price  Profit  Cost  \\\n",
              "0  Hitch Rack - 4-Bike               8         45         120     590   360   \n",
              "1  Hitch Rack - 4-Bike               8         45         120     590   360   \n",
              "2  Hitch Rack - 4-Bike              23         45         120    1366  1035   \n",
              "3  Hitch Rack - 4-Bike              20         45         120    1188   900   \n",
              "4  Hitch Rack - 4-Bike               4         45         120     238   180   \n",
              "\n",
              "   Revenue  \n",
              "0      950  \n",
              "1      950  \n",
              "2     2401  \n",
              "3     2088  \n",
              "4      418  "
            ],
            "text/html": [
              "\n",
              "  <div id=\"df-8e89732e-c9b6-4ebb-b585-6635d5aa74f7\" class=\"colab-df-container\">\n",
              "    <div>\n",
              "<style scoped>\n",
              "    .dataframe tbody tr th:only-of-type {\n",
              "        vertical-align: middle;\n",
              "    }\n",
              "\n",
              "    .dataframe tbody tr th {\n",
              "        vertical-align: top;\n",
              "    }\n",
              "\n",
              "    .dataframe thead th {\n",
              "        text-align: right;\n",
              "    }\n",
              "</style>\n",
              "<table border=\"1\" class=\"dataframe\">\n",
              "  <thead>\n",
              "    <tr style=\"text-align: right;\">\n",
              "      <th></th>\n",
              "      <th>Date</th>\n",
              "      <th>Day</th>\n",
              "      <th>Month</th>\n",
              "      <th>Year</th>\n",
              "      <th>Customer_Age</th>\n",
              "      <th>Age_Group</th>\n",
              "      <th>Customer_Gender</th>\n",
              "      <th>Country</th>\n",
              "      <th>State</th>\n",
              "      <th>Product_Category</th>\n",
              "      <th>Sub_Category</th>\n",
              "      <th>Product</th>\n",
              "      <th>Order_Quantity</th>\n",
              "      <th>Unit_Cost</th>\n",
              "      <th>Unit_Price</th>\n",
              "      <th>Profit</th>\n",
              "      <th>Cost</th>\n",
              "      <th>Revenue</th>\n",
              "    </tr>\n",
              "  </thead>\n",
              "  <tbody>\n",
              "    <tr>\n",
              "      <th>0</th>\n",
              "      <td>2013-11-26</td>\n",
              "      <td>26</td>\n",
              "      <td>November</td>\n",
              "      <td>2013</td>\n",
              "      <td>19</td>\n",
              "      <td>Youth (&lt;25)</td>\n",
              "      <td>M</td>\n",
              "      <td>Canada</td>\n",
              "      <td>British Columbia</td>\n",
              "      <td>Accessories</td>\n",
              "      <td>Bike Racks</td>\n",
              "      <td>Hitch Rack - 4-Bike</td>\n",
              "      <td>8</td>\n",
              "      <td>45</td>\n",
              "      <td>120</td>\n",
              "      <td>590</td>\n",
              "      <td>360</td>\n",
              "      <td>950</td>\n",
              "    </tr>\n",
              "    <tr>\n",
              "      <th>1</th>\n",
              "      <td>2015-11-26</td>\n",
              "      <td>26</td>\n",
              "      <td>November</td>\n",
              "      <td>2015</td>\n",
              "      <td>19</td>\n",
              "      <td>Youth (&lt;25)</td>\n",
              "      <td>M</td>\n",
              "      <td>Canada</td>\n",
              "      <td>British Columbia</td>\n",
              "      <td>Accessories</td>\n",
              "      <td>Bike Racks</td>\n",
              "      <td>Hitch Rack - 4-Bike</td>\n",
              "      <td>8</td>\n",
              "      <td>45</td>\n",
              "      <td>120</td>\n",
              "      <td>590</td>\n",
              "      <td>360</td>\n",
              "      <td>950</td>\n",
              "    </tr>\n",
              "    <tr>\n",
              "      <th>2</th>\n",
              "      <td>2014-03-23</td>\n",
              "      <td>23</td>\n",
              "      <td>March</td>\n",
              "      <td>2014</td>\n",
              "      <td>49</td>\n",
              "      <td>Adults (35-64)</td>\n",
              "      <td>M</td>\n",
              "      <td>Australia</td>\n",
              "      <td>New South Wales</td>\n",
              "      <td>Accessories</td>\n",
              "      <td>Bike Racks</td>\n",
              "      <td>Hitch Rack - 4-Bike</td>\n",
              "      <td>23</td>\n",
              "      <td>45</td>\n",
              "      <td>120</td>\n",
              "      <td>1366</td>\n",
              "      <td>1035</td>\n",
              "      <td>2401</td>\n",
              "    </tr>\n",
              "    <tr>\n",
              "      <th>3</th>\n",
              "      <td>2016-03-23</td>\n",
              "      <td>23</td>\n",
              "      <td>March</td>\n",
              "      <td>2016</td>\n",
              "      <td>49</td>\n",
              "      <td>Adults (35-64)</td>\n",
              "      <td>M</td>\n",
              "      <td>Australia</td>\n",
              "      <td>New South Wales</td>\n",
              "      <td>Accessories</td>\n",
              "      <td>Bike Racks</td>\n",
              "      <td>Hitch Rack - 4-Bike</td>\n",
              "      <td>20</td>\n",
              "      <td>45</td>\n",
              "      <td>120</td>\n",
              "      <td>1188</td>\n",
              "      <td>900</td>\n",
              "      <td>2088</td>\n",
              "    </tr>\n",
              "    <tr>\n",
              "      <th>4</th>\n",
              "      <td>2014-05-15</td>\n",
              "      <td>15</td>\n",
              "      <td>May</td>\n",
              "      <td>2014</td>\n",
              "      <td>47</td>\n",
              "      <td>Adults (35-64)</td>\n",
              "      <td>F</td>\n",
              "      <td>Australia</td>\n",
              "      <td>New South Wales</td>\n",
              "      <td>Accessories</td>\n",
              "      <td>Bike Racks</td>\n",
              "      <td>Hitch Rack - 4-Bike</td>\n",
              "      <td>4</td>\n",
              "      <td>45</td>\n",
              "      <td>120</td>\n",
              "      <td>238</td>\n",
              "      <td>180</td>\n",
              "      <td>418</td>\n",
              "    </tr>\n",
              "  </tbody>\n",
              "</table>\n",
              "</div>\n",
              "    <div class=\"colab-df-buttons\">\n",
              "\n",
              "  <div class=\"colab-df-container\">\n",
              "    <button class=\"colab-df-convert\" onclick=\"convertToInteractive('df-8e89732e-c9b6-4ebb-b585-6635d5aa74f7')\"\n",
              "            title=\"Convert this dataframe to an interactive table.\"\n",
              "            style=\"display:none;\">\n",
              "\n",
              "  <svg xmlns=\"http://www.w3.org/2000/svg\" height=\"24px\" viewBox=\"0 -960 960 960\">\n",
              "    <path d=\"M120-120v-720h720v720H120Zm60-500h600v-160H180v160Zm220 220h160v-160H400v160Zm0 220h160v-160H400v160ZM180-400h160v-160H180v160Zm440 0h160v-160H620v160ZM180-180h160v-160H180v160Zm440 0h160v-160H620v160Z\"/>\n",
              "  </svg>\n",
              "    </button>\n",
              "\n",
              "  <style>\n",
              "    .colab-df-container {\n",
              "      display:flex;\n",
              "      gap: 12px;\n",
              "    }\n",
              "\n",
              "    .colab-df-convert {\n",
              "      background-color: #E8F0FE;\n",
              "      border: none;\n",
              "      border-radius: 50%;\n",
              "      cursor: pointer;\n",
              "      display: none;\n",
              "      fill: #1967D2;\n",
              "      height: 32px;\n",
              "      padding: 0 0 0 0;\n",
              "      width: 32px;\n",
              "    }\n",
              "\n",
              "    .colab-df-convert:hover {\n",
              "      background-color: #E2EBFA;\n",
              "      box-shadow: 0px 1px 2px rgba(60, 64, 67, 0.3), 0px 1px 3px 1px rgba(60, 64, 67, 0.15);\n",
              "      fill: #174EA6;\n",
              "    }\n",
              "\n",
              "    .colab-df-buttons div {\n",
              "      margin-bottom: 4px;\n",
              "    }\n",
              "\n",
              "    [theme=dark] .colab-df-convert {\n",
              "      background-color: #3B4455;\n",
              "      fill: #D2E3FC;\n",
              "    }\n",
              "\n",
              "    [theme=dark] .colab-df-convert:hover {\n",
              "      background-color: #434B5C;\n",
              "      box-shadow: 0px 1px 3px 1px rgba(0, 0, 0, 0.15);\n",
              "      filter: drop-shadow(0px 1px 2px rgba(0, 0, 0, 0.3));\n",
              "      fill: #FFFFFF;\n",
              "    }\n",
              "  </style>\n",
              "\n",
              "    <script>\n",
              "      const buttonEl =\n",
              "        document.querySelector('#df-8e89732e-c9b6-4ebb-b585-6635d5aa74f7 button.colab-df-convert');\n",
              "      buttonEl.style.display =\n",
              "        google.colab.kernel.accessAllowed ? 'block' : 'none';\n",
              "\n",
              "      async function convertToInteractive(key) {\n",
              "        const element = document.querySelector('#df-8e89732e-c9b6-4ebb-b585-6635d5aa74f7');\n",
              "        const dataTable =\n",
              "          await google.colab.kernel.invokeFunction('convertToInteractive',\n",
              "                                                    [key], {});\n",
              "        if (!dataTable) return;\n",
              "\n",
              "        const docLinkHtml = 'Like what you see? Visit the ' +\n",
              "          '<a target=\"_blank\" href=https://colab.research.google.com/notebooks/data_table.ipynb>data table notebook</a>'\n",
              "          + ' to learn more about interactive tables.';\n",
              "        element.innerHTML = '';\n",
              "        dataTable['output_type'] = 'display_data';\n",
              "        await google.colab.output.renderOutput(dataTable, element);\n",
              "        const docLink = document.createElement('div');\n",
              "        docLink.innerHTML = docLinkHtml;\n",
              "        element.appendChild(docLink);\n",
              "      }\n",
              "    </script>\n",
              "  </div>\n",
              "\n",
              "\n",
              "    <div id=\"df-1aa5b4ab-e2a8-48e7-833a-de3a824709e8\">\n",
              "      <button class=\"colab-df-quickchart\" onclick=\"quickchart('df-1aa5b4ab-e2a8-48e7-833a-de3a824709e8')\"\n",
              "                title=\"Suggest charts\"\n",
              "                style=\"display:none;\">\n",
              "\n",
              "<svg xmlns=\"http://www.w3.org/2000/svg\" height=\"24px\"viewBox=\"0 0 24 24\"\n",
              "     width=\"24px\">\n",
              "    <g>\n",
              "        <path d=\"M19 3H5c-1.1 0-2 .9-2 2v14c0 1.1.9 2 2 2h14c1.1 0 2-.9 2-2V5c0-1.1-.9-2-2-2zM9 17H7v-7h2v7zm4 0h-2V7h2v10zm4 0h-2v-4h2v4z\"/>\n",
              "    </g>\n",
              "</svg>\n",
              "      </button>\n",
              "\n",
              "<style>\n",
              "  .colab-df-quickchart {\n",
              "      --bg-color: #E8F0FE;\n",
              "      --fill-color: #1967D2;\n",
              "      --hover-bg-color: #E2EBFA;\n",
              "      --hover-fill-color: #174EA6;\n",
              "      --disabled-fill-color: #AAA;\n",
              "      --disabled-bg-color: #DDD;\n",
              "  }\n",
              "\n",
              "  [theme=dark] .colab-df-quickchart {\n",
              "      --bg-color: #3B4455;\n",
              "      --fill-color: #D2E3FC;\n",
              "      --hover-bg-color: #434B5C;\n",
              "      --hover-fill-color: #FFFFFF;\n",
              "      --disabled-bg-color: #3B4455;\n",
              "      --disabled-fill-color: #666;\n",
              "  }\n",
              "\n",
              "  .colab-df-quickchart {\n",
              "    background-color: var(--bg-color);\n",
              "    border: none;\n",
              "    border-radius: 50%;\n",
              "    cursor: pointer;\n",
              "    display: none;\n",
              "    fill: var(--fill-color);\n",
              "    height: 32px;\n",
              "    padding: 0;\n",
              "    width: 32px;\n",
              "  }\n",
              "\n",
              "  .colab-df-quickchart:hover {\n",
              "    background-color: var(--hover-bg-color);\n",
              "    box-shadow: 0 1px 2px rgba(60, 64, 67, 0.3), 0 1px 3px 1px rgba(60, 64, 67, 0.15);\n",
              "    fill: var(--button-hover-fill-color);\n",
              "  }\n",
              "\n",
              "  .colab-df-quickchart-complete:disabled,\n",
              "  .colab-df-quickchart-complete:disabled:hover {\n",
              "    background-color: var(--disabled-bg-color);\n",
              "    fill: var(--disabled-fill-color);\n",
              "    box-shadow: none;\n",
              "  }\n",
              "\n",
              "  .colab-df-spinner {\n",
              "    border: 2px solid var(--fill-color);\n",
              "    border-color: transparent;\n",
              "    border-bottom-color: var(--fill-color);\n",
              "    animation:\n",
              "      spin 1s steps(1) infinite;\n",
              "  }\n",
              "\n",
              "  @keyframes spin {\n",
              "    0% {\n",
              "      border-color: transparent;\n",
              "      border-bottom-color: var(--fill-color);\n",
              "      border-left-color: var(--fill-color);\n",
              "    }\n",
              "    20% {\n",
              "      border-color: transparent;\n",
              "      border-left-color: var(--fill-color);\n",
              "      border-top-color: var(--fill-color);\n",
              "    }\n",
              "    30% {\n",
              "      border-color: transparent;\n",
              "      border-left-color: var(--fill-color);\n",
              "      border-top-color: var(--fill-color);\n",
              "      border-right-color: var(--fill-color);\n",
              "    }\n",
              "    40% {\n",
              "      border-color: transparent;\n",
              "      border-right-color: var(--fill-color);\n",
              "      border-top-color: var(--fill-color);\n",
              "    }\n",
              "    60% {\n",
              "      border-color: transparent;\n",
              "      border-right-color: var(--fill-color);\n",
              "    }\n",
              "    80% {\n",
              "      border-color: transparent;\n",
              "      border-right-color: var(--fill-color);\n",
              "      border-bottom-color: var(--fill-color);\n",
              "    }\n",
              "    90% {\n",
              "      border-color: transparent;\n",
              "      border-bottom-color: var(--fill-color);\n",
              "    }\n",
              "  }\n",
              "</style>\n",
              "\n",
              "      <script>\n",
              "        async function quickchart(key) {\n",
              "          const quickchartButtonEl =\n",
              "            document.querySelector('#' + key + ' button');\n",
              "          quickchartButtonEl.disabled = true;  // To prevent multiple clicks.\n",
              "          quickchartButtonEl.classList.add('colab-df-spinner');\n",
              "          try {\n",
              "            const charts = await google.colab.kernel.invokeFunction(\n",
              "                'suggestCharts', [key], {});\n",
              "          } catch (error) {\n",
              "            console.error('Error during call to suggestCharts:', error);\n",
              "          }\n",
              "          quickchartButtonEl.classList.remove('colab-df-spinner');\n",
              "          quickchartButtonEl.classList.add('colab-df-quickchart-complete');\n",
              "        }\n",
              "        (() => {\n",
              "          let quickchartButtonEl =\n",
              "            document.querySelector('#df-1aa5b4ab-e2a8-48e7-833a-de3a824709e8 button');\n",
              "          quickchartButtonEl.style.display =\n",
              "            google.colab.kernel.accessAllowed ? 'block' : 'none';\n",
              "        })();\n",
              "      </script>\n",
              "    </div>\n",
              "\n",
              "    </div>\n",
              "  </div>\n"
            ],
            "application/vnd.google.colaboratory.intrinsic+json": {
              "type": "dataframe",
              "variable_name": "sales"
            }
          },
          "metadata": {},
          "execution_count": 42
        }
      ]
    },
    {
      "cell_type": "code",
      "source": [
        "sales.shape"
      ],
      "metadata": {
        "colab": {
          "base_uri": "https://localhost:8080/"
        },
        "id": "vv6yNXEPBqng",
        "outputId": "3a01d217-4a9e-4f3b-c19f-e7838429d1be"
      },
      "execution_count": 43,
      "outputs": [
        {
          "output_type": "execute_result",
          "data": {
            "text/plain": [
              "(113036, 18)"
            ]
          },
          "metadata": {},
          "execution_count": 43
        }
      ]
    },
    {
      "cell_type": "code",
      "source": [
        "sales.info()"
      ],
      "metadata": {
        "colab": {
          "base_uri": "https://localhost:8080/"
        },
        "id": "uEbiUBJdBqqH",
        "outputId": "a852f92e-aa48-4565-9686-3bc214e54faa"
      },
      "execution_count": 44,
      "outputs": [
        {
          "output_type": "stream",
          "name": "stdout",
          "text": [
            "<class 'pandas.core.frame.DataFrame'>\n",
            "RangeIndex: 113036 entries, 0 to 113035\n",
            "Data columns (total 18 columns):\n",
            " #   Column            Non-Null Count   Dtype         \n",
            "---  ------            --------------   -----         \n",
            " 0   Date              113036 non-null  datetime64[ns]\n",
            " 1   Day               113036 non-null  int64         \n",
            " 2   Month             113036 non-null  object        \n",
            " 3   Year              113036 non-null  int64         \n",
            " 4   Customer_Age      113036 non-null  int64         \n",
            " 5   Age_Group         113036 non-null  object        \n",
            " 6   Customer_Gender   113036 non-null  object        \n",
            " 7   Country           113036 non-null  object        \n",
            " 8   State             113036 non-null  object        \n",
            " 9   Product_Category  113036 non-null  object        \n",
            " 10  Sub_Category      113036 non-null  object        \n",
            " 11  Product           113036 non-null  object        \n",
            " 12  Order_Quantity    113036 non-null  int64         \n",
            " 13  Unit_Cost         113036 non-null  int64         \n",
            " 14  Unit_Price        113036 non-null  int64         \n",
            " 15  Profit            113036 non-null  int64         \n",
            " 16  Cost              113036 non-null  int64         \n",
            " 17  Revenue           113036 non-null  int64         \n",
            "dtypes: datetime64[ns](1), int64(9), object(8)\n",
            "memory usage: 15.5+ MB\n"
          ]
        }
      ]
    },
    {
      "cell_type": "code",
      "source": [
        "sales.describe()"
      ],
      "metadata": {
        "colab": {
          "base_uri": "https://localhost:8080/",
          "height": 300
        },
        "id": "YArUIFe7Bqun",
        "outputId": "fac59210-2c85-4048-f703-00e5486eda2f"
      },
      "execution_count": 45,
      "outputs": [
        {
          "output_type": "execute_result",
          "data": {
            "text/plain": [
              "                                Date            Day           Year  \\\n",
              "count                         113036  113036.000000  113036.000000   \n",
              "mean   2014-11-23 12:14:55.063519232      15.665753    2014.401739   \n",
              "min              2011-01-01 00:00:00       1.000000    2011.000000   \n",
              "25%              2013-12-22 00:00:00       8.000000    2013.000000   \n",
              "50%              2014-06-27 00:00:00      16.000000    2014.000000   \n",
              "75%              2016-01-09 00:00:00      23.000000    2016.000000   \n",
              "max              2016-07-31 00:00:00      31.000000    2016.000000   \n",
              "std                              NaN       8.781567       1.272510   \n",
              "\n",
              "        Customer_Age  Order_Quantity      Unit_Cost     Unit_Price  \\\n",
              "count  113036.000000   113036.000000  113036.000000  113036.000000   \n",
              "mean       35.919212       11.901660     267.296366     452.938427   \n",
              "min        17.000000        1.000000       1.000000       2.000000   \n",
              "25%        28.000000        2.000000       2.000000       5.000000   \n",
              "50%        35.000000       10.000000       9.000000      24.000000   \n",
              "75%        43.000000       20.000000      42.000000      70.000000   \n",
              "max        87.000000       32.000000    2171.000000    3578.000000   \n",
              "std        11.021936        9.561857     549.835483     922.071219   \n",
              "\n",
              "              Profit           Cost        Revenue  \n",
              "count  113036.000000  113036.000000  113036.000000  \n",
              "mean      285.051665     469.318695     754.370360  \n",
              "min       -30.000000       1.000000       2.000000  \n",
              "25%        29.000000      28.000000      63.000000  \n",
              "50%       101.000000     108.000000     223.000000  \n",
              "75%       358.000000     432.000000     800.000000  \n",
              "max     15096.000000   42978.000000   58074.000000  \n",
              "std       453.887443     884.866118    1309.094674  "
            ],
            "text/html": [
              "\n",
              "  <div id=\"df-823391f5-8235-4412-81ee-02eddb725ebc\" class=\"colab-df-container\">\n",
              "    <div>\n",
              "<style scoped>\n",
              "    .dataframe tbody tr th:only-of-type {\n",
              "        vertical-align: middle;\n",
              "    }\n",
              "\n",
              "    .dataframe tbody tr th {\n",
              "        vertical-align: top;\n",
              "    }\n",
              "\n",
              "    .dataframe thead th {\n",
              "        text-align: right;\n",
              "    }\n",
              "</style>\n",
              "<table border=\"1\" class=\"dataframe\">\n",
              "  <thead>\n",
              "    <tr style=\"text-align: right;\">\n",
              "      <th></th>\n",
              "      <th>Date</th>\n",
              "      <th>Day</th>\n",
              "      <th>Year</th>\n",
              "      <th>Customer_Age</th>\n",
              "      <th>Order_Quantity</th>\n",
              "      <th>Unit_Cost</th>\n",
              "      <th>Unit_Price</th>\n",
              "      <th>Profit</th>\n",
              "      <th>Cost</th>\n",
              "      <th>Revenue</th>\n",
              "    </tr>\n",
              "  </thead>\n",
              "  <tbody>\n",
              "    <tr>\n",
              "      <th>count</th>\n",
              "      <td>113036</td>\n",
              "      <td>113036.000000</td>\n",
              "      <td>113036.000000</td>\n",
              "      <td>113036.000000</td>\n",
              "      <td>113036.000000</td>\n",
              "      <td>113036.000000</td>\n",
              "      <td>113036.000000</td>\n",
              "      <td>113036.000000</td>\n",
              "      <td>113036.000000</td>\n",
              "      <td>113036.000000</td>\n",
              "    </tr>\n",
              "    <tr>\n",
              "      <th>mean</th>\n",
              "      <td>2014-11-23 12:14:55.063519232</td>\n",
              "      <td>15.665753</td>\n",
              "      <td>2014.401739</td>\n",
              "      <td>35.919212</td>\n",
              "      <td>11.901660</td>\n",
              "      <td>267.296366</td>\n",
              "      <td>452.938427</td>\n",
              "      <td>285.051665</td>\n",
              "      <td>469.318695</td>\n",
              "      <td>754.370360</td>\n",
              "    </tr>\n",
              "    <tr>\n",
              "      <th>min</th>\n",
              "      <td>2011-01-01 00:00:00</td>\n",
              "      <td>1.000000</td>\n",
              "      <td>2011.000000</td>\n",
              "      <td>17.000000</td>\n",
              "      <td>1.000000</td>\n",
              "      <td>1.000000</td>\n",
              "      <td>2.000000</td>\n",
              "      <td>-30.000000</td>\n",
              "      <td>1.000000</td>\n",
              "      <td>2.000000</td>\n",
              "    </tr>\n",
              "    <tr>\n",
              "      <th>25%</th>\n",
              "      <td>2013-12-22 00:00:00</td>\n",
              "      <td>8.000000</td>\n",
              "      <td>2013.000000</td>\n",
              "      <td>28.000000</td>\n",
              "      <td>2.000000</td>\n",
              "      <td>2.000000</td>\n",
              "      <td>5.000000</td>\n",
              "      <td>29.000000</td>\n",
              "      <td>28.000000</td>\n",
              "      <td>63.000000</td>\n",
              "    </tr>\n",
              "    <tr>\n",
              "      <th>50%</th>\n",
              "      <td>2014-06-27 00:00:00</td>\n",
              "      <td>16.000000</td>\n",
              "      <td>2014.000000</td>\n",
              "      <td>35.000000</td>\n",
              "      <td>10.000000</td>\n",
              "      <td>9.000000</td>\n",
              "      <td>24.000000</td>\n",
              "      <td>101.000000</td>\n",
              "      <td>108.000000</td>\n",
              "      <td>223.000000</td>\n",
              "    </tr>\n",
              "    <tr>\n",
              "      <th>75%</th>\n",
              "      <td>2016-01-09 00:00:00</td>\n",
              "      <td>23.000000</td>\n",
              "      <td>2016.000000</td>\n",
              "      <td>43.000000</td>\n",
              "      <td>20.000000</td>\n",
              "      <td>42.000000</td>\n",
              "      <td>70.000000</td>\n",
              "      <td>358.000000</td>\n",
              "      <td>432.000000</td>\n",
              "      <td>800.000000</td>\n",
              "    </tr>\n",
              "    <tr>\n",
              "      <th>max</th>\n",
              "      <td>2016-07-31 00:00:00</td>\n",
              "      <td>31.000000</td>\n",
              "      <td>2016.000000</td>\n",
              "      <td>87.000000</td>\n",
              "      <td>32.000000</td>\n",
              "      <td>2171.000000</td>\n",
              "      <td>3578.000000</td>\n",
              "      <td>15096.000000</td>\n",
              "      <td>42978.000000</td>\n",
              "      <td>58074.000000</td>\n",
              "    </tr>\n",
              "    <tr>\n",
              "      <th>std</th>\n",
              "      <td>NaN</td>\n",
              "      <td>8.781567</td>\n",
              "      <td>1.272510</td>\n",
              "      <td>11.021936</td>\n",
              "      <td>9.561857</td>\n",
              "      <td>549.835483</td>\n",
              "      <td>922.071219</td>\n",
              "      <td>453.887443</td>\n",
              "      <td>884.866118</td>\n",
              "      <td>1309.094674</td>\n",
              "    </tr>\n",
              "  </tbody>\n",
              "</table>\n",
              "</div>\n",
              "    <div class=\"colab-df-buttons\">\n",
              "\n",
              "  <div class=\"colab-df-container\">\n",
              "    <button class=\"colab-df-convert\" onclick=\"convertToInteractive('df-823391f5-8235-4412-81ee-02eddb725ebc')\"\n",
              "            title=\"Convert this dataframe to an interactive table.\"\n",
              "            style=\"display:none;\">\n",
              "\n",
              "  <svg xmlns=\"http://www.w3.org/2000/svg\" height=\"24px\" viewBox=\"0 -960 960 960\">\n",
              "    <path d=\"M120-120v-720h720v720H120Zm60-500h600v-160H180v160Zm220 220h160v-160H400v160Zm0 220h160v-160H400v160ZM180-400h160v-160H180v160Zm440 0h160v-160H620v160ZM180-180h160v-160H180v160Zm440 0h160v-160H620v160Z\"/>\n",
              "  </svg>\n",
              "    </button>\n",
              "\n",
              "  <style>\n",
              "    .colab-df-container {\n",
              "      display:flex;\n",
              "      gap: 12px;\n",
              "    }\n",
              "\n",
              "    .colab-df-convert {\n",
              "      background-color: #E8F0FE;\n",
              "      border: none;\n",
              "      border-radius: 50%;\n",
              "      cursor: pointer;\n",
              "      display: none;\n",
              "      fill: #1967D2;\n",
              "      height: 32px;\n",
              "      padding: 0 0 0 0;\n",
              "      width: 32px;\n",
              "    }\n",
              "\n",
              "    .colab-df-convert:hover {\n",
              "      background-color: #E2EBFA;\n",
              "      box-shadow: 0px 1px 2px rgba(60, 64, 67, 0.3), 0px 1px 3px 1px rgba(60, 64, 67, 0.15);\n",
              "      fill: #174EA6;\n",
              "    }\n",
              "\n",
              "    .colab-df-buttons div {\n",
              "      margin-bottom: 4px;\n",
              "    }\n",
              "\n",
              "    [theme=dark] .colab-df-convert {\n",
              "      background-color: #3B4455;\n",
              "      fill: #D2E3FC;\n",
              "    }\n",
              "\n",
              "    [theme=dark] .colab-df-convert:hover {\n",
              "      background-color: #434B5C;\n",
              "      box-shadow: 0px 1px 3px 1px rgba(0, 0, 0, 0.15);\n",
              "      filter: drop-shadow(0px 1px 2px rgba(0, 0, 0, 0.3));\n",
              "      fill: #FFFFFF;\n",
              "    }\n",
              "  </style>\n",
              "\n",
              "    <script>\n",
              "      const buttonEl =\n",
              "        document.querySelector('#df-823391f5-8235-4412-81ee-02eddb725ebc button.colab-df-convert');\n",
              "      buttonEl.style.display =\n",
              "        google.colab.kernel.accessAllowed ? 'block' : 'none';\n",
              "\n",
              "      async function convertToInteractive(key) {\n",
              "        const element = document.querySelector('#df-823391f5-8235-4412-81ee-02eddb725ebc');\n",
              "        const dataTable =\n",
              "          await google.colab.kernel.invokeFunction('convertToInteractive',\n",
              "                                                    [key], {});\n",
              "        if (!dataTable) return;\n",
              "\n",
              "        const docLinkHtml = 'Like what you see? Visit the ' +\n",
              "          '<a target=\"_blank\" href=https://colab.research.google.com/notebooks/data_table.ipynb>data table notebook</a>'\n",
              "          + ' to learn more about interactive tables.';\n",
              "        element.innerHTML = '';\n",
              "        dataTable['output_type'] = 'display_data';\n",
              "        await google.colab.output.renderOutput(dataTable, element);\n",
              "        const docLink = document.createElement('div');\n",
              "        docLink.innerHTML = docLinkHtml;\n",
              "        element.appendChild(docLink);\n",
              "      }\n",
              "    </script>\n",
              "  </div>\n",
              "\n",
              "\n",
              "    <div id=\"df-bc64ce57-9d41-4aa9-8070-4512f249832f\">\n",
              "      <button class=\"colab-df-quickchart\" onclick=\"quickchart('df-bc64ce57-9d41-4aa9-8070-4512f249832f')\"\n",
              "                title=\"Suggest charts\"\n",
              "                style=\"display:none;\">\n",
              "\n",
              "<svg xmlns=\"http://www.w3.org/2000/svg\" height=\"24px\"viewBox=\"0 0 24 24\"\n",
              "     width=\"24px\">\n",
              "    <g>\n",
              "        <path d=\"M19 3H5c-1.1 0-2 .9-2 2v14c0 1.1.9 2 2 2h14c1.1 0 2-.9 2-2V5c0-1.1-.9-2-2-2zM9 17H7v-7h2v7zm4 0h-2V7h2v10zm4 0h-2v-4h2v4z\"/>\n",
              "    </g>\n",
              "</svg>\n",
              "      </button>\n",
              "\n",
              "<style>\n",
              "  .colab-df-quickchart {\n",
              "      --bg-color: #E8F0FE;\n",
              "      --fill-color: #1967D2;\n",
              "      --hover-bg-color: #E2EBFA;\n",
              "      --hover-fill-color: #174EA6;\n",
              "      --disabled-fill-color: #AAA;\n",
              "      --disabled-bg-color: #DDD;\n",
              "  }\n",
              "\n",
              "  [theme=dark] .colab-df-quickchart {\n",
              "      --bg-color: #3B4455;\n",
              "      --fill-color: #D2E3FC;\n",
              "      --hover-bg-color: #434B5C;\n",
              "      --hover-fill-color: #FFFFFF;\n",
              "      --disabled-bg-color: #3B4455;\n",
              "      --disabled-fill-color: #666;\n",
              "  }\n",
              "\n",
              "  .colab-df-quickchart {\n",
              "    background-color: var(--bg-color);\n",
              "    border: none;\n",
              "    border-radius: 50%;\n",
              "    cursor: pointer;\n",
              "    display: none;\n",
              "    fill: var(--fill-color);\n",
              "    height: 32px;\n",
              "    padding: 0;\n",
              "    width: 32px;\n",
              "  }\n",
              "\n",
              "  .colab-df-quickchart:hover {\n",
              "    background-color: var(--hover-bg-color);\n",
              "    box-shadow: 0 1px 2px rgba(60, 64, 67, 0.3), 0 1px 3px 1px rgba(60, 64, 67, 0.15);\n",
              "    fill: var(--button-hover-fill-color);\n",
              "  }\n",
              "\n",
              "  .colab-df-quickchart-complete:disabled,\n",
              "  .colab-df-quickchart-complete:disabled:hover {\n",
              "    background-color: var(--disabled-bg-color);\n",
              "    fill: var(--disabled-fill-color);\n",
              "    box-shadow: none;\n",
              "  }\n",
              "\n",
              "  .colab-df-spinner {\n",
              "    border: 2px solid var(--fill-color);\n",
              "    border-color: transparent;\n",
              "    border-bottom-color: var(--fill-color);\n",
              "    animation:\n",
              "      spin 1s steps(1) infinite;\n",
              "  }\n",
              "\n",
              "  @keyframes spin {\n",
              "    0% {\n",
              "      border-color: transparent;\n",
              "      border-bottom-color: var(--fill-color);\n",
              "      border-left-color: var(--fill-color);\n",
              "    }\n",
              "    20% {\n",
              "      border-color: transparent;\n",
              "      border-left-color: var(--fill-color);\n",
              "      border-top-color: var(--fill-color);\n",
              "    }\n",
              "    30% {\n",
              "      border-color: transparent;\n",
              "      border-left-color: var(--fill-color);\n",
              "      border-top-color: var(--fill-color);\n",
              "      border-right-color: var(--fill-color);\n",
              "    }\n",
              "    40% {\n",
              "      border-color: transparent;\n",
              "      border-right-color: var(--fill-color);\n",
              "      border-top-color: var(--fill-color);\n",
              "    }\n",
              "    60% {\n",
              "      border-color: transparent;\n",
              "      border-right-color: var(--fill-color);\n",
              "    }\n",
              "    80% {\n",
              "      border-color: transparent;\n",
              "      border-right-color: var(--fill-color);\n",
              "      border-bottom-color: var(--fill-color);\n",
              "    }\n",
              "    90% {\n",
              "      border-color: transparent;\n",
              "      border-bottom-color: var(--fill-color);\n",
              "    }\n",
              "  }\n",
              "</style>\n",
              "\n",
              "      <script>\n",
              "        async function quickchart(key) {\n",
              "          const quickchartButtonEl =\n",
              "            document.querySelector('#' + key + ' button');\n",
              "          quickchartButtonEl.disabled = true;  // To prevent multiple clicks.\n",
              "          quickchartButtonEl.classList.add('colab-df-spinner');\n",
              "          try {\n",
              "            const charts = await google.colab.kernel.invokeFunction(\n",
              "                'suggestCharts', [key], {});\n",
              "          } catch (error) {\n",
              "            console.error('Error during call to suggestCharts:', error);\n",
              "          }\n",
              "          quickchartButtonEl.classList.remove('colab-df-spinner');\n",
              "          quickchartButtonEl.classList.add('colab-df-quickchart-complete');\n",
              "        }\n",
              "        (() => {\n",
              "          let quickchartButtonEl =\n",
              "            document.querySelector('#df-bc64ce57-9d41-4aa9-8070-4512f249832f button');\n",
              "          quickchartButtonEl.style.display =\n",
              "            google.colab.kernel.accessAllowed ? 'block' : 'none';\n",
              "        })();\n",
              "      </script>\n",
              "    </div>\n",
              "\n",
              "    </div>\n",
              "  </div>\n"
            ],
            "application/vnd.google.colaboratory.intrinsic+json": {
              "type": "dataframe",
              "summary": "{\n  \"name\": \"sales\",\n  \"rows\": 8,\n  \"fields\": [\n    {\n      \"column\": \"Date\",\n      \"properties\": {\n        \"dtype\": \"date\",\n        \"min\": \"1970-01-01 00:00:00.000113036\",\n        \"max\": \"2016-07-31 00:00:00\",\n        \"num_unique_values\": 7,\n        \"samples\": [\n          \"113036\",\n          \"2014-11-23 12:14:55.063519232\",\n          \"2016-01-09 00:00:00\"\n        ],\n        \"semantic_type\": \"\",\n        \"description\": \"\"\n      }\n    },\n    {\n      \"column\": \"Day\",\n      \"properties\": {\n        \"dtype\": \"number\",\n        \"std\": 39959.03726151078,\n        \"min\": 1.0,\n        \"max\": 113036.0,\n        \"num_unique_values\": 8,\n        \"samples\": [\n          15.665752503627163,\n          23.0,\n          113036.0\n        ],\n        \"semantic_type\": \"\",\n        \"description\": \"\"\n      }\n    },\n    {\n      \"column\": \"Year\",\n      \"properties\": {\n        \"dtype\": \"number\",\n        \"std\": 39360.14470630131,\n        \"min\": 1.2725103861597218,\n        \"max\": 113036.0,\n        \"num_unique_values\": 7,\n        \"samples\": [\n          113036.0,\n          2014.4017392689054,\n          2016.0\n        ],\n        \"semantic_type\": \"\",\n        \"description\": \"\"\n      }\n    },\n    {\n      \"column\": \"Customer_Age\",\n      \"properties\": {\n        \"dtype\": \"number\",\n        \"std\": 39951.29018022159,\n        \"min\": 11.021935623682856,\n        \"max\": 113036.0,\n        \"num_unique_values\": 8,\n        \"samples\": [\n          35.91921157861212,\n          43.0,\n          113036.0\n        ],\n        \"semantic_type\": \"\",\n        \"description\": \"\"\n      }\n    },\n    {\n      \"column\": \"Order_Quantity\",\n      \"properties\": {\n        \"dtype\": \"number\",\n        \"std\": 39959.89523273121,\n        \"min\": 1.0,\n        \"max\": 113036.0,\n        \"num_unique_values\": 8,\n        \"samples\": [\n          11.901659648253654,\n          20.0,\n          113036.0\n        ],\n        \"semantic_type\": \"\",\n        \"description\": \"\"\n      }\n    },\n    {\n      \"column\": \"Unit_Cost\",\n      \"properties\": {\n        \"dtype\": \"number\",\n        \"std\": 39817.368010015874,\n        \"min\": 1.0,\n        \"max\": 113036.0,\n        \"num_unique_values\": 8,\n        \"samples\": [\n          267.296365759581,\n          42.0,\n          113036.0\n        ],\n        \"semantic_type\": \"\",\n        \"description\": \"\"\n      }\n    },\n    {\n      \"column\": \"Unit_Price\",\n      \"properties\": {\n        \"dtype\": \"number\",\n        \"std\": 39727.3636468028,\n        \"min\": 2.0,\n        \"max\": 113036.0,\n        \"num_unique_values\": 8,\n        \"samples\": [\n          452.9384266959199,\n          70.0,\n          113036.0\n        ],\n        \"semantic_type\": \"\",\n        \"description\": \"\"\n      }\n    },\n    {\n      \"column\": \"Profit\",\n      \"properties\": {\n        \"dtype\": \"number\",\n        \"std\": 39487.26209608101,\n        \"min\": -30.0,\n        \"max\": 113036.0,\n        \"num_unique_values\": 8,\n        \"samples\": [\n          285.0516649562971,\n          358.0,\n          113036.0\n        ],\n        \"semantic_type\": \"\",\n        \"description\": \"\"\n      }\n    },\n    {\n      \"column\": \"Cost\",\n      \"properties\": {\n        \"dtype\": \"number\",\n        \"std\": 40545.2636088292,\n        \"min\": 1.0,\n        \"max\": 113036.0,\n        \"num_unique_values\": 8,\n        \"samples\": [\n          469.3186949290492,\n          432.0,\n          113036.0\n        ],\n        \"semantic_type\": \"\",\n        \"description\": \"\"\n      }\n    },\n    {\n      \"column\": \"Revenue\",\n      \"properties\": {\n        \"dtype\": \"number\",\n        \"std\": 42014.99902765207,\n        \"min\": 2.0,\n        \"max\": 113036.0,\n        \"num_unique_values\": 8,\n        \"samples\": [\n          754.3703598853463,\n          800.0,\n          113036.0\n        ],\n        \"semantic_type\": \"\",\n        \"description\": \"\"\n      }\n    }\n  ]\n}"
            }
          },
          "metadata": {},
          "execution_count": 45
        }
      ]
    },
    {
      "cell_type": "markdown",
      "source": [
        "##NUMERICAL ANALYSIS AND VISUALIZATION"
      ],
      "metadata": {
        "id": "MA8qVRiGFjAN"
      }
    },
    {
      "cell_type": "code",
      "source": [
        "sales['Cost'].describe()"
      ],
      "metadata": {
        "colab": {
          "base_uri": "https://localhost:8080/",
          "height": 335
        },
        "id": "QRaPCRi5Fcxr",
        "outputId": "347ca545-09c4-41a0-8f31-483a3b3e6295"
      },
      "execution_count": 46,
      "outputs": [
        {
          "output_type": "execute_result",
          "data": {
            "text/plain": [
              "count    113036.000000\n",
              "mean        469.318695\n",
              "std         884.866118\n",
              "min           1.000000\n",
              "25%          28.000000\n",
              "50%         108.000000\n",
              "75%         432.000000\n",
              "max       42978.000000\n",
              "Name: Cost, dtype: float64"
            ],
            "text/html": [
              "<div>\n",
              "<style scoped>\n",
              "    .dataframe tbody tr th:only-of-type {\n",
              "        vertical-align: middle;\n",
              "    }\n",
              "\n",
              "    .dataframe tbody tr th {\n",
              "        vertical-align: top;\n",
              "    }\n",
              "\n",
              "    .dataframe thead th {\n",
              "        text-align: right;\n",
              "    }\n",
              "</style>\n",
              "<table border=\"1\" class=\"dataframe\">\n",
              "  <thead>\n",
              "    <tr style=\"text-align: right;\">\n",
              "      <th></th>\n",
              "      <th>Cost</th>\n",
              "    </tr>\n",
              "  </thead>\n",
              "  <tbody>\n",
              "    <tr>\n",
              "      <th>count</th>\n",
              "      <td>113036.000000</td>\n",
              "    </tr>\n",
              "    <tr>\n",
              "      <th>mean</th>\n",
              "      <td>469.318695</td>\n",
              "    </tr>\n",
              "    <tr>\n",
              "      <th>std</th>\n",
              "      <td>884.866118</td>\n",
              "    </tr>\n",
              "    <tr>\n",
              "      <th>min</th>\n",
              "      <td>1.000000</td>\n",
              "    </tr>\n",
              "    <tr>\n",
              "      <th>25%</th>\n",
              "      <td>28.000000</td>\n",
              "    </tr>\n",
              "    <tr>\n",
              "      <th>50%</th>\n",
              "      <td>108.000000</td>\n",
              "    </tr>\n",
              "    <tr>\n",
              "      <th>75%</th>\n",
              "      <td>432.000000</td>\n",
              "    </tr>\n",
              "    <tr>\n",
              "      <th>max</th>\n",
              "      <td>42978.000000</td>\n",
              "    </tr>\n",
              "  </tbody>\n",
              "</table>\n",
              "</div><br><label><b>dtype:</b> float64</label>"
            ]
          },
          "metadata": {},
          "execution_count": 46
        }
      ]
    },
    {
      "cell_type": "code",
      "source": [
        "sales['Unit_Cost'].plot(kind = 'box', vert = False, figsize=(10,4))\n",
        "# biểu đồ hộp râu biểu thị min, max, median, q1 và q3\n",
        "# các điểm tròn nằm ngoài biểu đồ có thể là outliers, wrong data"
      ],
      "metadata": {
        "colab": {
          "base_uri": "https://localhost:8080/",
          "height": 385
        },
        "id": "C3asOR_FGBdr",
        "outputId": "6714b4a6-f3d0-4b05-e8a7-6ad302debb50"
      },
      "execution_count": 47,
      "outputs": [
        {
          "output_type": "execute_result",
          "data": {
            "text/plain": [
              "<Axes: >"
            ]
          },
          "metadata": {},
          "execution_count": 47
        },
        {
          "output_type": "display_data",
          "data": {
            "text/plain": [
              "<Figure size 1000x400 with 1 Axes>"
            ],
            "image/png": "[encoded data removed]"
          },
          "metadata": {}
        }
      ]
    },
    {
      "cell_type": "code",
      "source": [
        "ax = sales['Unit_Cost'].plot(kind = 'density', figsize=(10,4), color='red')\n",
        "ax.axvline(sales['Unit_Cost'].mean(), color='blue')\n",
        "ax.axvline(sales['Unit_Cost'].median(), color='yellow')\n",
        "# biểu đồ density ước lượng và trực quan hóa phân phối xác suất của biến liên tục\n",
        "# axvline dùng để vẽ vertical line tại 1 điểm cố định tại trục X"
      ],
      "metadata": {
        "colab": {
          "base_uri": "https://localhost:8080/",
          "height": 385
        },
        "id": "w8HkBbocGBgh",
        "outputId": "d391cd92-057c-4a3b-8f4b-cb7dbf98daa9"
      },
      "execution_count": 48,
      "outputs": [
        {
          "output_type": "execute_result",
          "data": {
            "text/plain": [
              "<matplotlib.lines.Line2D at 0x7cdd69923d90>"
            ]
          },
          "metadata": {},
          "execution_count": 48
        },
        {
          "output_type": "display_data",
          "data": {
            "text/plain": [
              "<Figure size 1000x400 with 1 Axes>"
            ],
            "image/png": "[encoded data removed]"
          },
          "metadata": {}
        }
      ]
    },
    {
      "cell_type": "code",
      "source": [
        "ax = sales['Unit_Cost'].plot(kind = 'hist', figsize = (10,4), color = 'green')\n",
        "ax.set_xlabel('Numbers of sales')\n",
        "ax.set_ylabel('Dollars')"
      ],
      "metadata": {
        "colab": {
          "base_uri": "https://localhost:8080/",
          "height": 405
        },
        "id": "Y34zNsf_L9F4",
        "outputId": "28d6425d-8f24-4ca1-dcb7-f6ef69693620"
      },
      "execution_count": 49,
      "outputs": [
        {
          "output_type": "execute_result",
          "data": {
            "text/plain": [
              "Text(0, 0.5, 'Dollars')"
            ]
          },
          "metadata": {},
          "execution_count": 49
        },
        {
          "output_type": "display_data",
          "data": {
            "text/plain": [
              "<Figure size 1000x400 with 1 Axes>"
            ],
            "image/png": "[encoded data removed]"
          },
          "metadata": {}
        }
      ]
    },
    {
      "cell_type": "markdown",
      "source": [
        "##CATEGORICAL ANALYSIS AND VISUALIZATION"
      ],
      "metadata": {
        "id": "7L7JbbFXOGBj"
      }
    },
    {
      "cell_type": "code",
      "source": [
        "sales['Age_Group'].value_counts()\n",
        "# mỗi dòng là 1 sales, tương đương với 1 khách hàng có độ tuổi => count số lượng tuổi xuất hiện ~ số lượng đơn hàng (Sales)"
      ],
      "metadata": {
        "colab": {
          "base_uri": "https://localhost:8080/",
          "height": 241
        },
        "id": "r497sXLdNuUv",
        "outputId": "93540c50-9ab8-4cc4-eb83-97d265cd450e"
      },
      "execution_count": 50,
      "outputs": [
        {
          "output_type": "execute_result",
          "data": {
            "text/plain": [
              "Age_Group\n",
              "Adults (35-64)          55824\n",
              "Young Adults (25-34)    38654\n",
              "Youth (<25)             17828\n",
              "Seniors (64+)             730\n",
              "Name: count, dtype: int64"
            ],
            "text/html": [
              "<div>\n",
              "<style scoped>\n",
              "    .dataframe tbody tr th:only-of-type {\n",
              "        vertical-align: middle;\n",
              "    }\n",
              "\n",
              "    .dataframe tbody tr th {\n",
              "        vertical-align: top;\n",
              "    }\n",
              "\n",
              "    .dataframe thead th {\n",
              "        text-align: right;\n",
              "    }\n",
              "</style>\n",
              "<table border=\"1\" class=\"dataframe\">\n",
              "  <thead>\n",
              "    <tr style=\"text-align: right;\">\n",
              "      <th></th>\n",
              "      <th>count</th>\n",
              "    </tr>\n",
              "    <tr>\n",
              "      <th>Age_Group</th>\n",
              "      <th></th>\n",
              "    </tr>\n",
              "  </thead>\n",
              "  <tbody>\n",
              "    <tr>\n",
              "      <th>Adults (35-64)</th>\n",
              "      <td>55824</td>\n",
              "    </tr>\n",
              "    <tr>\n",
              "      <th>Young Adults (25-34)</th>\n",
              "      <td>38654</td>\n",
              "    </tr>\n",
              "    <tr>\n",
              "      <th>Youth (&lt;25)</th>\n",
              "      <td>17828</td>\n",
              "    </tr>\n",
              "    <tr>\n",
              "      <th>Seniors (64+)</th>\n",
              "      <td>730</td>\n",
              "    </tr>\n",
              "  </tbody>\n",
              "</table>\n",
              "</div><br><label><b>dtype:</b> int64</label>"
            ]
          },
          "metadata": {},
          "execution_count": 50
        }
      ]
    },
    {
      "cell_type": "code",
      "source": [
        "sales['Age_Group'].value_counts().plot(kind = 'pie')"
      ],
      "metadata": {
        "colab": {
          "base_uri": "https://localhost:8080/",
          "height": 423
        },
        "id": "bAiLv879OTX-",
        "outputId": "00aad30b-71ca-4e3a-f2f6-d892430e21fe"
      },
      "execution_count": 51,
      "outputs": [
        {
          "output_type": "execute_result",
          "data": {
            "text/plain": [
              "<Axes: ylabel='count'>"
            ]
          },
          "metadata": {},
          "execution_count": 51
        },
        {
          "output_type": "display_data",
          "data": {
            "text/plain": [
              "<Figure size 640x480 with 1 Axes>"
            ],
            "image/png": "[encoded data removed]"
          },
          "metadata": {}
        }
      ]
    },
    {
      "cell_type": "code",
      "source": [
        "az = sales['Age_Group'].value_counts().plot(kind='bar', color='purple')\n",
        "az.set_ylabel('Number of sales')"
      ],
      "metadata": {
        "colab": {
          "base_uri": "https://localhost:8080/",
          "height": 597
        },
        "id": "Vz08leEqLQ63",
        "outputId": "945b29b4-04c6-4177-c368-efd3dc00bf12"
      },
      "execution_count": 52,
      "outputs": [
        {
          "output_type": "execute_result",
          "data": {
            "text/plain": [
              "Text(0, 0.5, 'Number of sales')"
            ]
          },
          "metadata": {},
          "execution_count": 52
        },
        {
          "output_type": "display_data",
          "data": {
            "text/plain": [
              "<Figure size 640x480 with 1 Axes>"
            ],
            "image/png": "[encoded data removed]"
          },
          "metadata": {}
        }
      ]
    },
    {
      "cell_type": "markdown",
      "source": [
        "##RELATIONSHIP BETWEEN 2 COLUMNS"
      ],
      "metadata": {
        "id": "G7f_PXfSSDkg"
      }
    },
    {
      "cell_type": "code",
      "source": [
        "# chọn những cột có dữ liệu là số để chạy corr\n",
        "# corr thể hiện quan hệ tuyến tính giữa 2 biến, âm là tương quan ngịch, dương là tương quan thuận, hệ số tương quan càng gần 1 thì tương quan giữa 2 biến càng cao\n",
        "numerical_sales = sales.select_dtypes(include=np.number)\n",
        "numerical_sales.corr()"
      ],
      "metadata": {
        "colab": {
          "base_uri": "https://localhost:8080/",
          "height": 332
        },
        "id": "PM7v-GQzRPtA",
        "outputId": "5ac93096-9957-425d-b0dc-0b2d503abdeb"
      },
      "execution_count": 53,
      "outputs": [
        {
          "output_type": "execute_result",
          "data": {
            "text/plain": [
              "                     Day      Year  Customer_Age  Order_Quantity  Unit_Cost  \\\n",
              "Day             1.000000 -0.007635     -0.014296       -0.002412   0.003133   \n",
              "Year           -0.007635  1.000000      0.040994        0.123169  -0.217575   \n",
              "Customer_Age   -0.014296  0.040994      1.000000        0.026887  -0.021374   \n",
              "Order_Quantity -0.002412  0.123169      0.026887        1.000000  -0.515835   \n",
              "Unit_Cost       0.003133 -0.217575     -0.021374       -0.515835   1.000000   \n",
              "Unit_Price      0.003207 -0.213673     -0.020262       -0.515925   0.997894   \n",
              "Profit          0.004623 -0.181525      0.004319       -0.238863   0.741020   \n",
              "Cost            0.003329 -0.215604     -0.016013       -0.340382   0.829869   \n",
              "Revenue         0.003853 -0.208673     -0.009326       -0.312895   0.817865   \n",
              "\n",
              "                Unit_Price    Profit      Cost   Revenue  \n",
              "Day               0.003207  0.004623  0.003329  0.003853  \n",
              "Year             -0.213673 -0.181525 -0.215604 -0.208673  \n",
              "Customer_Age     -0.020262  0.004319 -0.016013 -0.009326  \n",
              "Order_Quantity   -0.515925 -0.238863 -0.340382 -0.312895  \n",
              "Unit_Cost         0.997894  0.741020  0.829869  0.817865  \n",
              "Unit_Price        1.000000  0.749870  0.826301  0.818522  \n",
              "Profit            0.749870  1.000000  0.902233  0.956572  \n",
              "Cost              0.826301  0.902233  1.000000  0.988758  \n",
              "Revenue           0.818522  0.956572  0.988758  1.000000  "
            ],
            "text/html": [
              "\n",
              "  <div id=\"df-dd252026-4c78-4800-b151-72a0b4bf5a34\" class=\"colab-df-container\">\n",
              "    <div>\n",
              "<style scoped>\n",
              "    .dataframe tbody tr th:only-of-type {\n",
              "        vertical-align: middle;\n",
              "    }\n",
              "\n",
              "    .dataframe tbody tr th {\n",
              "        vertical-align: top;\n",
              "    }\n",
              "\n",
              "    .dataframe thead th {\n",
              "        text-align: right;\n",
              "    }\n",
              "</style>\n",
              "<table border=\"1\" class=\"dataframe\">\n",
              "  <thead>\n",
              "    <tr style=\"text-align: right;\">\n",
              "      <th></th>\n",
              "      <th>Day</th>\n",
              "      <th>Year</th>\n",
              "      <th>Customer_Age</th>\n",
              "      <th>Order_Quantity</th>\n",
              "      <th>Unit_Cost</th>\n",
              "      <th>Unit_Price</th>\n",
              "      <th>Profit</th>\n",
              "      <th>Cost</th>\n",
              "      <th>Revenue</th>\n",
              "    </tr>\n",
              "  </thead>\n",
              "  <tbody>\n",
              "    <tr>\n",
              "      <th>Day</th>\n",
              "      <td>1.000000</td>\n",
              "      <td>-0.007635</td>\n",
              "      <td>-0.014296</td>\n",
              "      <td>-0.002412</td>\n",
              "      <td>0.003133</td>\n",
              "      <td>0.003207</td>\n",
              "      <td>0.004623</td>\n",
              "      <td>0.003329</td>\n",
              "      <td>0.003853</td>\n",
              "    </tr>\n",
              "    <tr>\n",
              "      <th>Year</th>\n",
              "      <td>-0.007635</td>\n",
              "      <td>1.000000</td>\n",
              "      <td>0.040994</td>\n",
              "      <td>0.123169</td>\n",
              "      <td>-0.217575</td>\n",
              "      <td>-0.213673</td>\n",
              "      <td>-0.181525</td>\n",
              "      <td>-0.215604</td>\n",
              "      <td>-0.208673</td>\n",
              "    </tr>\n",
              "    <tr>\n",
              "      <th>Customer_Age</th>\n",
              "      <td>-0.014296</td>\n",
              "      <td>0.040994</td>\n",
              "      <td>1.000000</td>\n",
              "      <td>0.026887</td>\n",
              "      <td>-0.021374</td>\n",
              "      <td>-0.020262</td>\n",
              "      <td>0.004319</td>\n",
              "      <td>-0.016013</td>\n",
              "      <td>-0.009326</td>\n",
              "    </tr>\n",
              "    <tr>\n",
              "      <th>Order_Quantity</th>\n",
              "      <td>-0.002412</td>\n",
              "      <td>0.123169</td>\n",
              "      <td>0.026887</td>\n",
              "      <td>1.000000</td>\n",
              "      <td>-0.515835</td>\n",
              "      <td>-0.515925</td>\n",
              "      <td>-0.238863</td>\n",
              "      <td>-0.340382</td>\n",
              "      <td>-0.312895</td>\n",
              "    </tr>\n",
              "    <tr>\n",
              "      <th>Unit_Cost</th>\n",
              "      <td>0.003133</td>\n",
              "      <td>-0.217575</td>\n",
              "      <td>-0.021374</td>\n",
              "      <td>-0.515835</td>\n",
              "      <td>1.000000</td>\n",
              "      <td>0.997894</td>\n",
              "      <td>0.741020</td>\n",
              "      <td>0.829869</td>\n",
              "      <td>0.817865</td>\n",
              "    </tr>\n",
              "    <tr>\n",
              "      <th>Unit_Price</th>\n",
              "      <td>0.003207</td>\n",
              "      <td>-0.213673</td>\n",
              "      <td>-0.020262</td>\n",
              "      <td>-0.515925</td>\n",
              "      <td>0.997894</td>\n",
              "      <td>1.000000</td>\n",
              "      <td>0.749870</td>\n",
              "      <td>0.826301</td>\n",
              "      <td>0.818522</td>\n",
              "    </tr>\n",
              "    <tr>\n",
              "      <th>Profit</th>\n",
              "      <td>0.004623</td>\n",
              "      <td>-0.181525</td>\n",
              "      <td>0.004319</td>\n",
              "      <td>-0.238863</td>\n",
              "      <td>0.741020</td>\n",
              "      <td>0.749870</td>\n",
              "      <td>1.000000</td>\n",
              "      <td>0.902233</td>\n",
              "      <td>0.956572</td>\n",
              "    </tr>\n",
              "    <tr>\n",
              "      <th>Cost</th>\n",
              "      <td>0.003329</td>\n",
              "      <td>-0.215604</td>\n",
              "      <td>-0.016013</td>\n",
              "      <td>-0.340382</td>\n",
              "      <td>0.829869</td>\n",
              "      <td>0.826301</td>\n",
              "      <td>0.902233</td>\n",
              "      <td>1.000000</td>\n",
              "      <td>0.988758</td>\n",
              "    </tr>\n",
              "    <tr>\n",
              "      <th>Revenue</th>\n",
              "      <td>0.003853</td>\n",
              "      <td>-0.208673</td>\n",
              "      <td>-0.009326</td>\n",
              "      <td>-0.312895</td>\n",
              "      <td>0.817865</td>\n",
              "      <td>0.818522</td>\n",
              "      <td>0.956572</td>\n",
              "      <td>0.988758</td>\n",
              "      <td>1.000000</td>\n",
              "    </tr>\n",
              "  </tbody>\n",
              "</table>\n",
              "</div>\n",
              "    <div class=\"colab-df-buttons\">\n",
              "\n",
              "  <div class=\"colab-df-container\">\n",
              "    <button class=\"colab-df-convert\" onclick=\"convertToInteractive('df-dd252026-4c78-4800-b151-72a0b4bf5a34')\"\n",
              "            title=\"Convert this dataframe to an interactive table.\"\n",
              "            style=\"display:none;\">\n",
              "\n",
              "  <svg xmlns=\"http://www.w3.org/2000/svg\" height=\"24px\" viewBox=\"0 -960 960 960\">\n",
              "    <path d=\"M120-120v-720h720v720H120Zm60-500h600v-160H180v160Zm220 220h160v-160H400v160Zm0 220h160v-160H400v160ZM180-400h160v-160H180v160Zm440 0h160v-160H620v160ZM180-180h160v-160H180v160Zm440 0h160v-160H620v160Z\"/>\n",
              "  </svg>\n",
              "    </button>\n",
              "\n",
              "  <style>\n",
              "    .colab-df-container {\n",
              "      display:flex;\n",
              "      gap: 12px;\n",
              "    }\n",
              "\n",
              "    .colab-df-convert {\n",
              "      background-color: #E8F0FE;\n",
              "      border: none;\n",
              "      border-radius: 50%;\n",
              "      cursor: pointer;\n",
              "      display: none;\n",
              "      fill: #1967D2;\n",
              "      height: 32px;\n",
              "      padding: 0 0 0 0;\n",
              "      width: 32px;\n",
              "    }\n",
              "\n",
              "    .colab-df-convert:hover {\n",
              "      background-color: #E2EBFA;\n",
              "      box-shadow: 0px 1px 2px rgba(60, 64, 67, 0.3), 0px 1px 3px 1px rgba(60, 64, 67, 0.15);\n",
              "      fill: #174EA6;\n",
              "    }\n",
              "\n",
              "    .colab-df-buttons div {\n",
              "      margin-bottom: 4px;\n",
              "    }\n",
              "\n",
              "    [theme=dark] .colab-df-convert {\n",
              "      background-color: #3B4455;\n",
              "      fill: #D2E3FC;\n",
              "    }\n",
              "\n",
              "    [theme=dark] .colab-df-convert:hover {\n",
              "      background-color: #434B5C;\n",
              "      box-shadow: 0px 1px 3px 1px rgba(0, 0, 0, 0.15);\n",
              "      filter: drop-shadow(0px 1px 2px rgba(0, 0, 0, 0.3));\n",
              "      fill: #FFFFFF;\n",
              "    }\n",
              "  </style>\n",
              "\n",
              "    <script>\n",
              "      const buttonEl =\n",
              "        document.querySelector('#df-dd252026-4c78-4800-b151-72a0b4bf5a34 button.colab-df-convert');\n",
              "      buttonEl.style.display =\n",
              "        google.colab.kernel.accessAllowed ? 'block' : 'none';\n",
              "\n",
              "      async function convertToInteractive(key) {\n",
              "        const element = document.querySelector('#df-dd252026-4c78-4800-b151-72a0b4bf5a34');\n",
              "        const dataTable =\n",
              "          await google.colab.kernel.invokeFunction('convertToInteractive',\n",
              "                                                    [key], {});\n",
              "        if (!dataTable) return;\n",
              "\n",
              "        const docLinkHtml = 'Like what you see? Visit the ' +\n",
              "          '<a target=\"_blank\" href=https://colab.research.google.com/notebooks/data_table.ipynb>data table notebook</a>'\n",
              "          + ' to learn more about interactive tables.';\n",
              "        element.innerHTML = '';\n",
              "        dataTable['output_type'] = 'display_data';\n",
              "        await google.colab.output.renderOutput(dataTable, element);\n",
              "        const docLink = document.createElement('div');\n",
              "        docLink.innerHTML = docLinkHtml;\n",
              "        element.appendChild(docLink);\n",
              "      }\n",
              "    </script>\n",
              "  </div>\n",
              "\n",
              "\n",
              "    <div id=\"df-f0843892-7be0-41e4-ae19-3de35c27d8a8\">\n",
              "      <button class=\"colab-df-quickchart\" onclick=\"quickchart('df-f0843892-7be0-41e4-ae19-3de35c27d8a8')\"\n",
              "                title=\"Suggest charts\"\n",
              "                style=\"display:none;\">\n",
              "\n",
              "<svg xmlns=\"http://www.w3.org/2000/svg\" height=\"24px\"viewBox=\"0 0 24 24\"\n",
              "     width=\"24px\">\n",
              "    <g>\n",
              "        <path d=\"M19 3H5c-1.1 0-2 .9-2 2v14c0 1.1.9 2 2 2h14c1.1 0 2-.9 2-2V5c0-1.1-.9-2-2-2zM9 17H7v-7h2v7zm4 0h-2V7h2v10zm4 0h-2v-4h2v4z\"/>\n",
              "    </g>\n",
              "</svg>\n",
              "      </button>\n",
              "\n",
              "<style>\n",
              "  .colab-df-quickchart {\n",
              "      --bg-color: #E8F0FE;\n",
              "      --fill-color: #1967D2;\n",
              "      --hover-bg-color: #E2EBFA;\n",
              "      --hover-fill-color: #174EA6;\n",
              "      --disabled-fill-color: #AAA;\n",
              "      --disabled-bg-color: #DDD;\n",
              "  }\n",
              "\n",
              "  [theme=dark] .colab-df-quickchart {\n",
              "      --bg-color: #3B4455;\n",
              "      --fill-color: #D2E3FC;\n",
              "      --hover-bg-color: #434B5C;\n",
              "      --hover-fill-color: #FFFFFF;\n",
              "      --disabled-bg-color: #3B4455;\n",
              "      --disabled-fill-color: #666;\n",
              "  }\n",
              "\n",
              "  .colab-df-quickchart {\n",
              "    background-color: var(--bg-color);\n",
              "    border: none;\n",
              "    border-radius: 50%;\n",
              "    cursor: pointer;\n",
              "    display: none;\n",
              "    fill: var(--fill-color);\n",
              "    height: 32px;\n",
              "    padding: 0;\n",
              "    width: 32px;\n",
              "  }\n",
              "\n",
              "  .colab-df-quickchart:hover {\n",
              "    background-color: var(--hover-bg-color);\n",
              "    box-shadow: 0 1px 2px rgba(60, 64, 67, 0.3), 0 1px 3px 1px rgba(60, 64, 67, 0.15);\n",
              "    fill: var(--button-hover-fill-color);\n",
              "  }\n",
              "\n",
              "  .colab-df-quickchart-complete:disabled,\n",
              "  .colab-df-quickchart-complete:disabled:hover {\n",
              "    background-color: var(--disabled-bg-color);\n",
              "    fill: var(--disabled-fill-color);\n",
              "    box-shadow: none;\n",
              "  }\n",
              "\n",
              "  .colab-df-spinner {\n",
              "    border: 2px solid var(--fill-color);\n",
              "    border-color: transparent;\n",
              "    border-bottom-color: var(--fill-color);\n",
              "    animation:\n",
              "      spin 1s steps(1) infinite;\n",
              "  }\n",
              "\n",
              "  @keyframes spin {\n",
              "    0% {\n",
              "      border-color: transparent;\n",
              "      border-bottom-color: var(--fill-color);\n",
              "      border-left-color: var(--fill-color);\n",
              "    }\n",
              "    20% {\n",
              "      border-color: transparent;\n",
              "      border-left-color: var(--fill-color);\n",
              "      border-top-color: var(--fill-color);\n",
              "    }\n",
              "    30% {\n",
              "      border-color: transparent;\n",
              "      border-left-color: var(--fill-color);\n",
              "      border-top-color: var(--fill-color);\n",
              "      border-right-color: var(--fill-color);\n",
              "    }\n",
              "    40% {\n",
              "      border-color: transparent;\n",
              "      border-right-color: var(--fill-color);\n",
              "      border-top-color: var(--fill-color);\n",
              "    }\n",
              "    60% {\n",
              "      border-color: transparent;\n",
              "      border-right-color: var(--fill-color);\n",
              "    }\n",
              "    80% {\n",
              "      border-color: transparent;\n",
              "      border-right-color: var(--fill-color);\n",
              "      border-bottom-color: var(--fill-color);\n",
              "    }\n",
              "    90% {\n",
              "      border-color: transparent;\n",
              "      border-bottom-color: var(--fill-color);\n",
              "    }\n",
              "  }\n",
              "</style>\n",
              "\n",
              "      <script>\n",
              "        async function quickchart(key) {\n",
              "          const quickchartButtonEl =\n",
              "            document.querySelector('#' + key + ' button');\n",
              "          quickchartButtonEl.disabled = true;  // To prevent multiple clicks.\n",
              "          quickchartButtonEl.classList.add('colab-df-spinner');\n",
              "          try {\n",
              "            const charts = await google.colab.kernel.invokeFunction(\n",
              "                'suggestCharts', [key], {});\n",
              "          } catch (error) {\n",
              "            console.error('Error during call to suggestCharts:', error);\n",
              "          }\n",
              "          quickchartButtonEl.classList.remove('colab-df-spinner');\n",
              "          quickchartButtonEl.classList.add('colab-df-quickchart-complete');\n",
              "        }\n",
              "        (() => {\n",
              "          let quickchartButtonEl =\n",
              "            document.querySelector('#df-f0843892-7be0-41e4-ae19-3de35c27d8a8 button');\n",
              "          quickchartButtonEl.style.display =\n",
              "            google.colab.kernel.accessAllowed ? 'block' : 'none';\n",
              "        })();\n",
              "      </script>\n",
              "    </div>\n",
              "\n",
              "    </div>\n",
              "  </div>\n"
            ],
            "application/vnd.google.colaboratory.intrinsic+json": {
              "type": "dataframe",
              "summary": "{\n  \"name\": \"numerical_sales\",\n  \"rows\": 9,\n  \"fields\": [\n    {\n      \"column\": \"Day\",\n      \"properties\": {\n        \"dtype\": \"number\",\n        \"std\": 0.33365361342851735,\n        \"min\": -0.014296450304360848,\n        \"max\": 1.0,\n        \"num_unique_values\": 9,\n        \"samples\": [\n          0.0033288452432415996,\n          -0.007634626829874117,\n          0.0032070802950717593\n        ],\n        \"semantic_type\": \"\",\n        \"description\": \"\"\n      }\n    },\n    {\n      \"column\": \"Year\",\n      \"properties\": {\n        \"dtype\": \"number\",\n        \"std\": 0.39231661755859454,\n        \"min\": -0.21757461489815563,\n        \"max\": 1.0,\n        \"num_unique_values\": 9,\n        \"samples\": [\n          -0.2156035934482762,\n          1.0,\n          -0.21367281556612475\n        ],\n        \"semantic_type\": \"\",\n        \"description\": \"\"\n      }\n    },\n    {\n      \"column\": \"Customer_Age\",\n      \"properties\": {\n        \"dtype\": \"number\",\n        \"std\": 0.334427313594711,\n        \"min\": -0.021374209195134886,\n        \"max\": 1.0,\n        \"num_unique_values\": 9,\n        \"samples\": [\n          -0.016013362599777044,\n          0.04099387350264856,\n          -0.020261753809381364\n        ],\n        \"semantic_type\": \"\",\n        \"description\": \"\"\n      }\n    },\n    {\n      \"column\": \"Order_Quantity\",\n      \"properties\": {\n        \"dtype\": \"number\",\n        \"std\": 0.4679782693710731,\n        \"min\": -0.5159246110602049,\n        \"max\": 1.0,\n        \"num_unique_values\": 9,\n        \"samples\": [\n          -0.3403815585098722,\n          0.12316897942062592,\n          -0.5159246110602049\n        ],\n        \"semantic_type\": \"\",\n        \"description\": \"\"\n      }\n    },\n    {\n      \"column\": \"Unit_Cost\",\n      \"properties\": {\n        \"dtype\": \"number\",\n        \"std\": 0.5861149519356822,\n        \"min\": -0.5158349831003396,\n        \"max\": 1.0,\n        \"num_unique_values\": 9,\n        \"samples\": [\n          0.8298690044467402,\n          -0.21757461489815563,\n          0.9978935825333143\n        ],\n        \"semantic_type\": \"\",\n        \"description\": \"\"\n      }\n    },\n    {\n      \"column\": \"Unit_Price\",\n      \"properties\": {\n        \"dtype\": \"number\",\n        \"std\": 0.5858883587617213,\n        \"min\": -0.5159246110602049,\n        \"max\": 1.0,\n        \"num_unique_values\": 9,\n        \"samples\": [\n          0.8263011226569932,\n          -0.21367281556612475,\n          1.0\n        ],\n        \"semantic_type\": \"\",\n        \"description\": \"\"\n      }\n    },\n    {\n      \"column\": \"Profit\",\n      \"properties\": {\n        \"dtype\": \"number\",\n        \"std\": 0.5252624819932499,\n        \"min\": -0.23886342119372153,\n        \"max\": 1.0,\n        \"num_unique_values\": 9,\n        \"samples\": [\n          0.9022330172390257,\n          -0.1815251993639599,\n          0.7498701726768856\n        ],\n        \"semantic_type\": \"\",\n        \"description\": \"\"\n      }\n    },\n    {\n      \"column\": \"Cost\",\n      \"properties\": {\n        \"dtype\": \"number\",\n        \"std\": 0.5664610401826804,\n        \"min\": -0.3403815585098722,\n        \"max\": 1.0,\n        \"num_unique_values\": 9,\n        \"samples\": [\n          1.0,\n          -0.2156035934482762,\n          0.8263011226569932\n        ],\n        \"semantic_type\": \"\",\n        \"description\": \"\"\n      }\n    },\n    {\n      \"column\": \"Revenue\",\n      \"properties\": {\n        \"dtype\": \"number\",\n        \"std\": 0.5641799830130205,\n        \"min\": -0.31289502889711923,\n        \"max\": 1.0,\n        \"num_unique_values\": 9,\n        \"samples\": [\n          0.9887584000728539,\n          -0.20867270244970582,\n          0.8185217948173714\n        ],\n        \"semantic_type\": \"\",\n        \"description\": \"\"\n      }\n    }\n  ]\n}"
            }
          },
          "metadata": {},
          "execution_count": 53
        }
      ]
    },
    {
      "cell_type": "code",
      "source": [
        "plt.matshow(numerical_sales.corr(), cmap='RdBu')\n",
        "plt.xticks(range(len(numerical_sales.columns)), numerical_sales.columns, rotation = 'vertical')\n",
        "plt.yticks(range(len(numerical_sales.columns)), numerical_sales.columns)\n",
        "plt.show()"
      ],
      "metadata": {
        "colab": {
          "base_uri": "https://localhost:8080/",
          "height": 530
        },
        "id": "TeW5eFVqGBi5",
        "outputId": "eace4d51-c205-472f-edcf-8bfc74f99e63"
      },
      "execution_count": 54,
      "outputs": [
        {
          "output_type": "display_data",
          "data": {
            "text/plain": [
              "<Figure size 480x480 with 1 Axes>"
            ],
            "image/png": "[encoded data removed]"
          },
          "metadata": {}
        }
      ]
    },
    {
      "cell_type": "code",
      "source": [
        "sales.plot(kind='scatter', x='Customer_Age', y='Revenue', color='green')"
      ],
      "metadata": {
        "colab": {
          "base_uri": "https://localhost:8080/",
          "height": 466
        },
        "id": "naYmuuqsUztI",
        "outputId": "b698b7d7-625d-4335-8295-ce79d3e97e17"
      },
      "execution_count": 55,
      "outputs": [
        {
          "output_type": "execute_result",
          "data": {
            "text/plain": [
              "<Axes: xlabel='Customer_Age', ylabel='Revenue'>"
            ]
          },
          "metadata": {},
          "execution_count": 55
        },
        {
          "output_type": "display_data",
          "data": {
            "text/plain": [
              "<Figure size 640x480 with 1 Axes>"
            ],
            "image/png": "[encoded data removed]"
          },
          "metadata": {}
        }
      ]
    },
    {
      "cell_type": "code",
      "source": [
        "sales.plot(kind='scatter', x='Revenue', y='Profit', color='purple')"
      ],
      "metadata": {
        "colab": {
          "base_uri": "https://localhost:8080/",
          "height": 466
        },
        "id": "0gqzUYCuGBlP",
        "outputId": "b38af9c5-8be8-439d-8f6a-21fc2fa880e4"
      },
      "execution_count": 56,
      "outputs": [
        {
          "output_type": "execute_result",
          "data": {
            "text/plain": [
              "<Axes: xlabel='Revenue', ylabel='Profit'>"
            ]
          },
          "metadata": {},
          "execution_count": 56
        },
        {
          "output_type": "display_data",
          "data": {
            "text/plain": [
              "<Figure size 640x480 with 1 Axes>"
            ],
            "image/png": "[encoded data removed]"
          },
          "metadata": {}
        }
      ]
    },
    {
      "cell_type": "code",
      "source": [
        "ac = sales[['Profit', 'Age_Group']].boxplot(by='Age_Group', figsize=(10,4))\n",
        "ac.set_ylabel('Profit')"
      ],
      "metadata": {
        "colab": {
          "base_uri": "https://localhost:8080/",
          "height": 429
        },
        "id": "hg8GMNXmXKOw",
        "outputId": "cb0a0d1d-7375-4522-e0dd-8bf1eab487cb"
      },
      "execution_count": 57,
      "outputs": [
        {
          "output_type": "execute_result",
          "data": {
            "text/plain": [
              "Text(0, 0.5, 'Profit')"
            ]
          },
          "metadata": {},
          "execution_count": 57
        },
        {
          "output_type": "display_data",
          "data": {
            "text/plain": [
              "<Figure size 1000x400 with 1 Axes>"
            ],
            "image/png": "[encoded data removed]"
          },
          "metadata": {}
        }
      ]
    },
    {
      "cell_type": "code",
      "source": [
        "boxplot_cols = ['Year', 'Customer_Age','Order_Quantity','Unit_Cost','Unit_Price','Profit']\n",
        "sales[boxplot_cols].plot(kind='box',subplots=True, layout=(2,3), figsize=(20,9))"
      ],
      "metadata": {
        "colab": {
          "base_uri": "https://localhost:8080/",
          "height": 1000
        },
        "id": "yrL_CJCFGBnz",
        "outputId": "284340d6-de06-47e4-abf4-cf3efe6b9fff"
      },
      "execution_count": 58,
      "outputs": [
        {
          "output_type": "execute_result",
          "data": {
            "text/plain": [
              "Year                 Axes(0.125,0.53;0.227941x0.35)\n",
              "Customer_Age      Axes(0.398529,0.53;0.227941x0.35)\n",
              "Order_Quantity    Axes(0.672059,0.53;0.227941x0.35)\n",
              "Unit_Cost            Axes(0.125,0.11;0.227941x0.35)\n",
              "Unit_Price        Axes(0.398529,0.11;0.227941x0.35)\n",
              "Profit            Axes(0.672059,0.11;0.227941x0.35)\n",
              "dtype: object"
            ],
            "text/html": [
              "<div>\n",
              "<style scoped>\n",
              "    .dataframe tbody tr th:only-of-type {\n",
              "        vertical-align: middle;\n",
              "    }\n",
              "\n",
              "    .dataframe tbody tr th {\n",
              "        vertical-align: top;\n",
              "    }\n",
              "\n",
              "    .dataframe thead th {\n",
              "        text-align: right;\n",
              "    }\n",
              "</style>\n",
              "<table border=\"1\" class=\"dataframe\">\n",
              "  <thead>\n",
              "    <tr style=\"text-align: right;\">\n",
              "      <th></th>\n",
              "      <th>0</th>\n",
              "    </tr>\n",
              "  </thead>\n",
              "  <tbody>\n",
              "    <tr>\n",
              "      <th>Year</th>\n",
              "      <td>Axes(0.125,0.53;0.227941x0.35)</td>\n",
              "    </tr>\n",
              "    <tr>\n",
              "      <th>Customer_Age</th>\n",
              "      <td>Axes(0.398529,0.53;0.227941x0.35)</td>\n",
              "    </tr>\n",
              "    <tr>\n",
              "      <th>Order_Quantity</th>\n",
              "      <td>Axes(0.672059,0.53;0.227941x0.35)</td>\n",
              "    </tr>\n",
              "    <tr>\n",
              "      <th>Unit_Cost</th>\n",
              "      <td>Axes(0.125,0.11;0.227941x0.35)</td>\n",
              "    </tr>\n",
              "    <tr>\n",
              "      <th>Unit_Price</th>\n",
              "      <td>Axes(0.398529,0.11;0.227941x0.35)</td>\n",
              "    </tr>\n",
              "    <tr>\n",
              "      <th>Profit</th>\n",
              "      <td>Axes(0.672059,0.11;0.227941x0.35)</td>\n",
              "    </tr>\n",
              "  </tbody>\n",
              "</table>\n",
              "</div><br><label><b>dtype:</b> object</label>"
            ]
          },
          "metadata": {},
          "execution_count": 58
        },
        {
          "output_type": "display_data",
          "data": {
            "text/plain": [
              "<Figure size 2000x900 with 6 Axes>"
            ],
            "image/png": "[encoded data removed]"
          },
          "metadata": {}
        }
      ]
    },
    {
      "cell_type": "markdown",
      "source": [
        "##COLUMN WRANGLING\n",
        "We can also create new column or modify existing one"
      ],
      "metadata": {
        "id": "S3d9dOJEwESF"
      }
    },
    {
      "cell_type": "markdown",
      "source": [
        "Calculated_Revenue = Profit + Cost"
      ],
      "metadata": {
        "id": "DJb9wr7LuRjT"
      }
    },
    {
      "cell_type": "code",
      "source": [
        "sales['Calculated_Revenue'] = sales['Profit'] + sales['Cost']\n",
        "sales['Calculated_Revenue'].head()"
      ],
      "metadata": {
        "colab": {
          "base_uri": "https://localhost:8080/",
          "height": 241
        },
        "id": "uxpt5hV6uSIA",
        "outputId": "6d1106e4-1987-4efa-c993-571db245332f"
      },
      "execution_count": 68,
      "outputs": [
        {
          "output_type": "execute_result",
          "data": {
            "text/plain": [
              "0     950\n",
              "1     950\n",
              "2    2401\n",
              "3    2088\n",
              "4     418\n",
              "Name: Calculated_Revenue, dtype: int64"
            ],
            "text/html": [
              "<div>\n",
              "<style scoped>\n",
              "    .dataframe tbody tr th:only-of-type {\n",
              "        vertical-align: middle;\n",
              "    }\n",
              "\n",
              "    .dataframe tbody tr th {\n",
              "        vertical-align: top;\n",
              "    }\n",
              "\n",
              "    .dataframe thead th {\n",
              "        text-align: right;\n",
              "    }\n",
              "</style>\n",
              "<table border=\"1\" class=\"dataframe\">\n",
              "  <thead>\n",
              "    <tr style=\"text-align: right;\">\n",
              "      <th></th>\n",
              "      <th>Calculated_Revenue</th>\n",
              "    </tr>\n",
              "  </thead>\n",
              "  <tbody>\n",
              "    <tr>\n",
              "      <th>0</th>\n",
              "      <td>950</td>\n",
              "    </tr>\n",
              "    <tr>\n",
              "      <th>1</th>\n",
              "      <td>950</td>\n",
              "    </tr>\n",
              "    <tr>\n",
              "      <th>2</th>\n",
              "      <td>2401</td>\n",
              "    </tr>\n",
              "    <tr>\n",
              "      <th>3</th>\n",
              "      <td>2088</td>\n",
              "    </tr>\n",
              "    <tr>\n",
              "      <th>4</th>\n",
              "      <td>418</td>\n",
              "    </tr>\n",
              "  </tbody>\n",
              "</table>\n",
              "</div><br><label><b>dtype:</b> int64</label>"
            ]
          },
          "metadata": {},
          "execution_count": 68
        }
      ]
    },
    {
      "cell_type": "code",
      "source": [
        "# Kiểm tra những kết quả ko khớp\n",
        "(sales['Calculated_Revenue'] != sales['Revenue']).sum()"
      ],
      "metadata": {
        "colab": {
          "base_uri": "https://localhost:8080/"
        },
        "id": "TE-3t8jouSKc",
        "outputId": "5a1d083e-ae2b-4ac5-f831-a363720fef64"
      },
      "execution_count": 72,
      "outputs": [
        {
          "output_type": "execute_result",
          "data": {
            "text/plain": [
              "np.int64(0)"
            ]
          },
          "metadata": {},
          "execution_count": 72
        }
      ]
    },
    {
      "cell_type": "markdown",
      "source": [
        "Modify all Unit_Price values adding 3% tax to them"
      ],
      "metadata": {
        "id": "BuCVHkYLvuKi"
      }
    },
    {
      "cell_type": "code",
      "source": [
        "sales['Unit_Price'].head()"
      ],
      "metadata": {
        "colab": {
          "base_uri": "https://localhost:8080/",
          "height": 241
        },
        "id": "9EI1dgT8uSM1",
        "outputId": "6f191ef6-980d-4e9c-e4d9-b3a52c1469ed"
      },
      "execution_count": 73,
      "outputs": [
        {
          "output_type": "execute_result",
          "data": {
            "text/plain": [
              "0    120\n",
              "1    120\n",
              "2    120\n",
              "3    120\n",
              "4    120\n",
              "Name: Unit_Price, dtype: int64"
            ],
            "text/html": [
              "<div>\n",
              "<style scoped>\n",
              "    .dataframe tbody tr th:only-of-type {\n",
              "        vertical-align: middle;\n",
              "    }\n",
              "\n",
              "    .dataframe tbody tr th {\n",
              "        vertical-align: top;\n",
              "    }\n",
              "\n",
              "    .dataframe thead th {\n",
              "        text-align: right;\n",
              "    }\n",
              "</style>\n",
              "<table border=\"1\" class=\"dataframe\">\n",
              "  <thead>\n",
              "    <tr style=\"text-align: right;\">\n",
              "      <th></th>\n",
              "      <th>Unit_Price</th>\n",
              "    </tr>\n",
              "  </thead>\n",
              "  <tbody>\n",
              "    <tr>\n",
              "      <th>0</th>\n",
              "      <td>120</td>\n",
              "    </tr>\n",
              "    <tr>\n",
              "      <th>1</th>\n",
              "      <td>120</td>\n",
              "    </tr>\n",
              "    <tr>\n",
              "      <th>2</th>\n",
              "      <td>120</td>\n",
              "    </tr>\n",
              "    <tr>\n",
              "      <th>3</th>\n",
              "      <td>120</td>\n",
              "    </tr>\n",
              "    <tr>\n",
              "      <th>4</th>\n",
              "      <td>120</td>\n",
              "    </tr>\n",
              "  </tbody>\n",
              "</table>\n",
              "</div><br><label><b>dtype:</b> int64</label>"
            ]
          },
          "metadata": {},
          "execution_count": 73
        }
      ]
    },
    {
      "cell_type": "code",
      "source": [
        "sales['Unit_Price'] = sales['Unit_Price'] * 1.03 # hoặc sales['Unit_Cost'] *= 1.03\n",
        "sales['Unit_Price'].head()"
      ],
      "metadata": {
        "colab": {
          "base_uri": "https://localhost:8080/",
          "height": 241
        },
        "id": "oWm8VzO1uSPq",
        "outputId": "e8f5038a-03c8-45ab-87c3-786803f8100d"
      },
      "execution_count": 74,
      "outputs": [
        {
          "output_type": "execute_result",
          "data": {
            "text/plain": [
              "0    123.6\n",
              "1    123.6\n",
              "2    123.6\n",
              "3    123.6\n",
              "4    123.6\n",
              "Name: Unit_Price, dtype: float64"
            ],
            "text/html": [
              "<div>\n",
              "<style scoped>\n",
              "    .dataframe tbody tr th:only-of-type {\n",
              "        vertical-align: middle;\n",
              "    }\n",
              "\n",
              "    .dataframe tbody tr th {\n",
              "        vertical-align: top;\n",
              "    }\n",
              "\n",
              "    .dataframe thead th {\n",
              "        text-align: right;\n",
              "    }\n",
              "</style>\n",
              "<table border=\"1\" class=\"dataframe\">\n",
              "  <thead>\n",
              "    <tr style=\"text-align: right;\">\n",
              "      <th></th>\n",
              "      <th>Unit_Price</th>\n",
              "    </tr>\n",
              "  </thead>\n",
              "  <tbody>\n",
              "    <tr>\n",
              "      <th>0</th>\n",
              "      <td>123.6</td>\n",
              "    </tr>\n",
              "    <tr>\n",
              "      <th>1</th>\n",
              "      <td>123.6</td>\n",
              "    </tr>\n",
              "    <tr>\n",
              "      <th>2</th>\n",
              "      <td>123.6</td>\n",
              "    </tr>\n",
              "    <tr>\n",
              "      <th>3</th>\n",
              "      <td>123.6</td>\n",
              "    </tr>\n",
              "    <tr>\n",
              "      <th>4</th>\n",
              "      <td>123.6</td>\n",
              "    </tr>\n",
              "  </tbody>\n",
              "</table>\n",
              "</div><br><label><b>dtype:</b> float64</label>"
            ]
          },
          "metadata": {},
          "execution_count": 74
        }
      ]
    },
    {
      "cell_type": "markdown",
      "source": [
        "Calculate Revenue per Age"
      ],
      "metadata": {
        "id": "-gtNgUVHw3dC"
      }
    },
    {
      "cell_type": "code",
      "source": [
        "sales['RpA'] = sales['Revenue']/sales['Customer_Age']\n",
        "sales['RpA'].head()"
      ],
      "metadata": {
        "colab": {
          "base_uri": "https://localhost:8080/",
          "height": 241
        },
        "id": "dE-Tcvqtw37J",
        "outputId": "0d791120-c7fa-4bfe-b3e3-a7269113eb8a"
      },
      "execution_count": 75,
      "outputs": [
        {
          "output_type": "execute_result",
          "data": {
            "text/plain": [
              "0    50.000000\n",
              "1    50.000000\n",
              "2    49.000000\n",
              "3    42.612245\n",
              "4     8.893617\n",
              "Name: RpA, dtype: float64"
            ],
            "text/html": [
              "<div>\n",
              "<style scoped>\n",
              "    .dataframe tbody tr th:only-of-type {\n",
              "        vertical-align: middle;\n",
              "    }\n",
              "\n",
              "    .dataframe tbody tr th {\n",
              "        vertical-align: top;\n",
              "    }\n",
              "\n",
              "    .dataframe thead th {\n",
              "        text-align: right;\n",
              "    }\n",
              "</style>\n",
              "<table border=\"1\" class=\"dataframe\">\n",
              "  <thead>\n",
              "    <tr style=\"text-align: right;\">\n",
              "      <th></th>\n",
              "      <th>RpA</th>\n",
              "    </tr>\n",
              "  </thead>\n",
              "  <tbody>\n",
              "    <tr>\n",
              "      <th>0</th>\n",
              "      <td>50.000000</td>\n",
              "    </tr>\n",
              "    <tr>\n",
              "      <th>1</th>\n",
              "      <td>50.000000</td>\n",
              "    </tr>\n",
              "    <tr>\n",
              "      <th>2</th>\n",
              "      <td>49.000000</td>\n",
              "    </tr>\n",
              "    <tr>\n",
              "      <th>3</th>\n",
              "      <td>42.612245</td>\n",
              "    </tr>\n",
              "    <tr>\n",
              "      <th>4</th>\n",
              "      <td>8.893617</td>\n",
              "    </tr>\n",
              "  </tbody>\n",
              "</table>\n",
              "</div><br><label><b>dtype:</b> float64</label>"
            ]
          },
          "metadata": {},
          "execution_count": 75
        }
      ]
    },
    {
      "cell_type": "code",
      "source": [
        "az = sales['RpA'].plot(kind='density', color = 'yellow')\n",
        "az.axvline(sales['RpA'].mean(), color='blue')\n",
        "az.axvline(sales['RpA'].median(), color='red')"
      ],
      "metadata": {
        "colab": {
          "base_uri": "https://localhost:8080/",
          "height": 452
        },
        "id": "10Myx0pbuSSn",
        "outputId": "3e709189-1e01-490b-cf85-916dbd491edf"
      },
      "execution_count": 80,
      "outputs": [
        {
          "output_type": "execute_result",
          "data": {
            "text/plain": [
              "<matplotlib.lines.Line2D at 0x7cdd691c34d0>"
            ]
          },
          "metadata": {},
          "execution_count": 80
        },
        {
          "output_type": "display_data",
          "data": {
            "text/plain": [
              "<Figure size 640x480 with 1 Axes>"
            ],
            "image/png": "[encoded data removed]"
          },
          "metadata": {}
        }
      ]
    },
    {
      "cell_type": "markdown",
      "source": [
        "##SELECTION AND INDEXING"
      ],
      "metadata": {
        "id": "NQ_aRyKcyRMo"
      }
    },
    {
      "cell_type": "markdown",
      "source": [
        "Get all sales made in the state of Kentucky"
      ],
      "metadata": {
        "id": "mq1TparuzGIj"
      }
    },
    {
      "cell_type": "code",
      "source": [
        "salesinK = sales.loc[sales['State']=='Kentucky']\n",
        "salesinK.head()"
      ],
      "metadata": {
        "colab": {
          "base_uri": "https://localhost:8080/",
          "height": 293
        },
        "id": "B9Ya3VUJxT8H",
        "outputId": "15f51944-7631-4676-94eb-be1ecf1068f5"
      },
      "execution_count": 83,
      "outputs": [
        {
          "output_type": "execute_result",
          "data": {
            "text/plain": [
              "            Date  Day     Month  Year  Customer_Age       Age_Group  \\\n",
              "156   2013-11-04    4  November  2013            40  Adults (35-64)   \n",
              "157   2015-11-04    4  November  2015            40  Adults (35-64)   \n",
              "23826 2014-04-16   16     April  2014            40  Adults (35-64)   \n",
              "23827 2016-04-16   16     April  2016            40  Adults (35-64)   \n",
              "31446 2014-04-16   16     April  2014            40  Adults (35-64)   \n",
              "\n",
              "      Customer_Gender        Country     State Product_Category Sub_Category  \\\n",
              "156                 M  United States  Kentucky      Accessories   Bike Racks   \n",
              "157                 M  United States  Kentucky      Accessories   Bike Racks   \n",
              "23826               M  United States  Kentucky      Accessories      Fenders   \n",
              "23827               M  United States  Kentucky      Accessories      Fenders   \n",
              "31446               M  United States  Kentucky      Accessories      Helmets   \n",
              "\n",
              "                      Product  Order_Quantity  Unit_Cost  Unit_Price  Profit  \\\n",
              "156       Hitch Rack - 4-Bike               1         45      123.60      63   \n",
              "157       Hitch Rack - 4-Bike               1         45      123.60      63   \n",
              "23826   Fender Set - Mountain              12          8       22.66     142   \n",
              "23827   Fender Set - Mountain              14          8       22.66     165   \n",
              "31446  Sport-100 Helmet, Blue              29         13       36.05     537   \n",
              "\n",
              "       Cost  Revenue  Calculated_Revenue     RpA  \n",
              "156      45      108                 108   2.700  \n",
              "157      45      108                 108   2.700  \n",
              "23826    96      238                 238   5.950  \n",
              "23827   112      277                 277   6.925  \n",
              "31446   377      914                 914  22.850  "
            ],
            "text/html": [
              "\n",
              "  <div id=\"df-6165d2b3-f771-4a80-8212-1c891ea551cd\" class=\"colab-df-container\">\n",
              "    <div>\n",
              "<style scoped>\n",
              "    .dataframe tbody tr th:only-of-type {\n",
              "        vertical-align: middle;\n",
              "    }\n",
              "\n",
              "    .dataframe tbody tr th {\n",
              "        vertical-align: top;\n",
              "    }\n",
              "\n",
              "    .dataframe thead th {\n",
              "        text-align: right;\n",
              "    }\n",
              "</style>\n",
              "<table border=\"1\" class=\"dataframe\">\n",
              "  <thead>\n",
              "    <tr style=\"text-align: right;\">\n",
              "      <th></th>\n",
              "      <th>Date</th>\n",
              "      <th>Day</th>\n",
              "      <th>Month</th>\n",
              "      <th>Year</th>\n",
              "      <th>Customer_Age</th>\n",
              "      <th>Age_Group</th>\n",
              "      <th>Customer_Gender</th>\n",
              "      <th>Country</th>\n",
              "      <th>State</th>\n",
              "      <th>Product_Category</th>\n",
              "      <th>Sub_Category</th>\n",
              "      <th>Product</th>\n",
              "      <th>Order_Quantity</th>\n",
              "      <th>Unit_Cost</th>\n",
              "      <th>Unit_Price</th>\n",
              "      <th>Profit</th>\n",
              "      <th>Cost</th>\n",
              "      <th>Revenue</th>\n",
              "      <th>Calculated_Revenue</th>\n",
              "      <th>RpA</th>\n",
              "    </tr>\n",
              "  </thead>\n",
              "  <tbody>\n",
              "    <tr>\n",
              "      <th>156</th>\n",
              "      <td>2013-11-04</td>\n",
              "      <td>4</td>\n",
              "      <td>November</td>\n",
              "      <td>2013</td>\n",
              "      <td>40</td>\n",
              "      <td>Adults (35-64)</td>\n",
              "      <td>M</td>\n",
              "      <td>United States</td>\n",
              "      <td>Kentucky</td>\n",
              "      <td>Accessories</td>\n",
              "      <td>Bike Racks</td>\n",
              "      <td>Hitch Rack - 4-Bike</td>\n",
              "      <td>1</td>\n",
              "      <td>45</td>\n",
              "      <td>123.60</td>\n",
              "      <td>63</td>\n",
              "      <td>45</td>\n",
              "      <td>108</td>\n",
              "      <td>108</td>\n",
              "      <td>2.700</td>\n",
              "    </tr>\n",
              "    <tr>\n",
              "      <th>157</th>\n",
              "      <td>2015-11-04</td>\n",
              "      <td>4</td>\n",
              "      <td>November</td>\n",
              "      <td>2015</td>\n",
              "      <td>40</td>\n",
              "      <td>Adults (35-64)</td>\n",
              "      <td>M</td>\n",
              "      <td>United States</td>\n",
              "      <td>Kentucky</td>\n",
              "      <td>Accessories</td>\n",
              "      <td>Bike Racks</td>\n",
              "      <td>Hitch Rack - 4-Bike</td>\n",
              "      <td>1</td>\n",
              "      <td>45</td>\n",
              "      <td>123.60</td>\n",
              "      <td>63</td>\n",
              "      <td>45</td>\n",
              "      <td>108</td>\n",
              "      <td>108</td>\n",
              "      <td>2.700</td>\n",
              "    </tr>\n",
              "    <tr>\n",
              "      <th>23826</th>\n",
              "      <td>2014-04-16</td>\n",
              "      <td>16</td>\n",
              "      <td>April</td>\n",
              "      <td>2014</td>\n",
              "      <td>40</td>\n",
              "      <td>Adults (35-64)</td>\n",
              "      <td>M</td>\n",
              "      <td>United States</td>\n",
              "      <td>Kentucky</td>\n",
              "      <td>Accessories</td>\n",
              "      <td>Fenders</td>\n",
              "      <td>Fender Set - Mountain</td>\n",
              "      <td>12</td>\n",
              "      <td>8</td>\n",
              "      <td>22.66</td>\n",
              "      <td>142</td>\n",
              "      <td>96</td>\n",
              "      <td>238</td>\n",
              "      <td>238</td>\n",
              "      <td>5.950</td>\n",
              "    </tr>\n",
              "    <tr>\n",
              "      <th>23827</th>\n",
              "      <td>2016-04-16</td>\n",
              "      <td>16</td>\n",
              "      <td>April</td>\n",
              "      <td>2016</td>\n",
              "      <td>40</td>\n",
              "      <td>Adults (35-64)</td>\n",
              "      <td>M</td>\n",
              "      <td>United States</td>\n",
              "      <td>Kentucky</td>\n",
              "      <td>Accessories</td>\n",
              "      <td>Fenders</td>\n",
              "      <td>Fender Set - Mountain</td>\n",
              "      <td>14</td>\n",
              "      <td>8</td>\n",
              "      <td>22.66</td>\n",
              "      <td>165</td>\n",
              "      <td>112</td>\n",
              "      <td>277</td>\n",
              "      <td>277</td>\n",
              "      <td>6.925</td>\n",
              "    </tr>\n",
              "    <tr>\n",
              "      <th>31446</th>\n",
              "      <td>2014-04-16</td>\n",
              "      <td>16</td>\n",
              "      <td>April</td>\n",
              "      <td>2014</td>\n",
              "      <td>40</td>\n",
              "      <td>Adults (35-64)</td>\n",
              "      <td>M</td>\n",
              "      <td>United States</td>\n",
              "      <td>Kentucky</td>\n",
              "      <td>Accessories</td>\n",
              "      <td>Helmets</td>\n",
              "      <td>Sport-100 Helmet, Blue</td>\n",
              "      <td>29</td>\n",
              "      <td>13</td>\n",
              "      <td>36.05</td>\n",
              "      <td>537</td>\n",
              "      <td>377</td>\n",
              "      <td>914</td>\n",
              "      <td>914</td>\n",
              "      <td>22.850</td>\n",
              "    </tr>\n",
              "  </tbody>\n",
              "</table>\n",
              "</div>\n",
              "    <div class=\"colab-df-buttons\">\n",
              "\n",
              "  <div class=\"colab-df-container\">\n",
              "    <button class=\"colab-df-convert\" onclick=\"convertToInteractive('df-6165d2b3-f771-4a80-8212-1c891ea551cd')\"\n",
              "            title=\"Convert this dataframe to an interactive table.\"\n",
              "            style=\"display:none;\">\n",
              "\n",
              "  <svg xmlns=\"http://www.w3.org/2000/svg\" height=\"24px\" viewBox=\"0 -960 960 960\">\n",
              "    <path d=\"M120-120v-720h720v720H120Zm60-500h600v-160H180v160Zm220 220h160v-160H400v160Zm0 220h160v-160H400v160ZM180-400h160v-160H180v160Zm440 0h160v-160H620v160ZM180-180h160v-160H180v160Zm440 0h160v-160H620v160Z\"/>\n",
              "  </svg>\n",
              "    </button>\n",
              "\n",
              "  <style>\n",
              "    .colab-df-container {\n",
              "      display:flex;\n",
              "      gap: 12px;\n",
              "    }\n",
              "\n",
              "    .colab-df-convert {\n",
              "      background-color: #E8F0FE;\n",
              "      border: none;\n",
              "      border-radius: 50%;\n",
              "      cursor: pointer;\n",
              "      display: none;\n",
              "      fill: #1967D2;\n",
              "      height: 32px;\n",
              "      padding: 0 0 0 0;\n",
              "      width: 32px;\n",
              "    }\n",
              "\n",
              "    .colab-df-convert:hover {\n",
              "      background-color: #E2EBFA;\n",
              "      box-shadow: 0px 1px 2px rgba(60, 64, 67, 0.3), 0px 1px 3px 1px rgba(60, 64, 67, 0.15);\n",
              "      fill: #174EA6;\n",
              "    }\n",
              "\n",
              "    .colab-df-buttons div {\n",
              "      margin-bottom: 4px;\n",
              "    }\n",
              "\n",
              "    [theme=dark] .colab-df-convert {\n",
              "      background-color: #3B4455;\n",
              "      fill: #D2E3FC;\n",
              "    }\n",
              "\n",
              "    [theme=dark] .colab-df-convert:hover {\n",
              "      background-color: #434B5C;\n",
              "      box-shadow: 0px 1px 3px 1px rgba(0, 0, 0, 0.15);\n",
              "      filter: drop-shadow(0px 1px 2px rgba(0, 0, 0, 0.3));\n",
              "      fill: #FFFFFF;\n",
              "    }\n",
              "  </style>\n",
              "\n",
              "    <script>\n",
              "      const buttonEl =\n",
              "        document.querySelector('#df-6165d2b3-f771-4a80-8212-1c891ea551cd button.colab-df-convert');\n",
              "      buttonEl.style.display =\n",
              "        google.colab.kernel.accessAllowed ? 'block' : 'none';\n",
              "\n",
              "      async function convertToInteractive(key) {\n",
              "        const element = document.querySelector('#df-6165d2b3-f771-4a80-8212-1c891ea551cd');\n",
              "        const dataTable =\n",
              "          await google.colab.kernel.invokeFunction('convertToInteractive',\n",
              "                                                    [key], {});\n",
              "        if (!dataTable) return;\n",
              "\n",
              "        const docLinkHtml = 'Like what you see? Visit the ' +\n",
              "          '<a target=\"_blank\" href=https://colab.research.google.com/notebooks/data_table.ipynb>data table notebook</a>'\n",
              "          + ' to learn more about interactive tables.';\n",
              "        element.innerHTML = '';\n",
              "        dataTable['output_type'] = 'display_data';\n",
              "        await google.colab.output.renderOutput(dataTable, element);\n",
              "        const docLink = document.createElement('div');\n",
              "        docLink.innerHTML = docLinkHtml;\n",
              "        element.appendChild(docLink);\n",
              "      }\n",
              "    </script>\n",
              "  </div>\n",
              "\n",
              "\n",
              "    <div id=\"df-5da2dc09-e046-4e78-93d6-0600916c0d08\">\n",
              "      <button class=\"colab-df-quickchart\" onclick=\"quickchart('df-5da2dc09-e046-4e78-93d6-0600916c0d08')\"\n",
              "                title=\"Suggest charts\"\n",
              "                style=\"display:none;\">\n",
              "\n",
              "<svg xmlns=\"http://www.w3.org/2000/svg\" height=\"24px\"viewBox=\"0 0 24 24\"\n",
              "     width=\"24px\">\n",
              "    <g>\n",
              "        <path d=\"M19 3H5c-1.1 0-2 .9-2 2v14c0 1.1.9 2 2 2h14c1.1 0 2-.9 2-2V5c0-1.1-.9-2-2-2zM9 17H7v-7h2v7zm4 0h-2V7h2v10zm4 0h-2v-4h2v4z\"/>\n",
              "    </g>\n",
              "</svg>\n",
              "      </button>\n",
              "\n",
              "<style>\n",
              "  .colab-df-quickchart {\n",
              "      --bg-color: #E8F0FE;\n",
              "      --fill-color: #1967D2;\n",
              "      --hover-bg-color: #E2EBFA;\n",
              "      --hover-fill-color: #174EA6;\n",
              "      --disabled-fill-color: #AAA;\n",
              "      --disabled-bg-color: #DDD;\n",
              "  }\n",
              "\n",
              "  [theme=dark] .colab-df-quickchart {\n",
              "      --bg-color: #3B4455;\n",
              "      --fill-color: #D2E3FC;\n",
              "      --hover-bg-color: #434B5C;\n",
              "      --hover-fill-color: #FFFFFF;\n",
              "      --disabled-bg-color: #3B4455;\n",
              "      --disabled-fill-color: #666;\n",
              "  }\n",
              "\n",
              "  .colab-df-quickchart {\n",
              "    background-color: var(--bg-color);\n",
              "    border: none;\n",
              "    border-radius: 50%;\n",
              "    cursor: pointer;\n",
              "    display: none;\n",
              "    fill: var(--fill-color);\n",
              "    height: 32px;\n",
              "    padding: 0;\n",
              "    width: 32px;\n",
              "  }\n",
              "\n",
              "  .colab-df-quickchart:hover {\n",
              "    background-color: var(--hover-bg-color);\n",
              "    box-shadow: 0 1px 2px rgba(60, 64, 67, 0.3), 0 1px 3px 1px rgba(60, 64, 67, 0.15);\n",
              "    fill: var(--button-hover-fill-color);\n",
              "  }\n",
              "\n",
              "  .colab-df-quickchart-complete:disabled,\n",
              "  .colab-df-quickchart-complete:disabled:hover {\n",
              "    background-color: var(--disabled-bg-color);\n",
              "    fill: var(--disabled-fill-color);\n",
              "    box-shadow: none;\n",
              "  }\n",
              "\n",
              "  .colab-df-spinner {\n",
              "    border: 2px solid var(--fill-color);\n",
              "    border-color: transparent;\n",
              "    border-bottom-color: var(--fill-color);\n",
              "    animation:\n",
              "      spin 1s steps(1) infinite;\n",
              "  }\n",
              "\n",
              "  @keyframes spin {\n",
              "    0% {\n",
              "      border-color: transparent;\n",
              "      border-bottom-color: var(--fill-color);\n",
              "      border-left-color: var(--fill-color);\n",
              "    }\n",
              "    20% {\n",
              "      border-color: transparent;\n",
              "      border-left-color: var(--fill-color);\n",
              "      border-top-color: var(--fill-color);\n",
              "    }\n",
              "    30% {\n",
              "      border-color: transparent;\n",
              "      border-left-color: var(--fill-color);\n",
              "      border-top-color: var(--fill-color);\n",
              "      border-right-color: var(--fill-color);\n",
              "    }\n",
              "    40% {\n",
              "      border-color: transparent;\n",
              "      border-right-color: var(--fill-color);\n",
              "      border-top-color: var(--fill-color);\n",
              "    }\n",
              "    60% {\n",
              "      border-color: transparent;\n",
              "      border-right-color: var(--fill-color);\n",
              "    }\n",
              "    80% {\n",
              "      border-color: transparent;\n",
              "      border-right-color: var(--fill-color);\n",
              "      border-bottom-color: var(--fill-color);\n",
              "    }\n",
              "    90% {\n",
              "      border-color: transparent;\n",
              "      border-bottom-color: var(--fill-color);\n",
              "    }\n",
              "  }\n",
              "</style>\n",
              "\n",
              "      <script>\n",
              "        async function quickchart(key) {\n",
              "          const quickchartButtonEl =\n",
              "            document.querySelector('#' + key + ' button');\n",
              "          quickchartButtonEl.disabled = true;  // To prevent multiple clicks.\n",
              "          quickchartButtonEl.classList.add('colab-df-spinner');\n",
              "          try {\n",
              "            const charts = await google.colab.kernel.invokeFunction(\n",
              "                'suggestCharts', [key], {});\n",
              "          } catch (error) {\n",
              "            console.error('Error during call to suggestCharts:', error);\n",
              "          }\n",
              "          quickchartButtonEl.classList.remove('colab-df-spinner');\n",
              "          quickchartButtonEl.classList.add('colab-df-quickchart-complete');\n",
              "        }\n",
              "        (() => {\n",
              "          let quickchartButtonEl =\n",
              "            document.querySelector('#df-5da2dc09-e046-4e78-93d6-0600916c0d08 button');\n",
              "          quickchartButtonEl.style.display =\n",
              "            google.colab.kernel.accessAllowed ? 'block' : 'none';\n",
              "        })();\n",
              "      </script>\n",
              "    </div>\n",
              "\n",
              "    </div>\n",
              "  </div>\n"
            ],
            "application/vnd.google.colaboratory.intrinsic+json": {
              "type": "dataframe",
              "variable_name": "salesinK",
              "summary": "{\n  \"name\": \"salesinK\",\n  \"rows\": 10,\n  \"fields\": [\n    {\n      \"column\": \"Date\",\n      \"properties\": {\n        \"dtype\": \"date\",\n        \"min\": \"2013-11-04 00:00:00\",\n        \"max\": \"2016-04-16 00:00:00\",\n        \"num_unique_values\": 4,\n        \"samples\": [\n          \"2015-11-04 00:00:00\",\n          \"2016-04-16 00:00:00\",\n          \"2013-11-04 00:00:00\"\n        ],\n        \"semantic_type\": \"\",\n        \"description\": \"\"\n      }\n    },\n    {\n      \"column\": \"Day\",\n      \"properties\": {\n        \"dtype\": \"number\",\n        \"std\": 5,\n        \"min\": 4,\n        \"max\": 16,\n        \"num_unique_values\": 2,\n        \"samples\": [\n          16,\n          4\n        ],\n        \"semantic_type\": \"\",\n        \"description\": \"\"\n      }\n    },\n    {\n      \"column\": \"Month\",\n      \"properties\": {\n        \"dtype\": \"category\",\n        \"num_unique_values\": 2,\n        \"samples\": [\n          \"April\",\n          \"November\"\n        ],\n        \"semantic_type\": \"\",\n        \"description\": \"\"\n      }\n    },\n    {\n      \"column\": \"Year\",\n      \"properties\": {\n        \"dtype\": \"number\",\n        \"std\": 1,\n        \"min\": 2013,\n        \"max\": 2016,\n        \"num_unique_values\": 4,\n        \"samples\": [\n          2015,\n          2016\n        ],\n        \"semantic_type\": \"\",\n        \"description\": \"\"\n      }\n    },\n    {\n      \"column\": \"Customer_Age\",\n      \"properties\": {\n        \"dtype\": \"number\",\n        \"std\": 0,\n        \"min\": 40,\n        \"max\": 40,\n        \"num_unique_values\": 1,\n        \"samples\": [\n          40\n        ],\n        \"semantic_type\": \"\",\n        \"description\": \"\"\n      }\n    },\n    {\n      \"column\": \"Age_Group\",\n      \"properties\": {\n        \"dtype\": \"category\",\n        \"num_unique_values\": 1,\n        \"samples\": [\n          \"Adults (35-64)\"\n        ],\n        \"semantic_type\": \"\",\n        \"description\": \"\"\n      }\n    },\n    {\n      \"column\": \"Customer_Gender\",\n      \"properties\": {\n        \"dtype\": \"category\",\n        \"num_unique_values\": 1,\n        \"samples\": [\n          \"M\"\n        ],\n        \"semantic_type\": \"\",\n        \"description\": \"\"\n      }\n    },\n    {\n      \"column\": \"Country\",\n      \"properties\": {\n        \"dtype\": \"category\",\n        \"num_unique_values\": 1,\n        \"samples\": [\n          \"United States\"\n        ],\n        \"semantic_type\": \"\",\n        \"description\": \"\"\n      }\n    },\n    {\n      \"column\": \"State\",\n      \"properties\": {\n        \"dtype\": \"category\",\n        \"num_unique_values\": 1,\n        \"samples\": [\n          \"Kentucky\"\n        ],\n        \"semantic_type\": \"\",\n        \"description\": \"\"\n      }\n    },\n    {\n      \"column\": \"Product_Category\",\n      \"properties\": {\n        \"dtype\": \"category\",\n        \"num_unique_values\": 1,\n        \"samples\": [\n          \"Accessories\"\n        ],\n        \"semantic_type\": \"\",\n        \"description\": \"\"\n      }\n    },\n    {\n      \"column\": \"Sub_Category\",\n      \"properties\": {\n        \"dtype\": \"category\",\n        \"num_unique_values\": 4,\n        \"samples\": [\n          \"Fenders\"\n        ],\n        \"semantic_type\": \"\",\n        \"description\": \"\"\n      }\n    },\n    {\n      \"column\": \"Product\",\n      \"properties\": {\n        \"dtype\": \"category\",\n        \"num_unique_values\": 4,\n        \"samples\": [\n          \"Fender Set - Mountain\"\n        ],\n        \"semantic_type\": \"\",\n        \"description\": \"\"\n      }\n    },\n    {\n      \"column\": \"Order_Quantity\",\n      \"properties\": {\n        \"dtype\": \"number\",\n        \"std\": 11,\n        \"min\": 1,\n        \"max\": 31,\n        \"num_unique_values\": 8,\n        \"samples\": [\n          12\n        ],\n        \"semantic_type\": \"\",\n        \"description\": \"\"\n      }\n    },\n    {\n      \"column\": \"Unit_Cost\",\n      \"properties\": {\n        \"dtype\": \"number\",\n        \"std\": 14,\n        \"min\": 8,\n        \"max\": 45,\n        \"num_unique_values\": 4,\n        \"samples\": [\n          8\n        ],\n        \"semantic_type\": \"\",\n        \"description\": \"\"\n      }\n    },\n    {\n      \"column\": \"Unit_Price\",\n      \"properties\": {\n        \"dtype\": \"number\",\n        \"std\": 39.670082990138106,\n        \"min\": 22.66,\n        \"max\": 123.60000000000001,\n        \"num_unique_values\": 4,\n        \"samples\": [\n          22.66\n        ],\n        \"semantic_type\": \"\",\n        \"description\": \"\"\n      }\n    },\n    {\n      \"column\": \"Profit\",\n      \"properties\": {\n        \"dtype\": \"number\",\n        \"std\": 205,\n        \"min\": 16,\n        \"max\": 574,\n        \"num_unique_values\": 9,\n        \"samples\": [\n          16\n        ],\n        \"semantic_type\": \"\",\n        \"description\": \"\"\n      }\n    },\n    {\n      \"column\": \"Cost\",\n      \"properties\": {\n        \"dtype\": \"number\",\n        \"std\": 143,\n        \"min\": 11,\n        \"max\": 403,\n        \"num_unique_values\": 9,\n        \"samples\": [\n          11\n        ],\n        \"semantic_type\": \"\",\n        \"description\": \"\"\n      }\n    },\n    {\n      \"column\": \"Revenue\",\n      \"properties\": {\n        \"dtype\": \"number\",\n        \"std\": 349,\n        \"min\": 27,\n        \"max\": 977,\n        \"num_unique_values\": 9,\n        \"samples\": [\n          27\n        ],\n        \"semantic_type\": \"\",\n        \"description\": \"\"\n      }\n    },\n    {\n      \"column\": \"Calculated_Revenue\",\n      \"properties\": {\n        \"dtype\": \"number\",\n        \"std\": 349,\n        \"min\": 27,\n        \"max\": 977,\n        \"num_unique_values\": 9,\n        \"samples\": [\n          27\n        ],\n        \"semantic_type\": \"\",\n        \"description\": \"\"\n      }\n    },\n    {\n      \"column\": \"RpA\",\n      \"properties\": {\n        \"dtype\": \"number\",\n        \"std\": 8.728952463561198,\n        \"min\": 0.675,\n        \"max\": 24.425,\n        \"num_unique_values\": 9,\n        \"samples\": [\n          0.675\n        ],\n        \"semantic_type\": \"\",\n        \"description\": \"\"\n      }\n    }\n  ]\n}"
            }
          },
          "metadata": {},
          "execution_count": 83
        }
      ]
    },
    {
      "cell_type": "markdown",
      "source": [
        "Get the mean revenue of the Adults (35-64) sales group"
      ],
      "metadata": {
        "id": "I-EnogtFzmWJ"
      }
    },
    {
      "cell_type": "code",
      "source": [
        "meanofAdults = sales.loc[sales['Age_Group']=='Adults (35-64)', 'Revenue'].mean() # trước dấu phẩy là điều kiện lọc, sau dấu phẩy là cột muốn lấy (chỉ 1 cột)\n",
        "meanofAdults"
      ],
      "metadata": {
        "colab": {
          "base_uri": "https://localhost:8080/"
        },
        "id": "9ceEoTRVwT-f",
        "outputId": "32e55f72-8268-4190-f8ea-70adda73cd2d"
      },
      "execution_count": 93,
      "outputs": [
        {
          "output_type": "execute_result",
          "data": {
            "text/plain": [
              "np.float64(762.8287654055604)"
            ]
          },
          "metadata": {},
          "execution_count": 93
        }
      ]
    },
    {
      "cell_type": "markdown",
      "source": [
        "How many records belong to Age Group Youth (<25) or Adults (35-64)?"
      ],
      "metadata": {
        "id": "YOm8ix0c0X93"
      }
    },
    {
      "cell_type": "code",
      "source": [
        "rec = sales.loc[(sales['Age_Group']=='Youth (<25)')|(sales['Age_Group']=='Adults (35-64)')].shape[0]\n",
        "rec"
      ],
      "metadata": {
        "colab": {
          "base_uri": "https://localhost:8080/"
        },
        "id": "uCXzSUeSwUBK",
        "outputId": "75851190-6c25-46b6-df8f-4b4a76586b66"
      },
      "execution_count": 97,
      "outputs": [
        {
          "output_type": "execute_result",
          "data": {
            "text/plain": [
              "73652"
            ]
          },
          "metadata": {},
          "execution_count": 97
        }
      ]
    },
    {
      "cell_type": "markdown",
      "source": [
        "Get the mean revenue of the sales group Adults (35-64) in United States"
      ],
      "metadata": {
        "id": "YvkIimxs1EWy"
      }
    },
    {
      "cell_type": "code",
      "source": [
        "meanrofus = sales.loc[(sales['Age_Group']=='Adults (35-64)')&(sales['Country']=='United States'), 'Revenue'].mean()\n",
        "meanrofus"
      ],
      "metadata": {
        "colab": {
          "base_uri": "https://localhost:8080/"
        },
        "id": "RmfP0CocwUDz",
        "outputId": "dc62ba74-29c3-4362-e38e-250305025ea4"
      },
      "execution_count": 103,
      "outputs": [
        {
          "output_type": "execute_result",
          "data": {
            "text/plain": [
              "np.float64(726.7260473588342)"
            ]
          },
          "metadata": {},
          "execution_count": 103
        }
      ]
    },
    {
      "cell_type": "markdown",
      "source": [
        "Increase the revenue by 10% to every sale made in France"
      ],
      "metadata": {
        "id": "pJAAd_sC2Aww"
      }
    },
    {
      "cell_type": "code",
      "source": [
        "salesinf = sales.loc[(sales['Country']=='France')]\n",
        "salesinf['Revenue'].head()"
      ],
      "metadata": {
        "colab": {
          "base_uri": "https://localhost:8080/",
          "height": 241
        },
        "id": "EFUhA50nwUGg",
        "outputId": "bc726f2d-9c34-42f9-9cd0-b260fb609f17"
      },
      "execution_count": 110,
      "outputs": [
        {
          "output_type": "execute_result",
          "data": {
            "text/plain": [
              "50     787\n",
              "51     787\n",
              "52    2957\n",
              "53    2851\n",
              "60     626\n",
              "Name: Revenue, dtype: int64"
            ],
            "text/html": [
              "<div>\n",
              "<style scoped>\n",
              "    .dataframe tbody tr th:only-of-type {\n",
              "        vertical-align: middle;\n",
              "    }\n",
              "\n",
              "    .dataframe tbody tr th {\n",
              "        vertical-align: top;\n",
              "    }\n",
              "\n",
              "    .dataframe thead th {\n",
              "        text-align: right;\n",
              "    }\n",
              "</style>\n",
              "<table border=\"1\" class=\"dataframe\">\n",
              "  <thead>\n",
              "    <tr style=\"text-align: right;\">\n",
              "      <th></th>\n",
              "      <th>Revenue</th>\n",
              "    </tr>\n",
              "  </thead>\n",
              "  <tbody>\n",
              "    <tr>\n",
              "      <th>50</th>\n",
              "      <td>787</td>\n",
              "    </tr>\n",
              "    <tr>\n",
              "      <th>51</th>\n",
              "      <td>787</td>\n",
              "    </tr>\n",
              "    <tr>\n",
              "      <th>52</th>\n",
              "      <td>2957</td>\n",
              "    </tr>\n",
              "    <tr>\n",
              "      <th>53</th>\n",
              "      <td>2851</td>\n",
              "    </tr>\n",
              "    <tr>\n",
              "      <th>60</th>\n",
              "      <td>626</td>\n",
              "    </tr>\n",
              "  </tbody>\n",
              "</table>\n",
              "</div><br><label><b>dtype:</b> int64</label>"
            ]
          },
          "metadata": {},
          "execution_count": 110
        }
      ]
    },
    {
      "cell_type": "code",
      "source": [
        "salesinf['Revenue'] = salesinf['Revenue']*1.1\n",
        "salesinf['Revenue'].head()"
      ],
      "metadata": {
        "colab": {
          "base_uri": "https://localhost:8080/",
          "height": 345
        },
        "id": "Ubq1vjVY2UV9",
        "outputId": "9a0638da-91af-4915-8a0a-db3bfb86522b"
      },
      "execution_count": 111,
      "outputs": [
        {
          "output_type": "stream",
          "name": "stderr",
          "text": [
            "/tmp/ipython-input-4170950469.py:1: SettingWithCopyWarning: \n",
            "A value is trying to be set on a copy of a slice from a DataFrame.\n",
            "Try using .loc[row_indexer,col_indexer] = value instead\n",
            "\n",
            "See the caveats in the documentation: https://pandas.pydata.org/pandas-docs/stable/user_guide/indexing.html#returning-a-view-versus-a-copy\n",
            "  salesinf['Revenue'] = salesinf['Revenue']*1.1\n"
          ]
        },
        {
          "output_type": "execute_result",
          "data": {
            "text/plain": [
              "50     865.7\n",
              "51     865.7\n",
              "52    3252.7\n",
              "53    3136.1\n",
              "60     688.6\n",
              "Name: Revenue, dtype: float64"
            ],
            "text/html": [
              "<div>\n",
              "<style scoped>\n",
              "    .dataframe tbody tr th:only-of-type {\n",
              "        vertical-align: middle;\n",
              "    }\n",
              "\n",
              "    .dataframe tbody tr th {\n",
              "        vertical-align: top;\n",
              "    }\n",
              "\n",
              "    .dataframe thead th {\n",
              "        text-align: right;\n",
              "    }\n",
              "</style>\n",
              "<table border=\"1\" class=\"dataframe\">\n",
              "  <thead>\n",
              "    <tr style=\"text-align: right;\">\n",
              "      <th></th>\n",
              "      <th>Revenue</th>\n",
              "    </tr>\n",
              "  </thead>\n",
              "  <tbody>\n",
              "    <tr>\n",
              "      <th>50</th>\n",
              "      <td>865.7</td>\n",
              "    </tr>\n",
              "    <tr>\n",
              "      <th>51</th>\n",
              "      <td>865.7</td>\n",
              "    </tr>\n",
              "    <tr>\n",
              "      <th>52</th>\n",
              "      <td>3252.7</td>\n",
              "    </tr>\n",
              "    <tr>\n",
              "      <th>53</th>\n",
              "      <td>3136.1</td>\n",
              "    </tr>\n",
              "    <tr>\n",
              "      <th>60</th>\n",
              "      <td>688.6</td>\n",
              "    </tr>\n",
              "  </tbody>\n",
              "</table>\n",
              "</div><br><label><b>dtype:</b> float64</label>"
            ]
          },
          "metadata": {},
          "execution_count": 111
        }
      ]
    },
    {
      "cell_type": "markdown",
      "source": [
        "#What is the mean of Customer_Age"
      ],
      "metadata": {
        "id": "YARVlGWNpzFC"
      }
    },
    {
      "cell_type": "code",
      "source": [
        "mean=sales['Customer_Age'].mean()\n",
        "print(f'customer_age is', mean)"
      ],
      "metadata": {
        "colab": {
          "base_uri": "https://localhost:8080/"
        },
        "id": "S2QYZ_XmX0Pc",
        "outputId": "38a7f2ce-ae9b-4bc0-a833-c4bf95ed6371"
      },
      "execution_count": 59,
      "outputs": [
        {
          "output_type": "stream",
          "name": "stdout",
          "text": [
            "customer_age is 35.91921157861212\n"
          ]
        }
      ]
    },
    {
      "cell_type": "code",
      "source": [
        "sales['Customer_Age'].plot(kind='box', vert=False, color = 'red', figsize=(10,4))"
      ],
      "metadata": {
        "colab": {
          "base_uri": "https://localhost:8080/",
          "height": 385
        },
        "id": "kkRQkAvHX0SD",
        "outputId": "dd7bd7aa-a539-415c-d709-3f5e6e7a2f90"
      },
      "execution_count": 60,
      "outputs": [
        {
          "output_type": "execute_result",
          "data": {
            "text/plain": [
              "<Axes: >"
            ]
          },
          "metadata": {},
          "execution_count": 60
        },
        {
          "output_type": "display_data",
          "data": {
            "text/plain": [
              "<Figure size 1000x400 with 1 Axes>"
            ],
            "image/png": "[encoded data removed]"
          },
          "metadata": {}
        }
      ]
    },
    {
      "cell_type": "markdown",
      "source": [
        "#How many sales per year/month we have?"
      ],
      "metadata": {
        "id": "Z7UQAinBrBBj"
      }
    },
    {
      "cell_type": "code",
      "source": [
        "sales['Year'].value_counts()"
      ],
      "metadata": {
        "colab": {
          "base_uri": "https://localhost:8080/",
          "height": 304
        },
        "id": "RVCRUv8IX0W_",
        "outputId": "3af13398-96dd-4fb3-fbf1-359af228ef9c"
      },
      "execution_count": 61,
      "outputs": [
        {
          "output_type": "execute_result",
          "data": {
            "text/plain": [
              "Year\n",
              "2016    29398\n",
              "2014    29398\n",
              "2015    24443\n",
              "2013    24443\n",
              "2012     2677\n",
              "2011     2677\n",
              "Name: count, dtype: int64"
            ],
            "text/html": [
              "<div>\n",
              "<style scoped>\n",
              "    .dataframe tbody tr th:only-of-type {\n",
              "        vertical-align: middle;\n",
              "    }\n",
              "\n",
              "    .dataframe tbody tr th {\n",
              "        vertical-align: top;\n",
              "    }\n",
              "\n",
              "    .dataframe thead th {\n",
              "        text-align: right;\n",
              "    }\n",
              "</style>\n",
              "<table border=\"1\" class=\"dataframe\">\n",
              "  <thead>\n",
              "    <tr style=\"text-align: right;\">\n",
              "      <th></th>\n",
              "      <th>count</th>\n",
              "    </tr>\n",
              "    <tr>\n",
              "      <th>Year</th>\n",
              "      <th></th>\n",
              "    </tr>\n",
              "  </thead>\n",
              "  <tbody>\n",
              "    <tr>\n",
              "      <th>2016</th>\n",
              "      <td>29398</td>\n",
              "    </tr>\n",
              "    <tr>\n",
              "      <th>2014</th>\n",
              "      <td>29398</td>\n",
              "    </tr>\n",
              "    <tr>\n",
              "      <th>2015</th>\n",
              "      <td>24443</td>\n",
              "    </tr>\n",
              "    <tr>\n",
              "      <th>2013</th>\n",
              "      <td>24443</td>\n",
              "    </tr>\n",
              "    <tr>\n",
              "      <th>2012</th>\n",
              "      <td>2677</td>\n",
              "    </tr>\n",
              "    <tr>\n",
              "      <th>2011</th>\n",
              "      <td>2677</td>\n",
              "    </tr>\n",
              "  </tbody>\n",
              "</table>\n",
              "</div><br><label><b>dtype:</b> int64</label>"
            ]
          },
          "metadata": {},
          "execution_count": 61
        }
      ]
    },
    {
      "cell_type": "code",
      "source": [
        "sales['Year'].value_counts().plot(kind='pie')"
      ],
      "metadata": {
        "colab": {
          "base_uri": "https://localhost:8080/",
          "height": 423
        },
        "id": "6CkNiAtIX0cd",
        "outputId": "46120d7a-534b-40d6-ebf7-12348f83aba2"
      },
      "execution_count": 62,
      "outputs": [
        {
          "output_type": "execute_result",
          "data": {
            "text/plain": [
              "<Axes: ylabel='count'>"
            ]
          },
          "metadata": {},
          "execution_count": 62
        },
        {
          "output_type": "display_data",
          "data": {
            "text/plain": [
              "<Figure size 640x480 with 1 Axes>"
            ],
            "image/png": "[encoded data removed]"
          },
          "metadata": {}
        }
      ]
    },
    {
      "cell_type": "code",
      "source": [
        "sales['Month'].value_counts()"
      ],
      "metadata": {
        "colab": {
          "base_uri": "https://localhost:8080/",
          "height": 492
        },
        "id": "Un2-vGBLX0fS",
        "outputId": "69aa3608-a7f4-4ed5-c937-f4307692b722"
      },
      "execution_count": 63,
      "outputs": [
        {
          "output_type": "execute_result",
          "data": {
            "text/plain": [
              "Month\n",
              "June         11234\n",
              "December     11200\n",
              "May          11128\n",
              "April        10182\n",
              "March         9674\n",
              "January       9284\n",
              "February      9022\n",
              "October       8750\n",
              "November      8734\n",
              "August        8200\n",
              "September     8166\n",
              "July          7462\n",
              "Name: count, dtype: int64"
            ],
            "text/html": [
              "<div>\n",
              "<style scoped>\n",
              "    .dataframe tbody tr th:only-of-type {\n",
              "        vertical-align: middle;\n",
              "    }\n",
              "\n",
              "    .dataframe tbody tr th {\n",
              "        vertical-align: top;\n",
              "    }\n",
              "\n",
              "    .dataframe thead th {\n",
              "        text-align: right;\n",
              "    }\n",
              "</style>\n",
              "<table border=\"1\" class=\"dataframe\">\n",
              "  <thead>\n",
              "    <tr style=\"text-align: right;\">\n",
              "      <th></th>\n",
              "      <th>count</th>\n",
              "    </tr>\n",
              "    <tr>\n",
              "      <th>Month</th>\n",
              "      <th></th>\n",
              "    </tr>\n",
              "  </thead>\n",
              "  <tbody>\n",
              "    <tr>\n",
              "      <th>June</th>\n",
              "      <td>11234</td>\n",
              "    </tr>\n",
              "    <tr>\n",
              "      <th>December</th>\n",
              "      <td>11200</td>\n",
              "    </tr>\n",
              "    <tr>\n",
              "      <th>May</th>\n",
              "      <td>11128</td>\n",
              "    </tr>\n",
              "    <tr>\n",
              "      <th>April</th>\n",
              "      <td>10182</td>\n",
              "    </tr>\n",
              "    <tr>\n",
              "      <th>March</th>\n",
              "      <td>9674</td>\n",
              "    </tr>\n",
              "    <tr>\n",
              "      <th>January</th>\n",
              "      <td>9284</td>\n",
              "    </tr>\n",
              "    <tr>\n",
              "      <th>February</th>\n",
              "      <td>9022</td>\n",
              "    </tr>\n",
              "    <tr>\n",
              "      <th>October</th>\n",
              "      <td>8750</td>\n",
              "    </tr>\n",
              "    <tr>\n",
              "      <th>November</th>\n",
              "      <td>8734</td>\n",
              "    </tr>\n",
              "    <tr>\n",
              "      <th>August</th>\n",
              "      <td>8200</td>\n",
              "    </tr>\n",
              "    <tr>\n",
              "      <th>September</th>\n",
              "      <td>8166</td>\n",
              "    </tr>\n",
              "    <tr>\n",
              "      <th>July</th>\n",
              "      <td>7462</td>\n",
              "    </tr>\n",
              "  </tbody>\n",
              "</table>\n",
              "</div><br><label><b>dtype:</b> int64</label>"
            ]
          },
          "metadata": {},
          "execution_count": 63
        }
      ]
    },
    {
      "cell_type": "code",
      "source": [
        "sales['Month'].value_counts().plot(kind='bar', color='green')"
      ],
      "metadata": {
        "colab": {
          "base_uri": "https://localhost:8080/",
          "height": 529
        },
        "id": "skSP8rQqrmpa",
        "outputId": "0ea98e94-c121-4556-d9a1-50f7977d389a"
      },
      "execution_count": 64,
      "outputs": [
        {
          "output_type": "execute_result",
          "data": {
            "text/plain": [
              "<Axes: xlabel='Month'>"
            ]
          },
          "metadata": {},
          "execution_count": 64
        },
        {
          "output_type": "display_data",
          "data": {
            "text/plain": [
              "<Figure size 640x480 with 1 Axes>"
            ],
            "image/png": "[encoded data removed]"
          },
          "metadata": {}
        }
      ]
    },
    {
      "cell_type": "markdown",
      "source": [
        "#Which country has the most sales quantity of sales?"
      ],
      "metadata": {
        "id": "JOp-lq81sAXY"
      }
    },
    {
      "cell_type": "code",
      "source": [
        "most = sales['Country'].value_counts().head(1)\n",
        "most"
      ],
      "metadata": {
        "colab": {
          "base_uri": "https://localhost:8080/",
          "height": 147
        },
        "id": "xWmiV8tvr1ND",
        "outputId": "d84923dd-5d35-495c-a99d-a53b7a44963a"
      },
      "execution_count": 65,
      "outputs": [
        {
          "output_type": "execute_result",
          "data": {
            "text/plain": [
              "Country\n",
              "United States    39206\n",
              "Name: count, dtype: int64"
            ],
            "text/html": [
              "<div>\n",
              "<style scoped>\n",
              "    .dataframe tbody tr th:only-of-type {\n",
              "        vertical-align: middle;\n",
              "    }\n",
              "\n",
              "    .dataframe tbody tr th {\n",
              "        vertical-align: top;\n",
              "    }\n",
              "\n",
              "    .dataframe thead th {\n",
              "        text-align: right;\n",
              "    }\n",
              "</style>\n",
              "<table border=\"1\" class=\"dataframe\">\n",
              "  <thead>\n",
              "    <tr style=\"text-align: right;\">\n",
              "      <th></th>\n",
              "      <th>count</th>\n",
              "    </tr>\n",
              "    <tr>\n",
              "      <th>Country</th>\n",
              "      <th></th>\n",
              "    </tr>\n",
              "  </thead>\n",
              "  <tbody>\n",
              "    <tr>\n",
              "      <th>United States</th>\n",
              "      <td>39206</td>\n",
              "    </tr>\n",
              "  </tbody>\n",
              "</table>\n",
              "</div><br><label><b>dtype:</b> int64</label>"
            ]
          },
          "metadata": {},
          "execution_count": 65
        }
      ]
    },
    {
      "cell_type": "code",
      "source": [
        "sales['Country'].value_counts().plot(kind='bar', color='black',figsize=(10,4))"
      ],
      "metadata": {
        "colab": {
          "base_uri": "https://localhost:8080/",
          "height": 502
        },
        "id": "t2nt0o7CsmUw",
        "outputId": "8e5503e9-41f9-4bf3-e5fd-f349f2cb889f"
      },
      "execution_count": 66,
      "outputs": [
        {
          "output_type": "execute_result",
          "data": {
            "text/plain": [
              "<Axes: xlabel='Country'>"
            ]
          },
          "metadata": {},
          "execution_count": 66
        },
        {
          "output_type": "display_data",
          "data": {
            "text/plain": [
              "<Figure size 1000x400 with 1 Axes>"
            ],
            "image/png": "[encoded data removed]"
          },
          "metadata": {}
        }
      ]
    },
    {
      "cell_type": "markdown",
      "source": [
        "#Create a list of every product sold"
      ],
      "metadata": {
        "id": "Ol3oK0gIs7KF"
      }
    },
    {
      "cell_type": "code",
      "source": [
        "sales['Product'].unique()\n",
        "#unique() lấy ra giá trị duy nhất, không trùng lặp từ 1 cột"
      ],
      "metadata": {
        "colab": {
          "base_uri": "https://localhost:8080/"
        },
        "id": "NxAhvbDzrmrU",
        "outputId": "a55b74d2-70b0-4c43-d6ca-d74b9fba957f"
      },
      "execution_count": 67,
      "outputs": [
        {
          "output_type": "execute_result",
          "data": {
            "text/plain": [
              "array(['Hitch Rack - 4-Bike', 'All-Purpose Bike Stand',\n",
              "       'Mountain Bottle Cage', 'Water Bottle - 30 oz.',\n",
              "       'Road Bottle Cage', 'AWC Logo Cap', 'Bike Wash - Dissolver',\n",
              "       'Fender Set - Mountain', 'Half-Finger Gloves, L',\n",
              "       'Half-Finger Gloves, M', 'Half-Finger Gloves, S',\n",
              "       'Sport-100 Helmet, Black', 'Sport-100 Helmet, Red',\n",
              "       'Sport-100 Helmet, Blue', 'Hydration Pack - 70 oz.',\n",
              "       'Short-Sleeve Classic Jersey, XL',\n",
              "       'Short-Sleeve Classic Jersey, L', 'Short-Sleeve Classic Jersey, M',\n",
              "       'Short-Sleeve Classic Jersey, S', 'Long-Sleeve Logo Jersey, M',\n",
              "       'Long-Sleeve Logo Jersey, XL', 'Long-Sleeve Logo Jersey, L',\n",
              "       'Long-Sleeve Logo Jersey, S', 'Mountain-100 Silver, 38',\n",
              "       'Mountain-100 Silver, 44', 'Mountain-100 Black, 48',\n",
              "       'Mountain-100 Silver, 48', 'Mountain-100 Black, 38',\n",
              "       'Mountain-200 Silver, 38', 'Mountain-100 Black, 44',\n",
              "       'Mountain-100 Silver, 42', 'Mountain-200 Black, 46',\n",
              "       'Mountain-200 Silver, 42', 'Mountain-200 Silver, 46',\n",
              "       'Mountain-200 Black, 38', 'Mountain-100 Black, 42',\n",
              "       'Mountain-200 Black, 42', 'Mountain-400-W Silver, 46',\n",
              "       'Mountain-500 Silver, 40', 'Mountain-500 Silver, 44',\n",
              "       'Mountain-500 Black, 48', 'Mountain-500 Black, 40',\n",
              "       'Mountain-400-W Silver, 42', 'Mountain-500 Silver, 52',\n",
              "       'Mountain-500 Black, 52', 'Mountain-500 Silver, 42',\n",
              "       'Mountain-500 Black, 44', 'Mountain-500 Silver, 48',\n",
              "       'Mountain-400-W Silver, 38', 'Mountain-400-W Silver, 40',\n",
              "       'Mountain-500 Black, 42', 'Road-150 Red, 48', 'Road-150 Red, 62',\n",
              "       'Road-750 Black, 48', 'Road-750 Black, 58', 'Road-750 Black, 52',\n",
              "       'Road-150 Red, 52', 'Road-150 Red, 44', 'Road-150 Red, 56',\n",
              "       'Road-750 Black, 44', 'Road-350-W Yellow, 40',\n",
              "       'Road-350-W Yellow, 42', 'Road-250 Black, 44',\n",
              "       'Road-250 Black, 48', 'Road-350-W Yellow, 48',\n",
              "       'Road-550-W Yellow, 44', 'Road-550-W Yellow, 38',\n",
              "       'Road-250 Black, 52', 'Road-550-W Yellow, 48', 'Road-250 Red, 58',\n",
              "       'Road-250 Black, 58', 'Road-250 Red, 52', 'Road-250 Red, 48',\n",
              "       'Road-250 Red, 44', 'Road-550-W Yellow, 42',\n",
              "       'Road-550-W Yellow, 40', 'Road-650 Red, 48', 'Road-650 Red, 60',\n",
              "       'Road-650 Black, 48', 'Road-350-W Yellow, 44', 'Road-650 Red, 52',\n",
              "       'Road-650 Black, 44', 'Road-650 Red, 62', 'Road-650 Red, 58',\n",
              "       'Road-650 Black, 60', 'Road-650 Black, 58', 'Road-650 Black, 52',\n",
              "       'Road-650 Black, 62', 'Road-650 Red, 44',\n",
              "       \"Women's Mountain Shorts, M\", \"Women's Mountain Shorts, S\",\n",
              "       \"Women's Mountain Shorts, L\", 'Racing Socks, L', 'Racing Socks, M',\n",
              "       'Mountain Tire Tube', 'Touring Tire Tube', 'Patch Kit/8 Patches',\n",
              "       'HL Mountain Tire', 'LL Mountain Tire', 'Road Tire Tube',\n",
              "       'LL Road Tire', 'Touring Tire', 'ML Mountain Tire', 'HL Road Tire',\n",
              "       'ML Road Tire', 'Touring-1000 Yellow, 50', 'Touring-1000 Blue, 46',\n",
              "       'Touring-1000 Yellow, 60', 'Touring-1000 Blue, 50',\n",
              "       'Touring-3000 Yellow, 50', 'Touring-3000 Blue, 54',\n",
              "       'Touring-3000 Blue, 58', 'Touring-3000 Yellow, 44',\n",
              "       'Touring-3000 Yellow, 54', 'Touring-3000 Blue, 62',\n",
              "       'Touring-3000 Blue, 44', 'Touring-1000 Blue, 54',\n",
              "       'Touring-1000 Yellow, 46', 'Touring-1000 Blue, 60',\n",
              "       'Touring-3000 Yellow, 62', 'Touring-1000 Yellow, 54',\n",
              "       'Touring-2000 Blue, 54', 'Touring-3000 Blue, 50',\n",
              "       'Touring-3000 Yellow, 58', 'Touring-2000 Blue, 46',\n",
              "       'Touring-2000 Blue, 50', 'Touring-2000 Blue, 60',\n",
              "       'Classic Vest, L', 'Classic Vest, M', 'Classic Vest, S'],\n",
              "      dtype=object)"
            ]
          },
          "metadata": {},
          "execution_count": 67
        }
      ]
    },
    {
      "cell_type": "markdown",
      "source": [
        "##How many orders were made between May and July of 2016?"
      ],
      "metadata": {
        "id": "hJQoq1gQ3jfQ"
      }
    },
    {
      "cell_type": "code",
      "source": [
        "sales.loc[(sales['Year']==2016) & (sales['Month'].isin(['May', 'June', 'July']))].shape[0]"
      ],
      "metadata": {
        "colab": {
          "base_uri": "https://localhost:8080/"
        },
        "id": "9snSPsbQrmt7",
        "outputId": "1d56ab84-907d-4dbb-b7bf-dd24c1d674b8"
      },
      "execution_count": 117,
      "outputs": [
        {
          "output_type": "execute_result",
          "data": {
            "text/plain": [
              "12164"
            ]
          },
          "metadata": {},
          "execution_count": 117
        }
      ]
    },
    {
      "cell_type": "markdown",
      "source": [
        "Show a grouped box plot per month with the profit values."
      ],
      "metadata": {
        "id": "s2EMOpVF40FU"
      }
    },
    {
      "cell_type": "code",
      "source": [
        "profit_2016 = sales.loc[sales['Year']==2016,['Month','Profit']]\n",
        "profit_2016.boxplot(by='Month')"
      ],
      "metadata": {
        "colab": {
          "base_uri": "https://localhost:8080/",
          "height": 495
        },
        "id": "rsPiEQj7rmwS",
        "outputId": "ee016fda-0a70-4dc8-f060-55a3bb305cea"
      },
      "execution_count": 124,
      "outputs": [
        {
          "output_type": "execute_result",
          "data": {
            "text/plain": [
              "<Axes: title={'center': 'Profit'}, xlabel='[Month]'>"
            ]
          },
          "metadata": {},
          "execution_count": 124
        },
        {
          "output_type": "display_data",
          "data": {
            "text/plain": [
              "<Figure size 640x480 with 1 Axes>"
            ],
            "image/png": "[encoded data removed]"
          },
          "metadata": {}
        }
      ]
    },
    {
      "cell_type": "markdown",
      "source": [
        "##What is the mean Order_Quantity of orders with less than 10K in revenue?"
      ],
      "metadata": {
        "id": "V_gsxzAe5u7B"
      }
    },
    {
      "cell_type": "code",
      "source": [
        "sales.loc[(sales['Revenue']<10000),'Order_Quantity'].mean()"
      ],
      "metadata": {
        "colab": {
          "base_uri": "https://localhost:8080/"
        },
        "id": "EecIAFXSrmy2",
        "outputId": "8dbc82eb-8e4e-4b4c-8a0c-49df95989f22"
      },
      "execution_count": 129,
      "outputs": [
        {
          "output_type": "execute_result",
          "data": {
            "text/plain": [
              "np.float64(11.913907519469818)"
            ]
          },
          "metadata": {},
          "execution_count": 129
        }
      ]
    }
  ]
}